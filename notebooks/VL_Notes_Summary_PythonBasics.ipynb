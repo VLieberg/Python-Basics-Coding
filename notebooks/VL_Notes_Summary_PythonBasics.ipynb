{
 "cells": [
  {
   "cell_type": "markdown",
   "id": "c5bc74bb",
   "metadata": {},
   "source": [
    "VL Notes on Python Basics"
   ]
  },
  {
   "cell_type": "markdown",
   "id": "a9fc2a45",
   "metadata": {},
   "source": [
    "# Class 01"
   ]
  },
  {
   "cell_type": "markdown",
   "id": "255daaa9",
   "metadata": {},
   "source": [
    "## Data types"
   ]
  },
  {
   "cell_type": "code",
   "execution_count": 30,
   "id": "41389e3e",
   "metadata": {},
   "outputs": [
    {
     "name": "stdout",
     "output_type": "stream",
     "text": [
      "Variables are now defined!\n"
     ]
    }
   ],
   "source": [
    "pi = 3.14\n",
    "food = 'pizza'\n",
    "colors = ['red', 'blue', 'yellow']\n",
    "user_profile = {'email': 'buffy@gmail.com', 'age': 19, 'password': 'hunter2', 'profession': 'Vampire Slayer' }\n",
    "shapes = ('square', 'round', 'hexagonic')\n",
    "age = 25\n",
    "age_valid = (age < 18)\n",
    "print(\"Variables are now defined!\")"
   ]
  },
  {
   "cell_type": "code",
   "execution_count": 31,
   "id": "3f0d4ebe",
   "metadata": {},
   "outputs": [],
   "source": [
    "# $DELETE_BEGIN\n",
    "pi_type = float\n",
    "food_type = str\n",
    "colors_type = list\n",
    "user_profile_type = dict\n",
    "shapes_type = tuple\n",
    "age_valid_type = bool\n",
    "# $DELETE_END"
   ]
  },
  {
   "cell_type": "code",
   "execution_count": 33,
   "id": "829280d5",
   "metadata": {},
   "outputs": [
    {
     "data": {
      "text/plain": [
       "True"
      ]
     },
     "execution_count": 33,
     "metadata": {},
     "output_type": "execute_result"
    }
   ],
   "source": [
    "type(pi) == pi_type \\\n",
    "and type(food) == food_type \\\n",
    "and type(colors) == colors_type \\\n",
    "and type(shapes) == shapes_type \\\n",
    "and type(user_profile) == user_profile_type \\\n",
    "and type(age_valid) == age_valid_type"
   ]
  },
  {
   "cell_type": "markdown",
   "id": "997bfc8e",
   "metadata": {},
   "source": [
    "## Functions"
   ]
  },
  {
   "cell_type": "markdown",
   "id": "1eb17935",
   "metadata": {},
   "source": [
    "### Currencies convertor"
   ]
  },
  {
   "cell_type": "code",
   "execution_count": 35,
   "id": "3e9764a4",
   "metadata": {},
   "outputs": [],
   "source": [
    "# Criando um dicionario com algumas moedas\n",
    "rates = {\n",
    "    \"USDEUR\": 0.85,\n",
    "    \"GBPEUR\": 1.13,\n",
    "    \"CHFEUR\": 0.86,\n",
    "    \"EURGBP\": 0.885\n",
    "}"
   ]
  },
  {
   "cell_type": "code",
   "execution_count": 36,
   "id": "6f121064",
   "metadata": {},
   "outputs": [],
   "source": [
    "def convert(amount, currency):\n",
    "    \"\"\" returns the converted amount in the given currency\n",
    "    amount is a tuple like (100, \"EUR\")\n",
    "    currency is a string\"\"\"\n",
    "    for key, value in rates.items():\n",
    "        if amount[1] == key[0:3] and currency == \"EUR\":\n",
    "            return round(value * amount[0])\n",
    "        if amount[1] == key[3:6] and currency == key[0:3]:\n",
    "            return round(amount[0]/value)\n",
    "    \n",
    "    "
   ]
  },
  {
   "cell_type": "code",
   "execution_count": 37,
   "id": "e8859937",
   "metadata": {},
   "outputs": [],
   "source": [
    "## Testing the function"
   ]
  },
  {
   "cell_type": "code",
   "execution_count": 38,
   "id": "3639cf93",
   "metadata": {},
   "outputs": [
    {
     "data": {
      "text/plain": [
       "85"
      ]
     },
     "execution_count": 38,
     "metadata": {},
     "output_type": "execute_result"
    }
   ],
   "source": [
    "amount = (100, \"USD\")\n",
    "result = convert(amount, \"EUR\")\n",
    "result"
   ]
  },
  {
   "cell_type": "code",
   "execution_count": 39,
   "id": "5b78f8fe",
   "metadata": {},
   "outputs": [
    {
     "data": {
      "text/plain": [
       "172"
      ]
     },
     "execution_count": 39,
     "metadata": {},
     "output_type": "execute_result"
    }
   ],
   "source": [
    "amount = (200, \"CHF\")\n",
    "result_2 = convert(amount, \"EUR\")\n",
    "result_2"
   ]
  },
  {
   "cell_type": "markdown",
   "id": "cdbc9184",
   "metadata": {},
   "source": [
    "### Sum of three"
   ]
  },
  {
   "cell_type": "code",
   "execution_count": 84,
   "id": "ea5534a5",
   "metadata": {},
   "outputs": [],
   "source": [
    "def sum3(numA, numB, numC):\n",
    "    \"\"\"\n",
    "    Takes three numbers and returns the sum of those numbers\n",
    "    \"\"\"\n",
    "    # YOUR CODE HERE\n",
    "    return float(numA) + float(numB) + float(numC)"
   ]
  },
  {
   "cell_type": "code",
   "execution_count": 85,
   "id": "851ff08c",
   "metadata": {},
   "outputs": [
    {
     "data": {
      "text/plain": [
       "9.0"
      ]
     },
     "execution_count": 85,
     "metadata": {},
     "output_type": "execute_result"
    }
   ],
   "source": [
    "sum3(1, 3, 5)"
   ]
  },
  {
   "cell_type": "markdown",
   "id": "bfac114f",
   "metadata": {},
   "source": [
    "## Working with strings"
   ]
  },
  {
   "cell_type": "markdown",
   "id": "3e5ed6a9",
   "metadata": {},
   "source": [
    "### Defining few funstions:"
   ]
  },
  {
   "cell_type": "code",
   "execution_count": 88,
   "id": "dc71f494",
   "metadata": {},
   "outputs": [],
   "source": [
    "def add_comma(a_string):\n",
    "    \"\"\"\n",
    "    returns a copy of the string with every word separated by a comma\n",
    "    example: add_comma(\"John Peter Jude\") => \"John, Peter, Jude\"\n",
    "    \"\"\"\n",
    "    return a_string.replace(\" \", \", \")"
   ]
  },
  {
   "cell_type": "code",
   "execution_count": 89,
   "id": "633a9952",
   "metadata": {},
   "outputs": [
    {
     "data": {
      "text/plain": [
       "'John, Peter, Jude'"
      ]
     },
     "execution_count": 89,
     "metadata": {},
     "output_type": "execute_result"
    }
   ],
   "source": [
    "add_comma(\"John Peter Jude\")"
   ]
  },
  {
   "cell_type": "code",
   "execution_count": 90,
   "id": "366220b6",
   "metadata": {},
   "outputs": [],
   "source": [
    "def belongs_to(a_string, a_word):\n",
    "    \"\"\"\n",
    "    returns True if a_string contains a_word\n",
    "    example: belongs_to(\"hey jude\", \"jude\") => True\n",
    "    \"\"\"\n",
    "    return a_word in a_string"
   ]
  },
  {
   "cell_type": "code",
   "execution_count": 91,
   "id": "ac636362",
   "metadata": {},
   "outputs": [
    {
     "data": {
      "text/plain": [
       "True"
      ]
     },
     "execution_count": 91,
     "metadata": {},
     "output_type": "execute_result"
    }
   ],
   "source": [
    "belongs_to(\"hey jude\", \"jude\")"
   ]
  },
  {
   "cell_type": "code",
   "execution_count": 92,
   "id": "cc931f71",
   "metadata": {},
   "outputs": [],
   "source": [
    "def count_repetition(a_string, a_substring):\n",
    "    \"\"\"\n",
    "    returns how many times a_substring occurs in a_string\n",
    "    example: count_repetition(\"000123000123\", \"0\") => 6\n",
    "    \"\"\"\n",
    "    return a_string.count(a_substring)\n"
   ]
  },
  {
   "cell_type": "code",
   "execution_count": 93,
   "id": "61266bd7",
   "metadata": {},
   "outputs": [
    {
     "data": {
      "text/plain": [
       "6"
      ]
     },
     "execution_count": 93,
     "metadata": {},
     "output_type": "execute_result"
    }
   ],
   "source": [
    "count_repetition(\"000123000123\", \"0\")"
   ]
  },
  {
   "cell_type": "code",
   "execution_count": 94,
   "id": "7af1f7bf",
   "metadata": {},
   "outputs": [],
   "source": [
    "def is_a_question(a_string):\n",
    "    \"\"\"\n",
    "    returns True if a_string ends with a \"?\"\n",
    "    example: is_a_question(\"How are you?\") => True\n",
    "    \"\"\"\n",
    "    return a_string[-1] == \"?\""
   ]
  },
  {
   "cell_type": "code",
   "execution_count": 95,
   "id": "6b31a82d",
   "metadata": {},
   "outputs": [
    {
     "data": {
      "text/plain": [
       "True"
      ]
     },
     "execution_count": 95,
     "metadata": {},
     "output_type": "execute_result"
    }
   ],
   "source": [
    "is_a_question(\"How are you?\")"
   ]
  },
  {
   "cell_type": "code",
   "execution_count": 98,
   "id": "4eb3d0c5",
   "metadata": {},
   "outputs": [],
   "source": [
    "def remove_surrounding_whitespaces(a_string):\n",
    "    \"\"\"\n",
    "    returns a copy of the string with leading and trailing whitespaces removed\n",
    "    example: delete_surrounding_whitespaces(\"  hey yo  \") => \"hey yo\"\n",
    "    \"\"\"\n",
    "    return a_string.strip()"
   ]
  },
  {
   "cell_type": "code",
   "execution_count": 100,
   "id": "efd6b845",
   "metadata": {},
   "outputs": [
    {
     "data": {
      "text/plain": [
       "'hey yo'"
      ]
     },
     "execution_count": 100,
     "metadata": {},
     "output_type": "execute_result"
    }
   ],
   "source": [
    "remove_surrounding_whitespaces(\"  hey yo  \")"
   ]
  },
  {
   "cell_type": "code",
   "execution_count": 101,
   "id": "697da9cd",
   "metadata": {},
   "outputs": [],
   "source": [
    "def replace(initial_string, old_letter, new_letter):\n",
    "    \"\"\"\n",
    "    returns a copy of the string with the new letter replacing the old one\n",
    "    example: replace(\"casanova\", \"a\", \"o\") => \"cosonovo\"\n",
    "    \"\"\"\n",
    "    return initial_string.replace(old_letter,new_letter)"
   ]
  },
  {
   "cell_type": "code",
   "execution_count": 102,
   "id": "a2b28e8f",
   "metadata": {},
   "outputs": [
    {
     "data": {
      "text/plain": [
       "'cosonovo'"
      ]
     },
     "execution_count": 102,
     "metadata": {},
     "output_type": "execute_result"
    }
   ],
   "source": [
    "replace(\"casanova\", \"a\", \"o\")"
   ]
  },
  {
   "cell_type": "code",
   "execution_count": 105,
   "id": "68b55abe",
   "metadata": {},
   "outputs": [],
   "source": [
    "def full_description_concatenation(first_name, last_name, age):\n",
    "    \"\"\"\n",
    "    returns a sentence with the first_name and the last_name capitalized and\n",
    "     the age using concatenation\n",
    "    example: full_description_concatenation(\"john\", \"doe\", 33) => \"John Doe is 33\"\n",
    "    \"\"\"\n",
    "    return f\"{first_name.capitalize()} {last_name.capitalize()} is {age}\""
   ]
  },
  {
   "cell_type": "code",
   "execution_count": 106,
   "id": "d4fbdecc",
   "metadata": {},
   "outputs": [
    {
     "data": {
      "text/plain": [
       "'John Doe is 33'"
      ]
     },
     "execution_count": 106,
     "metadata": {},
     "output_type": "execute_result"
    }
   ],
   "source": [
    "full_description_concatenation(\"john\", \"doe\", 33)"
   ]
  },
  {
   "cell_type": "markdown",
   "id": "af0789a0",
   "metadata": {},
   "source": [
    "## Credit card fundtion"
   ]
  },
  {
   "cell_type": "markdown",
   "id": "eb6a13e6",
   "metadata": {},
   "source": [
    "Create a fuction credit_card_industry which takes one parameter (a str storing a credit card number like \"4242 4242 4242 4242\" for instance) and return one of the following industries:\n",
    "\n",
    "Airline\n",
    "Visa\n",
    "Mastercard\n",
    "Other"
   ]
  },
  {
   "cell_type": "code",
   "execution_count": 47,
   "id": "dd6986a5",
   "metadata": {},
   "outputs": [],
   "source": [
    "def credit_card_industry(Credit_card):\n",
    "    first_digit = int(Credit_card[0])\n",
    "    if first_digit == 1:\n",
    "        return \"Airline\"\n",
    "    elif first_digit == 2:\n",
    "        return \"Mastercard\"\n",
    "    elif first_digit == 3:\n",
    "        return \"American Express\"\n",
    "    elif first_digit == 4:\n",
    "        return \"Visa\"\n",
    "    elif first_digit == 5:\n",
    "        return \"Mastercard\"\n",
    "    else:\n",
    "        return \"Other\"\n",
    "        "
   ]
  },
  {
   "cell_type": "code",
   "execution_count": 48,
   "id": "5769f8be",
   "metadata": {},
   "outputs": [
    {
     "data": {
      "text/plain": [
       "'Visa'"
      ]
     },
     "execution_count": 48,
     "metadata": {},
     "output_type": "execute_result"
    }
   ],
   "source": [
    "credit_card_industry(\"4242 4242 4242 4242\")"
   ]
  },
  {
   "cell_type": "markdown",
   "id": "3c6577e7",
   "metadata": {},
   "source": [
    "Automating the function of credit card"
   ]
  },
  {
   "cell_type": "code",
   "execution_count": 56,
   "id": "39d33f7c",
   "metadata": {},
   "outputs": [],
   "source": [
    "def credit_card_industry(Credit_card):\n",
    "    mapping = {\n",
    "        \"1\": \"Airline\",\n",
    "        \"2\": \"Mastercard\",\n",
    "        \"4\": \"Visa\",\n",
    "        \"5\": \"Mastercard\"\n",
    "    }\n",
    "    return mapping.get(Credit_card[0], \"Other\")"
   ]
  },
  {
   "cell_type": "code",
   "execution_count": 57,
   "id": "fd49a759",
   "metadata": {},
   "outputs": [
    {
     "data": {
      "text/plain": [
       "'Visa'"
      ]
     },
     "execution_count": 57,
     "metadata": {},
     "output_type": "execute_result"
    }
   ],
   "source": [
    "credit_card_industry(\"4242 4242 4242 4242\")"
   ]
  },
  {
   "cell_type": "markdown",
   "id": "3117fe56",
   "metadata": {},
   "source": [
    "## Lists"
   ]
  },
  {
   "cell_type": "code",
   "execution_count": 58,
   "id": "27d86d6f",
   "metadata": {},
   "outputs": [
    {
     "name": "stdout",
     "output_type": "stream",
     "text": [
      "['drama', 'thriler', 'action']\n"
     ]
    }
   ],
   "source": [
    "genres = [ 'drama', 'thriler', 'action' ]\n",
    "print(genres)"
   ]
  },
  {
   "cell_type": "code",
   "execution_count": 59,
   "id": "97c898c1",
   "metadata": {},
   "outputs": [
    {
     "name": "stdout",
     "output_type": "stream",
     "text": [
      "['drama', 'thriler', 'action', 'comedy']\n"
     ]
    }
   ],
   "source": [
    "genres.append('comedy')\n",
    "print(genres)"
   ]
  },
  {
   "cell_type": "code",
   "execution_count": 60,
   "id": "2e04d92b",
   "metadata": {},
   "outputs": [
    {
     "name": "stdout",
     "output_type": "stream",
     "text": [
      "1 - Action\n",
      "2 - Comedy\n",
      "3 - Drama\n",
      "4 - Thriler\n"
     ]
    }
   ],
   "source": [
    "for index, genre in enumerate(sorted(genres)):\n",
    "    print (f'{index +1} - {genre.capitalize()}')"
   ]
  },
  {
   "cell_type": "markdown",
   "id": "4f63d399",
   "metadata": {},
   "source": [
    "## Dictionaries"
   ]
  },
  {
   "cell_type": "code",
   "execution_count": 62,
   "id": "49f706a8",
   "metadata": {},
   "outputs": [
    {
     "name": "stdout",
     "output_type": "stream",
     "text": [
      "{'year': 1972, 'title': 'The Godfather'}\n"
     ]
    }
   ],
   "source": [
    "movie = {\n",
    "    'year': 1972,\n",
    "    'title': 'The Godfather'\n",
    "}\n",
    "print(movie)"
   ]
  },
  {
   "cell_type": "code",
   "execution_count": 65,
   "id": "b1b62ca7",
   "metadata": {},
   "outputs": [
    {
     "name": "stdout",
     "output_type": "stream",
     "text": [
      "{'year': 1972, 'title': 'The Godfather', 'director': 'Francis Ford Coppola'}\n"
     ]
    }
   ],
   "source": [
    "# Add a director:\n",
    "movie[\"director\"] = \"Francis Ford Coppola\"\n",
    "print (movie)"
   ]
  },
  {
   "cell_type": "code",
   "execution_count": 68,
   "id": "a49e6696",
   "metadata": {},
   "outputs": [
    {
     "data": {
      "text/plain": [
       "[{'year': 1972, 'title': 'The Godfather', 'director': 'Francis Ford Coppola'},\n",
       " {'title': 'The Dark Knight', 'year': 2008, 'director': 'Christopher Nolan'},\n",
       " {'title': 'The Matrix ', 'year': 1999, 'director': 'The Wachowski Brothers'}]"
      ]
     },
     "execution_count": 68,
     "metadata": {},
     "output_type": "execute_result"
    }
   ],
   "source": [
    "movies = []\n",
    "\n",
    "#Add the movie above\n",
    "movies.append(movie)\n",
    "\n",
    "# Add new movies to the list:\n",
    "movies.append({ 'title': 'The Dark Knight', 'year': 2008, 'director': 'Christopher Nolan' })\n",
    "movies.append({ 'title': 'The Matrix ', 'year': 1999, 'director': 'The Wachowski Brothers' })\n",
    "\n",
    "movies"
   ]
  },
  {
   "cell_type": "code",
   "execution_count": 73,
   "id": "9e139d54",
   "metadata": {},
   "outputs": [
    {
     "name": "stdout",
     "output_type": "stream",
     "text": [
      "The Godfather by Francis Ford Coppola was released in 1972\n",
      "The Dark Knight by Christopher Nolan was released in 2008\n",
      "The Matrix  by The Wachowski Brothers was released in 1999\n"
     ]
    }
   ],
   "source": [
    "# Print movies {name} + {director} + {year}\n",
    "\n",
    "for movie in movies:\n",
    "    print (f\"\"\"{movie['title']} by {movie['director']} was released in {movie['year']}\"\"\")\n",
    "    \n",
    "    \n",
    "    "
   ]
  },
  {
   "cell_type": "markdown",
   "id": "0e0cc60b",
   "metadata": {},
   "source": [
    "## Dictionaries plus Lists"
   ]
  },
  {
   "cell_type": "code",
   "execution_count": 74,
   "id": "7d1628cc",
   "metadata": {},
   "outputs": [
    {
     "name": "stdout",
     "output_type": "stream",
     "text": [
      "movie is defined!\n"
     ]
    }
   ],
   "source": [
    "# Getting to know the items in the dictionary\n",
    "\n",
    "movie = {\n",
    "    'title': { 'en': 'The Dark Knight', 'fr': 'Le Chevalier Noir' },\n",
    "    'year': 2008,\n",
    "    'director': 'Christopher Nolan',\n",
    "    'rating': 'PG-13',\n",
    "    'plot': {\n",
    "        'en': 'The Batman is out for blood',\n",
    "        'fr': 'Batman est de retour, plus vénère que jamais'\n",
    "    },\n",
    "    'box office USD': {'USA': 535_234_033, 'rest_of_world': 469_700_000 },\n",
    "    'actors': {\n",
    "        'lead': ['Christian Bale', 'Heath Ledger'],\n",
    "        'support': ['Aaron Eckhardt', 'Morgan Freeman', 'Gary Oldman', 'Maggie Gyllenhaal' ]\n",
    "    }\n",
    "}\n",
    "print(\"movie is defined!\")\n"
   ]
  },
  {
   "cell_type": "code",
   "execution_count": 75,
   "id": "ec9ad049",
   "metadata": {},
   "outputs": [
    {
     "data": {
      "text/plain": [
       "'Le Chevalier Noir'"
      ]
     },
     "execution_count": 75,
     "metadata": {},
     "output_type": "execute_result"
    }
   ],
   "source": [
    "movie['title']['fr']"
   ]
  },
  {
   "cell_type": "code",
   "execution_count": 76,
   "id": "93e9cfa4",
   "metadata": {},
   "outputs": [
    {
     "data": {
      "text/plain": [
       "'Batman est de retour, plus vénère que jamais'"
      ]
     },
     "execution_count": 76,
     "metadata": {},
     "output_type": "execute_result"
    }
   ],
   "source": [
    "movie['plot']['fr']"
   ]
  },
  {
   "cell_type": "code",
   "execution_count": 80,
   "id": "82b18d3c",
   "metadata": {},
   "outputs": [
    {
     "data": {
      "text/plain": [
       "{'lead': ['Christian Bale', 'Heath Ledger'],\n",
       " 'support': ['Aaron Eckhardt',\n",
       "  'Morgan Freeman',\n",
       "  'Gary Oldman',\n",
       "  'Maggie Gyllenhaal']}"
      ]
     },
     "execution_count": 80,
     "metadata": {},
     "output_type": "execute_result"
    }
   ],
   "source": [
    "# Extract 1 list with all the actors\n",
    "\n",
    "# If we select only movies we have a dictionary not a list!!!\n",
    "movie['actors']"
   ]
  },
  {
   "cell_type": "code",
   "execution_count": 81,
   "id": "8f05f0cc",
   "metadata": {},
   "outputs": [
    {
     "data": {
      "text/plain": [
       "['Christian Bale',\n",
       " 'Heath Ledger',\n",
       " 'Aaron Eckhardt',\n",
       " 'Morgan Freeman',\n",
       " 'Gary Oldman',\n",
       " 'Maggie Gyllenhaal']"
      ]
     },
     "execution_count": 81,
     "metadata": {},
     "output_type": "execute_result"
    }
   ],
   "source": [
    "# in order to get the list of actors, we need to go 1 step further\n",
    "\n",
    "movie['actors']['lead']+movie['actors']['support']\n"
   ]
  },
  {
   "cell_type": "markdown",
   "id": "39bc069b",
   "metadata": {},
   "source": [
    "# Data Sourcing"
   ]
  },
  {
   "cell_type": "markdown",
   "id": "433c5f1b",
   "metadata": {},
   "source": [
    "## CSV"
   ]
  },
  {
   "cell_type": "code",
   "execution_count": 112,
   "id": "ac998134",
   "metadata": {},
   "outputs": [
    {
     "name": "stdout",
     "output_type": "stream",
     "text": [
      "/Users/vanessalieberg/code/Megeve2022/data-challenges/01-Python\r\n"
     ]
    }
   ],
   "source": [
    "!pwd"
   ]
  },
  {
   "cell_type": "code",
   "execution_count": 113,
   "id": "d1873866",
   "metadata": {},
   "outputs": [
    {
     "name": "stdout",
     "output_type": "stream",
     "text": [
      "Lennon: 123\n",
      "Harrisson: 456\n",
      "Starr: 789\n",
      "---\n"
     ]
    }
   ],
   "source": [
    "import csv\n",
    "\n",
    "# First version\n",
    "with open('02-Data-Sourcing/01-CSV/data/phone_book.csv', mode='r') as csv_file:\n",
    "    csv_reader = csv.reader(csv_file)\n",
    "    line_count = 0\n",
    "    for row in csv_reader:\n",
    "        if line_count > 0:\n",
    "            print(f\"{row[1]}: {row[2]}\")\n",
    "        line_count += 1\n",
    "\n",
    "print(\"---\")"
   ]
  },
  {
   "cell_type": "code",
   "execution_count": 117,
   "id": "61a687f6",
   "metadata": {},
   "outputs": [
    {
     "name": "stdout",
     "output_type": "stream",
     "text": [
      "Lennon: 123\n",
      "Harrisson: 456\n",
      "Starr: 789\n"
     ]
    }
   ],
   "source": [
    "# Importing as dictionary\n",
    "\n",
    "with open(\"02-Data-Sourcing/01-CSV/data/phone_book.csv\", mode=\"r\") as csv_file:\n",
    "    csv_reader = csv.DictReader(csv_file)\n",
    "    for row in csv_reader:\n",
    "        print (f\"{row['last_name']}: {row['phone_number']}\")\n"
   ]
  },
  {
   "cell_type": "code",
   "execution_count": null,
   "id": "4c8ee378",
   "metadata": {},
   "outputs": [],
   "source": []
  },
  {
   "cell_type": "code",
   "execution_count": null,
   "id": "ce7c8440",
   "metadata": {},
   "outputs": [],
   "source": []
  },
  {
   "cell_type": "code",
   "execution_count": null,
   "id": "7aa0a0aa",
   "metadata": {},
   "outputs": [],
   "source": []
  },
  {
   "cell_type": "markdown",
   "id": "990fa7e9",
   "metadata": {},
   "source": [
    "# Matrix"
   ]
  },
  {
   "cell_type": "markdown",
   "id": "7fde5d77",
   "metadata": {},
   "source": [
    "Matrix using numpy as np"
   ]
  },
  {
   "cell_type": "code",
   "execution_count": 124,
   "id": "faf05af0",
   "metadata": {},
   "outputs": [
    {
     "data": {
      "text/plain": [
       "array([ 0,  1,  2,  3,  4,  5,  6,  7,  8,  9, 10, 11, 12, 13, 14, 15, 16,\n",
       "       17, 18, 19, 20, 21, 22, 23])"
      ]
     },
     "execution_count": 124,
     "metadata": {},
     "output_type": "execute_result"
    }
   ],
   "source": [
    "import numpy as np\n",
    "import pandas as pd\n",
    "\n",
    "a1 = np.arange(24)\n",
    "a1"
   ]
  },
  {
   "cell_type": "code",
   "execution_count": 128,
   "id": "b02f929d",
   "metadata": {},
   "outputs": [
    {
     "data": {
      "text/html": [
       "<div>\n",
       "<style scoped>\n",
       "    .dataframe tbody tr th:only-of-type {\n",
       "        vertical-align: middle;\n",
       "    }\n",
       "\n",
       "    .dataframe tbody tr th {\n",
       "        vertical-align: top;\n",
       "    }\n",
       "\n",
       "    .dataframe thead th {\n",
       "        text-align: right;\n",
       "    }\n",
       "</style>\n",
       "<table border=\"1\" class=\"dataframe\">\n",
       "  <thead>\n",
       "    <tr style=\"text-align: right;\">\n",
       "      <th></th>\n",
       "      <th>0</th>\n",
       "    </tr>\n",
       "  </thead>\n",
       "  <tbody>\n",
       "    <tr>\n",
       "      <th>0</th>\n",
       "      <td>0</td>\n",
       "    </tr>\n",
       "    <tr>\n",
       "      <th>1</th>\n",
       "      <td>1</td>\n",
       "    </tr>\n",
       "    <tr>\n",
       "      <th>2</th>\n",
       "      <td>2</td>\n",
       "    </tr>\n",
       "    <tr>\n",
       "      <th>3</th>\n",
       "      <td>3</td>\n",
       "    </tr>\n",
       "    <tr>\n",
       "      <th>4</th>\n",
       "      <td>4</td>\n",
       "    </tr>\n",
       "    <tr>\n",
       "      <th>5</th>\n",
       "      <td>5</td>\n",
       "    </tr>\n",
       "    <tr>\n",
       "      <th>6</th>\n",
       "      <td>6</td>\n",
       "    </tr>\n",
       "    <tr>\n",
       "      <th>7</th>\n",
       "      <td>7</td>\n",
       "    </tr>\n",
       "    <tr>\n",
       "      <th>8</th>\n",
       "      <td>8</td>\n",
       "    </tr>\n",
       "    <tr>\n",
       "      <th>9</th>\n",
       "      <td>9</td>\n",
       "    </tr>\n",
       "    <tr>\n",
       "      <th>10</th>\n",
       "      <td>10</td>\n",
       "    </tr>\n",
       "    <tr>\n",
       "      <th>11</th>\n",
       "      <td>11</td>\n",
       "    </tr>\n",
       "    <tr>\n",
       "      <th>12</th>\n",
       "      <td>12</td>\n",
       "    </tr>\n",
       "    <tr>\n",
       "      <th>13</th>\n",
       "      <td>13</td>\n",
       "    </tr>\n",
       "    <tr>\n",
       "      <th>14</th>\n",
       "      <td>14</td>\n",
       "    </tr>\n",
       "    <tr>\n",
       "      <th>15</th>\n",
       "      <td>15</td>\n",
       "    </tr>\n",
       "    <tr>\n",
       "      <th>16</th>\n",
       "      <td>16</td>\n",
       "    </tr>\n",
       "    <tr>\n",
       "      <th>17</th>\n",
       "      <td>17</td>\n",
       "    </tr>\n",
       "    <tr>\n",
       "      <th>18</th>\n",
       "      <td>18</td>\n",
       "    </tr>\n",
       "    <tr>\n",
       "      <th>19</th>\n",
       "      <td>19</td>\n",
       "    </tr>\n",
       "    <tr>\n",
       "      <th>20</th>\n",
       "      <td>20</td>\n",
       "    </tr>\n",
       "    <tr>\n",
       "      <th>21</th>\n",
       "      <td>21</td>\n",
       "    </tr>\n",
       "    <tr>\n",
       "      <th>22</th>\n",
       "      <td>22</td>\n",
       "    </tr>\n",
       "    <tr>\n",
       "      <th>23</th>\n",
       "      <td>23</td>\n",
       "    </tr>\n",
       "  </tbody>\n",
       "</table>\n",
       "</div>"
      ],
      "text/plain": [
       "     0\n",
       "0    0\n",
       "1    1\n",
       "2    2\n",
       "3    3\n",
       "4    4\n",
       "5    5\n",
       "6    6\n",
       "7    7\n",
       "8    8\n",
       "9    9\n",
       "10  10\n",
       "11  11\n",
       "12  12\n",
       "13  13\n",
       "14  14\n",
       "15  15\n",
       "16  16\n",
       "17  17\n",
       "18  18\n",
       "19  19\n",
       "20  20\n",
       "21  21\n",
       "22  22\n",
       "23  23"
      ]
     },
     "execution_count": 128,
     "metadata": {},
     "output_type": "execute_result"
    }
   ],
   "source": [
    "# Tranforming the matrix a1 into a pandas DataFrame for better viewing\n",
    "matrix_df = pd.DataFrame(a1)\n",
    "matrix_df"
   ]
  },
  {
   "cell_type": "code",
   "execution_count": 120,
   "id": "fdbfc9f7",
   "metadata": {},
   "outputs": [
    {
     "data": {
      "text/plain": [
       "(24,)"
      ]
     },
     "execution_count": 120,
     "metadata": {},
     "output_type": "execute_result"
    }
   ],
   "source": [
    "a1.shape"
   ]
  },
  {
   "cell_type": "code",
   "execution_count": 122,
   "id": "910d97b4",
   "metadata": {},
   "outputs": [
    {
     "data": {
      "text/plain": [
       "1"
      ]
     },
     "execution_count": 122,
     "metadata": {},
     "output_type": "execute_result"
    }
   ],
   "source": [
    "a1.ndim"
   ]
  },
  {
   "cell_type": "code",
   "execution_count": 123,
   "id": "1bd7e6b6",
   "metadata": {},
   "outputs": [
    {
     "data": {
      "text/plain": [
       "0"
      ]
     },
     "execution_count": 123,
     "metadata": {},
     "output_type": "execute_result"
    }
   ],
   "source": [
    "a1[0]"
   ]
  },
  {
   "cell_type": "code",
   "execution_count": 129,
   "id": "798c3064",
   "metadata": {},
   "outputs": [
    {
     "data": {
      "text/plain": [
       "array([[ 0,  1,  2,  3,  4,  5,  6,  7,  8,  9, 10, 11, 12, 13, 14, 15,\n",
       "        16, 17, 18, 19, 20, 21, 22, 23]])"
      ]
     },
     "execution_count": 129,
     "metadata": {},
     "output_type": "execute_result"
    }
   ],
   "source": [
    "# Reshape a matrix\n",
    "a1.reshape(1,24)"
   ]
  },
  {
   "cell_type": "code",
   "execution_count": 131,
   "id": "11ca1bdc",
   "metadata": {},
   "outputs": [
    {
     "data": {
      "text/html": [
       "<div>\n",
       "<style scoped>\n",
       "    .dataframe tbody tr th:only-of-type {\n",
       "        vertical-align: middle;\n",
       "    }\n",
       "\n",
       "    .dataframe tbody tr th {\n",
       "        vertical-align: top;\n",
       "    }\n",
       "\n",
       "    .dataframe thead th {\n",
       "        text-align: right;\n",
       "    }\n",
       "</style>\n",
       "<table border=\"1\" class=\"dataframe\">\n",
       "  <thead>\n",
       "    <tr style=\"text-align: right;\">\n",
       "      <th></th>\n",
       "      <th>0</th>\n",
       "      <th>1</th>\n",
       "      <th>2</th>\n",
       "      <th>3</th>\n",
       "      <th>4</th>\n",
       "      <th>5</th>\n",
       "      <th>6</th>\n",
       "      <th>7</th>\n",
       "      <th>8</th>\n",
       "      <th>9</th>\n",
       "      <th>...</th>\n",
       "      <th>14</th>\n",
       "      <th>15</th>\n",
       "      <th>16</th>\n",
       "      <th>17</th>\n",
       "      <th>18</th>\n",
       "      <th>19</th>\n",
       "      <th>20</th>\n",
       "      <th>21</th>\n",
       "      <th>22</th>\n",
       "      <th>23</th>\n",
       "    </tr>\n",
       "  </thead>\n",
       "  <tbody>\n",
       "    <tr>\n",
       "      <th>0</th>\n",
       "      <td>0</td>\n",
       "      <td>1</td>\n",
       "      <td>2</td>\n",
       "      <td>3</td>\n",
       "      <td>4</td>\n",
       "      <td>5</td>\n",
       "      <td>6</td>\n",
       "      <td>7</td>\n",
       "      <td>8</td>\n",
       "      <td>9</td>\n",
       "      <td>...</td>\n",
       "      <td>14</td>\n",
       "      <td>15</td>\n",
       "      <td>16</td>\n",
       "      <td>17</td>\n",
       "      <td>18</td>\n",
       "      <td>19</td>\n",
       "      <td>20</td>\n",
       "      <td>21</td>\n",
       "      <td>22</td>\n",
       "      <td>23</td>\n",
       "    </tr>\n",
       "  </tbody>\n",
       "</table>\n",
       "<p>1 rows × 24 columns</p>\n",
       "</div>"
      ],
      "text/plain": [
       "   0   1   2   3   4   5   6   7   8   9   ...  14  15  16  17  18  19  20  \\\n",
       "0   0   1   2   3   4   5   6   7   8   9  ...  14  15  16  17  18  19  20   \n",
       "\n",
       "   21  22  23  \n",
       "0  21  22  23  \n",
       "\n",
       "[1 rows x 24 columns]"
      ]
     },
     "execution_count": 131,
     "metadata": {},
     "output_type": "execute_result"
    }
   ],
   "source": [
    "matrix_df_reshaped = pd.DataFrame(a1.reshape(1,24))\n",
    "matrix_df_reshaped"
   ]
  },
  {
   "cell_type": "code",
   "execution_count": 134,
   "id": "1e5d86a9",
   "metadata": {},
   "outputs": [
    {
     "data": {
      "text/plain": [
       "2"
      ]
     },
     "execution_count": 134,
     "metadata": {},
     "output_type": "execute_result"
    }
   ],
   "source": [
    "# Matrix changes its dimension to 2!\n",
    "matrix_df_reshaped.ndim"
   ]
  },
  {
   "cell_type": "code",
   "execution_count": 135,
   "id": "1aa77547",
   "metadata": {},
   "outputs": [
    {
     "data": {
      "text/plain": [
       "3"
      ]
     },
     "execution_count": 135,
     "metadata": {},
     "output_type": "execute_result"
    }
   ],
   "source": [
    "# Looking for a value inside the new matrix\n",
    "a1.reshape(1,24)[0,3]"
   ]
  },
  {
   "cell_type": "code",
   "execution_count": 143,
   "id": "868409e6",
   "metadata": {},
   "outputs": [
    {
     "data": {
      "text/plain": [
       "3"
      ]
     },
     "execution_count": 143,
     "metadata": {},
     "output_type": "execute_result"
    }
   ],
   "source": [
    "# Looking into the pandas table\n",
    "matrix_df_reshaped[3][0]"
   ]
  },
  {
   "cell_type": "code",
   "execution_count": 147,
   "id": "21bd7b80",
   "metadata": {},
   "outputs": [
    {
     "data": {
      "text/plain": [
       "array([[ 0],\n",
       "       [ 1],\n",
       "       [ 2],\n",
       "       [ 3],\n",
       "       [ 4],\n",
       "       [ 5],\n",
       "       [ 6],\n",
       "       [ 7],\n",
       "       [ 8],\n",
       "       [ 9],\n",
       "       [10],\n",
       "       [11],\n",
       "       [12],\n",
       "       [13],\n",
       "       [14],\n",
       "       [15],\n",
       "       [16],\n",
       "       [17],\n",
       "       [18],\n",
       "       [19],\n",
       "       [20],\n",
       "       [21],\n",
       "       [22],\n",
       "       [23]])"
      ]
     },
     "execution_count": 147,
     "metadata": {},
     "output_type": "execute_result"
    }
   ],
   "source": [
    "a1.reshape(24,1)"
   ]
  },
  {
   "cell_type": "code",
   "execution_count": 145,
   "id": "ddbc8f2e",
   "metadata": {},
   "outputs": [
    {
     "data": {
      "text/html": [
       "<div>\n",
       "<style scoped>\n",
       "    .dataframe tbody tr th:only-of-type {\n",
       "        vertical-align: middle;\n",
       "    }\n",
       "\n",
       "    .dataframe tbody tr th {\n",
       "        vertical-align: top;\n",
       "    }\n",
       "\n",
       "    .dataframe thead th {\n",
       "        text-align: right;\n",
       "    }\n",
       "</style>\n",
       "<table border=\"1\" class=\"dataframe\">\n",
       "  <thead>\n",
       "    <tr style=\"text-align: right;\">\n",
       "      <th></th>\n",
       "      <th>0</th>\n",
       "    </tr>\n",
       "  </thead>\n",
       "  <tbody>\n",
       "    <tr>\n",
       "      <th>0</th>\n",
       "      <td>0</td>\n",
       "    </tr>\n",
       "    <tr>\n",
       "      <th>1</th>\n",
       "      <td>1</td>\n",
       "    </tr>\n",
       "    <tr>\n",
       "      <th>2</th>\n",
       "      <td>2</td>\n",
       "    </tr>\n",
       "    <tr>\n",
       "      <th>3</th>\n",
       "      <td>3</td>\n",
       "    </tr>\n",
       "    <tr>\n",
       "      <th>4</th>\n",
       "      <td>4</td>\n",
       "    </tr>\n",
       "    <tr>\n",
       "      <th>5</th>\n",
       "      <td>5</td>\n",
       "    </tr>\n",
       "    <tr>\n",
       "      <th>6</th>\n",
       "      <td>6</td>\n",
       "    </tr>\n",
       "    <tr>\n",
       "      <th>7</th>\n",
       "      <td>7</td>\n",
       "    </tr>\n",
       "    <tr>\n",
       "      <th>8</th>\n",
       "      <td>8</td>\n",
       "    </tr>\n",
       "    <tr>\n",
       "      <th>9</th>\n",
       "      <td>9</td>\n",
       "    </tr>\n",
       "    <tr>\n",
       "      <th>10</th>\n",
       "      <td>10</td>\n",
       "    </tr>\n",
       "    <tr>\n",
       "      <th>11</th>\n",
       "      <td>11</td>\n",
       "    </tr>\n",
       "    <tr>\n",
       "      <th>12</th>\n",
       "      <td>12</td>\n",
       "    </tr>\n",
       "    <tr>\n",
       "      <th>13</th>\n",
       "      <td>13</td>\n",
       "    </tr>\n",
       "    <tr>\n",
       "      <th>14</th>\n",
       "      <td>14</td>\n",
       "    </tr>\n",
       "    <tr>\n",
       "      <th>15</th>\n",
       "      <td>15</td>\n",
       "    </tr>\n",
       "    <tr>\n",
       "      <th>16</th>\n",
       "      <td>16</td>\n",
       "    </tr>\n",
       "    <tr>\n",
       "      <th>17</th>\n",
       "      <td>17</td>\n",
       "    </tr>\n",
       "    <tr>\n",
       "      <th>18</th>\n",
       "      <td>18</td>\n",
       "    </tr>\n",
       "    <tr>\n",
       "      <th>19</th>\n",
       "      <td>19</td>\n",
       "    </tr>\n",
       "    <tr>\n",
       "      <th>20</th>\n",
       "      <td>20</td>\n",
       "    </tr>\n",
       "    <tr>\n",
       "      <th>21</th>\n",
       "      <td>21</td>\n",
       "    </tr>\n",
       "    <tr>\n",
       "      <th>22</th>\n",
       "      <td>22</td>\n",
       "    </tr>\n",
       "    <tr>\n",
       "      <th>23</th>\n",
       "      <td>23</td>\n",
       "    </tr>\n",
       "  </tbody>\n",
       "</table>\n",
       "</div>"
      ],
      "text/plain": [
       "     0\n",
       "0    0\n",
       "1    1\n",
       "2    2\n",
       "3    3\n",
       "4    4\n",
       "5    5\n",
       "6    6\n",
       "7    7\n",
       "8    8\n",
       "9    9\n",
       "10  10\n",
       "11  11\n",
       "12  12\n",
       "13  13\n",
       "14  14\n",
       "15  15\n",
       "16  16\n",
       "17  17\n",
       "18  18\n",
       "19  19\n",
       "20  20\n",
       "21  21\n",
       "22  22\n",
       "23  23"
      ]
     },
     "execution_count": 145,
     "metadata": {},
     "output_type": "execute_result"
    }
   ],
   "source": [
    "matrix_df_3 = pd.DataFrame(a1.reshape(24,1))\n",
    "matrix_df_3"
   ]
  },
  {
   "cell_type": "code",
   "execution_count": null,
   "id": "6e7993f6",
   "metadata": {},
   "outputs": [],
   "source": []
  },
  {
   "cell_type": "code",
   "execution_count": null,
   "id": "138ad19d",
   "metadata": {},
   "outputs": [],
   "source": []
  },
  {
   "cell_type": "code",
   "execution_count": null,
   "id": "ad932cc4",
   "metadata": {},
   "outputs": [],
   "source": []
  },
  {
   "cell_type": "code",
   "execution_count": null,
   "id": "28e473d1",
   "metadata": {},
   "outputs": [],
   "source": []
  },
  {
   "cell_type": "code",
   "execution_count": null,
   "id": "622b446e",
   "metadata": {},
   "outputs": [],
   "source": []
  },
  {
   "cell_type": "code",
   "execution_count": null,
   "id": "3db06583",
   "metadata": {},
   "outputs": [],
   "source": []
  }
 ],
 "metadata": {
  "kernelspec": {
   "display_name": "Python 3 (ipykernel)",
   "language": "python",
   "name": "python3"
  },
  "language_info": {
   "codemirror_mode": {
    "name": "ipython",
    "version": 3
   },
   "file_extension": ".py",
   "mimetype": "text/x-python",
   "name": "python",
   "nbconvert_exporter": "python",
   "pygments_lexer": "ipython3",
   "version": "3.8.12"
  },
  "toc": {
   "base_numbering": 1,
   "nav_menu": {},
   "number_sections": true,
   "sideBar": true,
   "skip_h1_title": false,
   "title_cell": "Table of Contents",
   "title_sidebar": "Contents",
   "toc_cell": false,
   "toc_position": {},
   "toc_section_display": true,
   "toc_window_display": false
  }
 },
 "nbformat": 4,
 "nbformat_minor": 5
}
