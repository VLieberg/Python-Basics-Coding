{
 "cells": [
  {
   "cell_type": "markdown",
   "id": "a68395fe",
   "metadata": {},
   "source": [
    "**Pandas Tutorial**"
   ]
  },
  {
   "cell_type": "markdown",
   "id": "da1aa7bc",
   "metadata": {},
   "source": [
    "Pandas provides numerous tools to work with tabular data like you'd find in spreadsheets or databases. It is widely used for data preparation, cleaning, and analysis. It can work with a wide variety of data and provides many visualization options. It is built on top of NumPy."
   ]
  },
  {
   "cell_type": "markdown",
   "id": "3d14db59",
   "metadata": {},
   "source": [
    "Imports"
   ]
  },
  {
   "cell_type": "code",
   "execution_count": 1,
   "id": "1b2cd4bc",
   "metadata": {},
   "outputs": [],
   "source": [
    "import numpy as np\n",
    "import pandas as pd\n",
    "from numpy import random"
   ]
  },
  {
   "cell_type": "markdown",
   "id": "129275c2",
   "metadata": {},
   "source": [
    "# **Series**"
   ]
  },
  {
   "cell_type": "code",
   "execution_count": 2,
   "id": "8ff8909d",
   "metadata": {},
   "outputs": [
    {
     "data": {
      "text/plain": [
       "1    a\n",
       "2    b\n",
       "3    c\n",
       "4    d\n",
       "dtype: object"
      ]
     },
     "execution_count": 2,
     "metadata": {},
     "output_type": "execute_result"
    }
   ],
   "source": [
    "# Pandas uses something called a dataframe. It is a \n",
    "# 2D data structure that can hold multiple data types.\n",
    "# Columns have labels.\n",
    "\n",
    "# Series are built on top of NumPy arrays. \n",
    "# Create a series by first creating a list\n",
    "list_1 = ['a', 'b', 'c', 'd']\n",
    "# I can define that I want the series indexes to be the\n",
    "# provided labels\n",
    "labels = [1, 2, 3, 4]\n",
    "ser_1 = pd.Series(data=list_1, index=labels)\n",
    "ser_1"
   ]
  },
  {
   "cell_type": "code",
   "execution_count": 3,
   "id": "08dce34f",
   "metadata": {},
   "outputs": [
    {
     "data": {
      "text/plain": [
       "array([1, 2, 3, 4])"
      ]
     },
     "execution_count": 3,
     "metadata": {},
     "output_type": "execute_result"
    }
   ],
   "source": [
    "# You can also add a NumPy array\n",
    "arr_1 = np.array([1, 2, 3, 4])\n",
    "arr_1"
   ]
  },
  {
   "cell_type": "code",
   "execution_count": 4,
   "id": "b200ccf2",
   "metadata": {},
   "outputs": [
    {
     "data": {
      "text/plain": [
       "0    1\n",
       "1    2\n",
       "2    3\n",
       "3    4\n",
       "dtype: int64"
      ]
     },
     "execution_count": 4,
     "metadata": {},
     "output_type": "execute_result"
    }
   ],
   "source": [
    "# Transform into series, it creates an index automatically\n",
    "ser_2 = pd.Series(arr_1)\n",
    "ser_2"
   ]
  },
  {
   "cell_type": "markdown",
   "id": "48bfeec7",
   "metadata": {},
   "source": [
    "*Dictionary*"
   ]
  },
  {
   "cell_type": "code",
   "execution_count": 5,
   "id": "70f4d8ee",
   "metadata": {},
   "outputs": [
    {
     "data": {
      "text/plain": [
       "{'f_name': 'Derek', 'l_name': 'Banas', 'age': 44}"
      ]
     },
     "execution_count": 5,
     "metadata": {},
     "output_type": "execute_result"
    }
   ],
   "source": [
    "# You can quickly add labels and values with a dictionary\n",
    "dict_1 = {\"f_name\": \"Derek\", \"l_name\": \"Banas\", \"age\": 44}\n",
    "dict_1"
   ]
  },
  {
   "cell_type": "code",
   "execution_count": 6,
   "id": "eab16b19",
   "metadata": {},
   "outputs": [
    {
     "data": {
      "text/plain": [
       "f_name    Derek\n",
       "l_name    Banas\n",
       "age          44\n",
       "dtype: object"
      ]
     },
     "execution_count": 6,
     "metadata": {},
     "output_type": "execute_result"
    }
   ],
   "source": [
    "ser_3 = pd.Series(dict_1)\n",
    "ser_3"
   ]
  },
  {
   "cell_type": "code",
   "execution_count": 7,
   "id": "cc933eda",
   "metadata": {},
   "outputs": [
    {
     "data": {
      "text/plain": [
       "'Derek'"
      ]
     },
     "execution_count": 7,
     "metadata": {},
     "output_type": "execute_result"
    }
   ],
   "source": [
    "# Get data by label\n",
    "ser_3['f_name']"
   ]
  },
  {
   "cell_type": "code",
   "execution_count": 8,
   "id": "120502bf",
   "metadata": {},
   "outputs": [
    {
     "data": {
      "text/plain": [
       "(dtype('O'), dtype('int64'), dtype('O'))"
      ]
     },
     "execution_count": 8,
     "metadata": {},
     "output_type": "execute_result"
    }
   ],
   "source": [
    "# You can get the datatype\n",
    "ser_1.dtype, ser_2.dtype, ser_3.dtype"
   ]
  },
  {
   "cell_type": "markdown",
   "id": "38fd7986",
   "metadata": {},
   "source": [
    "## *Simple maths in Series*"
   ]
  },
  {
   "cell_type": "code",
   "execution_count": 9,
   "id": "498f81eb",
   "metadata": {},
   "outputs": [
    {
     "data": {
      "text/plain": [
       "0    2\n",
       "1    4\n",
       "2    6\n",
       "3    8\n",
       "dtype: int64"
      ]
     },
     "execution_count": 9,
     "metadata": {},
     "output_type": "execute_result"
    }
   ],
   "source": [
    "# You can perform math operations on series\n",
    "ser_2 + ser_2"
   ]
  },
  {
   "cell_type": "code",
   "execution_count": 10,
   "id": "f18c4a6b",
   "metadata": {},
   "outputs": [
    {
     "data": {
      "text/plain": [
       "0    0\n",
       "1    0\n",
       "2    0\n",
       "3    0\n",
       "dtype: int64"
      ]
     },
     "execution_count": 10,
     "metadata": {},
     "output_type": "execute_result"
    }
   ],
   "source": [
    "ser_2 - ser_2"
   ]
  },
  {
   "cell_type": "code",
   "execution_count": 11,
   "id": "ab82f45a",
   "metadata": {},
   "outputs": [
    {
     "data": {
      "text/plain": [
       "0     1\n",
       "1     4\n",
       "2     9\n",
       "3    16\n",
       "dtype: int64"
      ]
     },
     "execution_count": 11,
     "metadata": {},
     "output_type": "execute_result"
    }
   ],
   "source": [
    "ser_2 * ser_2"
   ]
  },
  {
   "cell_type": "code",
   "execution_count": 12,
   "id": "1e6047e1",
   "metadata": {},
   "outputs": [
    {
     "data": {
      "text/plain": [
       "0    1.0\n",
       "1    1.0\n",
       "2    1.0\n",
       "3    1.0\n",
       "dtype: float64"
      ]
     },
     "execution_count": 12,
     "metadata": {},
     "output_type": "execute_result"
    }
   ],
   "source": [
    "ser_2 / ser_2"
   ]
  },
  {
   "cell_type": "code",
   "execution_count": 13,
   "id": "6f5debf1",
   "metadata": {},
   "outputs": [
    {
     "data": {
      "text/plain": [
       "0     2.718282\n",
       "1     7.389056\n",
       "2    20.085537\n",
       "3    54.598150\n",
       "dtype: float64"
      ]
     },
     "execution_count": 13,
     "metadata": {},
     "output_type": "execute_result"
    }
   ],
   "source": [
    "np.exp(ser_2)"
   ]
  },
  {
   "cell_type": "code",
   "execution_count": 14,
   "id": "293ac5be",
   "metadata": {},
   "outputs": [],
   "source": [
    "# The difference between Series and ndarray is that operations\n",
    "# align by labels"
   ]
  },
  {
   "cell_type": "code",
   "execution_count": 15,
   "id": "267b6ed8",
   "metadata": {},
   "outputs": [
    {
     "data": {
      "text/plain": [
       "0   NaN\n",
       "1   NaN\n",
       "2   NaN\n",
       "3   NaN\n",
       "4   NaN\n",
       "5   NaN\n",
       "6   NaN\n",
       "7   NaN\n",
       "dtype: float64"
      ]
     },
     "execution_count": 15,
     "metadata": {},
     "output_type": "execute_result"
    }
   ],
   "source": [
    "# Create a series from a dictionary\n",
    "ser_4 = pd.Series({4: 5, 5: 6, 6: 7, 7: 8})\n",
    "# If labels don't align you will get NaN\n",
    "ser_2 + ser_4"
   ]
  },
  {
   "cell_type": "code",
   "execution_count": 16,
   "id": "f1fd67c0",
   "metadata": {},
   "outputs": [
    {
     "data": {
      "text/plain": [
       "8     9\n",
       "9    10\n",
       "Name: rand_nums, dtype: int64"
      ]
     },
     "execution_count": 16,
     "metadata": {},
     "output_type": "execute_result"
    }
   ],
   "source": [
    "# You can assign names to series\n",
    "ser_5 = pd.Series({8: 9, 9: 10}, name='rand_nums')\n",
    "ser_5"
   ]
  },
  {
   "cell_type": "code",
   "execution_count": 17,
   "id": "a2c6a037",
   "metadata": {},
   "outputs": [
    {
     "data": {
      "text/plain": [
       "'rand_nums'"
      ]
     },
     "execution_count": 17,
     "metadata": {},
     "output_type": "execute_result"
    }
   ],
   "source": [
    "ser_5.name"
   ]
  },
  {
   "cell_type": "markdown",
   "id": "f72635c9",
   "metadata": {},
   "source": [
    "# DataFrames"
   ]
  },
  {
   "cell_type": "markdown",
   "id": "352aa882",
   "metadata": {},
   "source": [
    "DataFrames are the most commonly used data structure with Pandas. They are made up of multiple series that share the same index / label. They can contain multiple data types. They can be created from dicts, series, lists or other dataframes."
   ]
  },
  {
   "cell_type": "markdown",
   "id": "77693093",
   "metadata": {},
   "source": [
    "https://pandas.pydata.org/Pandas_Cheat_Sheet.pdf"
   ]
  },
  {
   "cell_type": "markdown",
   "id": "b119adfe",
   "metadata": {},
   "source": [
    "## Creating DataFrames"
   ]
  },
  {
   "cell_type": "code",
   "execution_count": 18,
   "id": "06c39784",
   "metadata": {},
   "outputs": [
    {
     "data": {
      "text/plain": [
       "array([[37, 42, 48],\n",
       "       [37, 32, 25]])"
      ]
     },
     "execution_count": 18,
     "metadata": {},
     "output_type": "execute_result"
    }
   ],
   "source": [
    "# Create random matrix 2x3 with values between 10 and 50\n",
    "arr_2 = np.random.randint(10, 50, size=(2, 3))\n",
    "arr_2"
   ]
  },
  {
   "cell_type": "code",
   "execution_count": 19,
   "id": "4f0492d0",
   "metadata": {},
   "outputs": [
    {
     "data": {
      "text/html": [
       "<div>\n",
       "<style scoped>\n",
       "    .dataframe tbody tr th:only-of-type {\n",
       "        vertical-align: middle;\n",
       "    }\n",
       "\n",
       "    .dataframe tbody tr th {\n",
       "        vertical-align: top;\n",
       "    }\n",
       "\n",
       "    .dataframe thead th {\n",
       "        text-align: right;\n",
       "    }\n",
       "</style>\n",
       "<table border=\"1\" class=\"dataframe\">\n",
       "  <thead>\n",
       "    <tr style=\"text-align: right;\">\n",
       "      <th></th>\n",
       "      <th>C</th>\n",
       "      <th>D</th>\n",
       "      <th>E</th>\n",
       "    </tr>\n",
       "  </thead>\n",
       "  <tbody>\n",
       "    <tr>\n",
       "      <th>A</th>\n",
       "      <td>37</td>\n",
       "      <td>42</td>\n",
       "      <td>48</td>\n",
       "    </tr>\n",
       "    <tr>\n",
       "      <th>B</th>\n",
       "      <td>37</td>\n",
       "      <td>32</td>\n",
       "      <td>25</td>\n",
       "    </tr>\n",
       "  </tbody>\n",
       "</table>\n",
       "</div>"
      ],
      "text/plain": [
       "    C   D   E\n",
       "A  37  42  48\n",
       "B  37  32  25"
      ]
     },
     "execution_count": 19,
     "metadata": {},
     "output_type": "execute_result"
    }
   ],
   "source": [
    "# Create DF with data, row labels & column labels\n",
    "df_1 = pd.DataFrame(arr_2, index = ['A', 'B'], columns=['C', 'D', 'E'] )\n",
    "df_1"
   ]
  },
  {
   "cell_type": "code",
   "execution_count": 20,
   "id": "e8180be2",
   "metadata": {},
   "outputs": [
    {
     "data": {
      "text/html": [
       "<div>\n",
       "<style scoped>\n",
       "    .dataframe tbody tr th:only-of-type {\n",
       "        vertical-align: middle;\n",
       "    }\n",
       "\n",
       "    .dataframe tbody tr th {\n",
       "        vertical-align: top;\n",
       "    }\n",
       "\n",
       "    .dataframe thead th {\n",
       "        text-align: right;\n",
       "    }\n",
       "</style>\n",
       "<table border=\"1\" class=\"dataframe\">\n",
       "  <thead>\n",
       "    <tr style=\"text-align: right;\">\n",
       "      <th></th>\n",
       "      <th>C</th>\n",
       "      <th>D</th>\n",
       "      <th>E</th>\n",
       "    </tr>\n",
       "  </thead>\n",
       "  <tbody>\n",
       "    <tr>\n",
       "      <th>A</th>\n",
       "      <td>37.0</td>\n",
       "      <td>42.0</td>\n",
       "      <td>48.0</td>\n",
       "    </tr>\n",
       "    <tr>\n",
       "      <th>B</th>\n",
       "      <td>37.0</td>\n",
       "      <td>32.0</td>\n",
       "      <td>25.0</td>\n",
       "    </tr>\n",
       "  </tbody>\n",
       "</table>\n",
       "</div>"
      ],
      "text/plain": [
       "      C     D     E\n",
       "A  37.0  42.0  48.0\n",
       "B  37.0  32.0  25.0"
      ]
     },
     "execution_count": 20,
     "metadata": {},
     "output_type": "execute_result"
    }
   ],
   "source": [
    "df_1A = pd.DataFrame(arr_2, index = ['A', 'B'], \n",
    "                    columns=['C', 'D', 'E'],dtype = 'float')\n",
    "df_1A"
   ]
  },
  {
   "cell_type": "code",
   "execution_count": 21,
   "id": "e0809023",
   "metadata": {},
   "outputs": [
    {
     "data": {
      "text/plain": [
       "{'one': a    1.0\n",
       " b    2.0\n",
       " c    3.0\n",
       " dtype: float64,\n",
       " 'two': a    1.0\n",
       " b    2.0\n",
       " c    3.0\n",
       " d    4.0\n",
       " dtype: float64}"
      ]
     },
     "execution_count": 21,
     "metadata": {},
     "output_type": "execute_result"
    }
   ],
   "source": [
    "# Create a DF from multiple series in a dict\n",
    "# If series are of different lengthes extra spaces are NaN\n",
    "dict_3 = {'one': pd.Series([1., 2., 3.], index = ['a', 'b', 'c']),\n",
    "         'two': pd.Series([1., 2., 3., 4.], index=['a', 'b', 'c', 'd'])}\n",
    "dict_3"
   ]
  },
  {
   "cell_type": "code",
   "execution_count": 22,
   "id": "9fde8f74",
   "metadata": {},
   "outputs": [
    {
     "data": {
      "text/html": [
       "<div>\n",
       "<style scoped>\n",
       "    .dataframe tbody tr th:only-of-type {\n",
       "        vertical-align: middle;\n",
       "    }\n",
       "\n",
       "    .dataframe tbody tr th {\n",
       "        vertical-align: top;\n",
       "    }\n",
       "\n",
       "    .dataframe thead th {\n",
       "        text-align: right;\n",
       "    }\n",
       "</style>\n",
       "<table border=\"1\" class=\"dataframe\">\n",
       "  <thead>\n",
       "    <tr style=\"text-align: right;\">\n",
       "      <th></th>\n",
       "      <th>one</th>\n",
       "      <th>two</th>\n",
       "    </tr>\n",
       "  </thead>\n",
       "  <tbody>\n",
       "    <tr>\n",
       "      <th>a</th>\n",
       "      <td>1.0</td>\n",
       "      <td>1.0</td>\n",
       "    </tr>\n",
       "    <tr>\n",
       "      <th>b</th>\n",
       "      <td>2.0</td>\n",
       "      <td>2.0</td>\n",
       "    </tr>\n",
       "    <tr>\n",
       "      <th>c</th>\n",
       "      <td>3.0</td>\n",
       "      <td>3.0</td>\n",
       "    </tr>\n",
       "    <tr>\n",
       "      <th>d</th>\n",
       "      <td>NaN</td>\n",
       "      <td>4.0</td>\n",
       "    </tr>\n",
       "  </tbody>\n",
       "</table>\n",
       "</div>"
      ],
      "text/plain": [
       "   one  two\n",
       "a  1.0  1.0\n",
       "b  2.0  2.0\n",
       "c  3.0  3.0\n",
       "d  NaN  4.0"
      ]
     },
     "execution_count": 22,
     "metadata": {},
     "output_type": "execute_result"
    }
   ],
   "source": [
    "df_2 = pd.DataFrame(dict_3)\n",
    "df_2"
   ]
  },
  {
   "cell_type": "code",
   "execution_count": 23,
   "id": "17d5c437",
   "metadata": {},
   "outputs": [
    {
     "data": {
      "text/plain": [
       "{'A': [1, 2, 3], 'B': [4, 5, 6]}"
      ]
     },
     "execution_count": 23,
     "metadata": {},
     "output_type": "execute_result"
    }
   ],
   "source": [
    "# from_dict accepts a column labels and lists\n",
    "dict_exm = dict([('A', [1,2,3]), ('B', [4,5,6])])\n",
    "dict_exm"
   ]
  },
  {
   "cell_type": "code",
   "execution_count": 24,
   "id": "5d076302",
   "metadata": {},
   "outputs": [
    {
     "data": {
      "text/html": [
       "<div>\n",
       "<style scoped>\n",
       "    .dataframe tbody tr th:only-of-type {\n",
       "        vertical-align: middle;\n",
       "    }\n",
       "\n",
       "    .dataframe tbody tr th {\n",
       "        vertical-align: top;\n",
       "    }\n",
       "\n",
       "    .dataframe thead th {\n",
       "        text-align: right;\n",
       "    }\n",
       "</style>\n",
       "<table border=\"1\" class=\"dataframe\">\n",
       "  <thead>\n",
       "    <tr style=\"text-align: right;\">\n",
       "      <th></th>\n",
       "      <th>A</th>\n",
       "      <th>B</th>\n",
       "    </tr>\n",
       "  </thead>\n",
       "  <tbody>\n",
       "    <tr>\n",
       "      <th>0</th>\n",
       "      <td>1</td>\n",
       "      <td>4</td>\n",
       "    </tr>\n",
       "    <tr>\n",
       "      <th>1</th>\n",
       "      <td>2</td>\n",
       "      <td>5</td>\n",
       "    </tr>\n",
       "    <tr>\n",
       "      <th>2</th>\n",
       "      <td>3</td>\n",
       "      <td>6</td>\n",
       "    </tr>\n",
       "  </tbody>\n",
       "</table>\n",
       "</div>"
      ],
      "text/plain": [
       "   A  B\n",
       "0  1  4\n",
       "1  2  5\n",
       "2  3  6"
      ]
     },
     "execution_count": 24,
     "metadata": {},
     "output_type": "execute_result"
    }
   ],
   "source": [
    "pd.DataFrame.from_dict(dict_exm)"
   ]
  },
  {
   "cell_type": "code",
   "execution_count": 25,
   "id": "b2c9586c",
   "metadata": {},
   "outputs": [
    {
     "data": {
      "text/html": [
       "<div>\n",
       "<style scoped>\n",
       "    .dataframe tbody tr th:only-of-type {\n",
       "        vertical-align: middle;\n",
       "    }\n",
       "\n",
       "    .dataframe tbody tr th {\n",
       "        vertical-align: top;\n",
       "    }\n",
       "\n",
       "    .dataframe thead th {\n",
       "        text-align: right;\n",
       "    }\n",
       "</style>\n",
       "<table border=\"1\" class=\"dataframe\">\n",
       "  <thead>\n",
       "    <tr style=\"text-align: right;\">\n",
       "      <th></th>\n",
       "      <th>one</th>\n",
       "      <th>two</th>\n",
       "      <th>three</th>\n",
       "    </tr>\n",
       "  </thead>\n",
       "  <tbody>\n",
       "    <tr>\n",
       "      <th>A</th>\n",
       "      <td>1</td>\n",
       "      <td>2</td>\n",
       "      <td>3</td>\n",
       "    </tr>\n",
       "    <tr>\n",
       "      <th>B</th>\n",
       "      <td>4</td>\n",
       "      <td>5</td>\n",
       "      <td>5</td>\n",
       "    </tr>\n",
       "  </tbody>\n",
       "</table>\n",
       "</div>"
      ],
      "text/plain": [
       "   one  two  three\n",
       "A    1    2      3\n",
       "B    4    5      5"
      ]
     },
     "execution_count": 25,
     "metadata": {},
     "output_type": "execute_result"
    }
   ],
   "source": [
    "# You can assign the keys as row labels and column labels separate\n",
    "# with orient='index'\n",
    "pd.DataFrame.from_dict(dict([('A',[1,2,3]), ('B', [4,5,5])]), orient = 'index',\n",
    "                      columns = ['one', 'two', 'three'])"
   ]
  },
  {
   "cell_type": "code",
   "execution_count": 26,
   "id": "6d8ef05a",
   "metadata": {},
   "outputs": [
    {
     "data": {
      "text/plain": [
       "((2, 3), (4, 2))"
      ]
     },
     "execution_count": 26,
     "metadata": {},
     "output_type": "execute_result"
    }
   ],
   "source": [
    "# Get number of rows and columns as tuple\n",
    "df_1.shape, df_2.shape"
   ]
  },
  {
   "cell_type": "code",
   "execution_count": 27,
   "id": "8db83c14",
   "metadata": {},
   "outputs": [
    {
     "data": {
      "text/html": [
       "<div>\n",
       "<style scoped>\n",
       "    .dataframe tbody tr th:only-of-type {\n",
       "        vertical-align: middle;\n",
       "    }\n",
       "\n",
       "    .dataframe tbody tr th {\n",
       "        vertical-align: top;\n",
       "    }\n",
       "\n",
       "    .dataframe thead th {\n",
       "        text-align: right;\n",
       "    }\n",
       "</style>\n",
       "<table border=\"1\" class=\"dataframe\">\n",
       "  <thead>\n",
       "    <tr style=\"text-align: right;\">\n",
       "      <th></th>\n",
       "      <th>a</th>\n",
       "      <th>b</th>\n",
       "      <th>c</th>\n",
       "    </tr>\n",
       "  </thead>\n",
       "  <tbody>\n",
       "    <tr>\n",
       "      <th>1</th>\n",
       "      <td>4</td>\n",
       "      <td>7</td>\n",
       "      <td>10</td>\n",
       "    </tr>\n",
       "    <tr>\n",
       "      <th>2</th>\n",
       "      <td>5</td>\n",
       "      <td>8</td>\n",
       "      <td>11</td>\n",
       "    </tr>\n",
       "    <tr>\n",
       "      <th>3</th>\n",
       "      <td>6</td>\n",
       "      <td>9</td>\n",
       "      <td>12</td>\n",
       "    </tr>\n",
       "  </tbody>\n",
       "</table>\n",
       "</div>"
      ],
      "text/plain": [
       "   a  b   c\n",
       "1  4  7  10\n",
       "2  5  8  11\n",
       "3  6  9  12"
      ]
     },
     "execution_count": 27,
     "metadata": {},
     "output_type": "execute_result"
    }
   ],
   "source": [
    "# Multi Index DataFrames\n",
    "df_mult_index = pd.DataFrame({\"a\" : [4, 5, 6],\n",
    "                                \"b\" : [7, 8, 9],\n",
    "                                \"c\" : [10, 11, 12]},\n",
    "                               index = [1, 2, 3])\n",
    "df_mult_index"
   ]
  },
  {
   "cell_type": "code",
   "execution_count": 28,
   "id": "85fb1529",
   "metadata": {},
   "outputs": [
    {
     "data": {
      "text/html": [
       "<div>\n",
       "<style scoped>\n",
       "    .dataframe tbody tr th:only-of-type {\n",
       "        vertical-align: middle;\n",
       "    }\n",
       "\n",
       "    .dataframe tbody tr th {\n",
       "        vertical-align: top;\n",
       "    }\n",
       "\n",
       "    .dataframe thead th {\n",
       "        text-align: right;\n",
       "    }\n",
       "</style>\n",
       "<table border=\"1\" class=\"dataframe\">\n",
       "  <thead>\n",
       "    <tr style=\"text-align: right;\">\n",
       "      <th></th>\n",
       "      <th></th>\n",
       "      <th>a</th>\n",
       "      <th>b</th>\n",
       "      <th>c</th>\n",
       "    </tr>\n",
       "    <tr>\n",
       "      <th>n</th>\n",
       "      <th>v</th>\n",
       "      <th></th>\n",
       "      <th></th>\n",
       "      <th></th>\n",
       "    </tr>\n",
       "  </thead>\n",
       "  <tbody>\n",
       "    <tr>\n",
       "      <th rowspan=\"2\" valign=\"top\">d</th>\n",
       "      <th>1</th>\n",
       "      <td>4</td>\n",
       "      <td>7</td>\n",
       "      <td>10</td>\n",
       "    </tr>\n",
       "    <tr>\n",
       "      <th>2</th>\n",
       "      <td>5</td>\n",
       "      <td>8</td>\n",
       "      <td>11</td>\n",
       "    </tr>\n",
       "    <tr>\n",
       "      <th>e</th>\n",
       "      <th>4</th>\n",
       "      <td>6</td>\n",
       "      <td>9</td>\n",
       "      <td>12</td>\n",
       "    </tr>\n",
       "  </tbody>\n",
       "</table>\n",
       "</div>"
      ],
      "text/plain": [
       "     a  b   c\n",
       "n v          \n",
       "d 1  4  7  10\n",
       "  2  5  8  11\n",
       "e 4  6  9  12"
      ]
     },
     "execution_count": 28,
     "metadata": {},
     "output_type": "execute_result"
    }
   ],
   "source": [
    "df_mult_index_2 = pd.DataFrame({\"a\" : [4, 5, 6], \"b\" : [7, 8, 9],\"c\" : [10, 11, 12]},\n",
    "                               index = pd.MultiIndex.from_tuples([('d', 1), \n",
    "                                                                  ('d', 2),\n",
    "                                                                  ('e', 4)], \n",
    "                                                                 names=['n', 'v']))\n",
    "df_mult_index_2"
   ]
  },
  {
   "cell_type": "markdown",
   "id": "e9c2cc5f",
   "metadata": {},
   "source": [
    "# Editing and Retrieving Data"
   ]
  },
  {
   "cell_type": "code",
   "execution_count": 29,
   "id": "8438034f",
   "metadata": {},
   "outputs": [
    {
     "name": "stdout",
     "output_type": "stream",
     "text": [
      "    C   D   E\n",
      "A  37  42  48\n",
      "B  37  32  25\n"
     ]
    }
   ],
   "source": [
    "print(df_1)"
   ]
  },
  {
   "cell_type": "code",
   "execution_count": 30,
   "id": "b4eb9efc",
   "metadata": {},
   "outputs": [
    {
     "name": "stdout",
     "output_type": "stream",
     "text": [
      "A    37\n",
      "B    37\n",
      "Name: C, dtype: int64\n",
      "--------\n",
      "    C   E\n",
      "A  37  48\n",
      "B  37  25\n"
     ]
    }
   ],
   "source": [
    "# Grab a **column**\n",
    "print(df_1['C']) # Use 1 ['x']\n",
    "print('--------')\n",
    "print(df_1[['C', 'E']]) # Use 2 [['x', 'y']]"
   ]
  },
  {
   "cell_type": "code",
   "execution_count": 31,
   "id": "da5535c4",
   "metadata": {},
   "outputs": [
    {
     "name": "stdout",
     "output_type": "stream",
     "text": [
      "C    37\n",
      "D    42\n",
      "E    48\n",
      "Name: A, dtype: int64\n",
      "--------\n"
     ]
    },
    {
     "data": {
      "text/plain": [
       "C    37\n",
       "D    32\n",
       "E    25\n",
       "Name: B, dtype: int64"
      ]
     },
     "execution_count": 31,
     "metadata": {},
     "output_type": "execute_result"
    }
   ],
   "source": [
    "# Grabb a row as a series\n",
    "print(df_1.loc['A'])\n",
    "print('--------')\n",
    "# Grab row by index position\n",
    "df_1.iloc[1]"
   ]
  },
  {
   "cell_type": "code",
   "execution_count": 32,
   "id": "a32ec9f1",
   "metadata": {},
   "outputs": [
    {
     "data": {
      "text/plain": [
       "37"
      ]
     },
     "execution_count": 32,
     "metadata": {},
     "output_type": "execute_result"
    }
   ],
   "source": [
    "# Grab cell with Row & Column\n",
    "df_1.loc['A', 'C']"
   ]
  },
  {
   "cell_type": "code",
   "execution_count": 33,
   "id": "6e71d54d",
   "metadata": {},
   "outputs": [
    {
     "data": {
      "text/html": [
       "<div>\n",
       "<style scoped>\n",
       "    .dataframe tbody tr th:only-of-type {\n",
       "        vertical-align: middle;\n",
       "    }\n",
       "\n",
       "    .dataframe tbody tr th {\n",
       "        vertical-align: top;\n",
       "    }\n",
       "\n",
       "    .dataframe thead th {\n",
       "        text-align: right;\n",
       "    }\n",
       "</style>\n",
       "<table border=\"1\" class=\"dataframe\">\n",
       "  <thead>\n",
       "    <tr style=\"text-align: right;\">\n",
       "      <th></th>\n",
       "      <th>C</th>\n",
       "      <th>E</th>\n",
       "    </tr>\n",
       "  </thead>\n",
       "  <tbody>\n",
       "    <tr>\n",
       "      <th>A</th>\n",
       "      <td>37</td>\n",
       "      <td>48</td>\n",
       "    </tr>\n",
       "    <tr>\n",
       "      <th>B</th>\n",
       "      <td>37</td>\n",
       "      <td>25</td>\n",
       "    </tr>\n",
       "  </tbody>\n",
       "</table>\n",
       "</div>"
      ],
      "text/plain": [
       "    C   E\n",
       "A  37  48\n",
       "B  37  25"
      ]
     },
     "execution_count": 33,
     "metadata": {},
     "output_type": "execute_result"
    }
   ],
   "source": [
    "# Grab multiple cells by defining rows wanted & the\n",
    "# columns from those rows\n",
    "df_1.loc[['A', 'B'], ['C', 'E']]"
   ]
  },
  {
   "cell_type": "code",
   "execution_count": 34,
   "id": "f35c6561",
   "metadata": {},
   "outputs": [
    {
     "data": {
      "text/html": [
       "<div>\n",
       "<style scoped>\n",
       "    .dataframe tbody tr th:only-of-type {\n",
       "        vertical-align: middle;\n",
       "    }\n",
       "\n",
       "    .dataframe tbody tr th {\n",
       "        vertical-align: top;\n",
       "    }\n",
       "\n",
       "    .dataframe thead th {\n",
       "        text-align: right;\n",
       "    }\n",
       "</style>\n",
       "<table border=\"1\" class=\"dataframe\">\n",
       "  <thead>\n",
       "    <tr style=\"text-align: right;\">\n",
       "      <th></th>\n",
       "      <th>C</th>\n",
       "      <th>D</th>\n",
       "      <th>E</th>\n",
       "      <th>Total</th>\n",
       "    </tr>\n",
       "  </thead>\n",
       "  <tbody>\n",
       "    <tr>\n",
       "      <th>A</th>\n",
       "      <td>37</td>\n",
       "      <td>42</td>\n",
       "      <td>48</td>\n",
       "      <td>127</td>\n",
       "    </tr>\n",
       "    <tr>\n",
       "      <th>B</th>\n",
       "      <td>37</td>\n",
       "      <td>32</td>\n",
       "      <td>25</td>\n",
       "      <td>94</td>\n",
       "    </tr>\n",
       "  </tbody>\n",
       "</table>\n",
       "</div>"
      ],
      "text/plain": [
       "    C   D   E  Total\n",
       "A  37  42  48    127\n",
       "B  37  32  25     94"
      ]
     },
     "execution_count": 34,
     "metadata": {},
     "output_type": "execute_result"
    }
   ],
   "source": [
    "# Make new column\n",
    "df_1['Total'] = df_1['C'] + df_1['D'] + df_1['E']\n",
    "df_1"
   ]
  },
  {
   "cell_type": "code",
   "execution_count": 35,
   "id": "97f45afb",
   "metadata": {},
   "outputs": [
    {
     "data": {
      "text/html": [
       "<div>\n",
       "<style scoped>\n",
       "    .dataframe tbody tr th:only-of-type {\n",
       "        vertical-align: middle;\n",
       "    }\n",
       "\n",
       "    .dataframe tbody tr th {\n",
       "        vertical-align: top;\n",
       "    }\n",
       "\n",
       "    .dataframe thead th {\n",
       "        text-align: right;\n",
       "    }\n",
       "</style>\n",
       "<table border=\"1\" class=\"dataframe\">\n",
       "  <thead>\n",
       "    <tr style=\"text-align: right;\">\n",
       "      <th></th>\n",
       "      <th>one</th>\n",
       "      <th>two</th>\n",
       "    </tr>\n",
       "  </thead>\n",
       "  <tbody>\n",
       "    <tr>\n",
       "      <th>a</th>\n",
       "      <td>1.0</td>\n",
       "      <td>1.0</td>\n",
       "    </tr>\n",
       "    <tr>\n",
       "      <th>b</th>\n",
       "      <td>2.0</td>\n",
       "      <td>2.0</td>\n",
       "    </tr>\n",
       "    <tr>\n",
       "      <th>c</th>\n",
       "      <td>3.0</td>\n",
       "      <td>3.0</td>\n",
       "    </tr>\n",
       "    <tr>\n",
       "      <th>d</th>\n",
       "      <td>NaN</td>\n",
       "      <td>4.0</td>\n",
       "    </tr>\n",
       "  </tbody>\n",
       "</table>\n",
       "</div>"
      ],
      "text/plain": [
       "   one  two\n",
       "a  1.0  1.0\n",
       "b  2.0  2.0\n",
       "c  3.0  3.0\n",
       "d  NaN  4.0"
      ]
     },
     "execution_count": 35,
     "metadata": {},
     "output_type": "execute_result"
    }
   ],
   "source": [
    "df_2"
   ]
  },
  {
   "cell_type": "code",
   "execution_count": 36,
   "id": "a98ad996",
   "metadata": {},
   "outputs": [
    {
     "data": {
      "text/html": [
       "<div>\n",
       "<style scoped>\n",
       "    .dataframe tbody tr th:only-of-type {\n",
       "        vertical-align: middle;\n",
       "    }\n",
       "\n",
       "    .dataframe tbody tr th {\n",
       "        vertical-align: top;\n",
       "    }\n",
       "\n",
       "    .dataframe thead th {\n",
       "        text-align: right;\n",
       "    }\n",
       "</style>\n",
       "<table border=\"1\" class=\"dataframe\">\n",
       "  <thead>\n",
       "    <tr style=\"text-align: right;\">\n",
       "      <th></th>\n",
       "      <th>one</th>\n",
       "      <th>two</th>\n",
       "      <th>mult</th>\n",
       "    </tr>\n",
       "  </thead>\n",
       "  <tbody>\n",
       "    <tr>\n",
       "      <th>a</th>\n",
       "      <td>1.0</td>\n",
       "      <td>1.0</td>\n",
       "      <td>1.0</td>\n",
       "    </tr>\n",
       "    <tr>\n",
       "      <th>b</th>\n",
       "      <td>2.0</td>\n",
       "      <td>2.0</td>\n",
       "      <td>4.0</td>\n",
       "    </tr>\n",
       "    <tr>\n",
       "      <th>c</th>\n",
       "      <td>3.0</td>\n",
       "      <td>3.0</td>\n",
       "      <td>9.0</td>\n",
       "    </tr>\n",
       "    <tr>\n",
       "      <th>d</th>\n",
       "      <td>NaN</td>\n",
       "      <td>4.0</td>\n",
       "      <td>NaN</td>\n",
       "    </tr>\n",
       "  </tbody>\n",
       "</table>\n",
       "</div>"
      ],
      "text/plain": [
       "   one  two  mult\n",
       "a  1.0  1.0   1.0\n",
       "b  2.0  2.0   4.0\n",
       "c  3.0  3.0   9.0\n",
       "d  NaN  4.0   NaN"
      ]
     },
     "execution_count": 36,
     "metadata": {},
     "output_type": "execute_result"
    }
   ],
   "source": [
    "# You can perform multiple calculations\n",
    "df_2['mult'] = df_2['one'] * df_2['two']\n",
    "df_2"
   ]
  },
  {
   "cell_type": "code",
   "execution_count": 37,
   "id": "ccdf89e3",
   "metadata": {},
   "outputs": [
    {
     "data": {
      "text/html": [
       "<div>\n",
       "<style scoped>\n",
       "    .dataframe tbody tr th:only-of-type {\n",
       "        vertical-align: middle;\n",
       "    }\n",
       "\n",
       "    .dataframe tbody tr th {\n",
       "        vertical-align: top;\n",
       "    }\n",
       "\n",
       "    .dataframe thead th {\n",
       "        text-align: right;\n",
       "    }\n",
       "</style>\n",
       "<table border=\"1\" class=\"dataframe\">\n",
       "  <thead>\n",
       "    <tr style=\"text-align: right;\">\n",
       "      <th></th>\n",
       "      <th>C</th>\n",
       "      <th>D</th>\n",
       "      <th>E</th>\n",
       "      <th>Total</th>\n",
       "    </tr>\n",
       "  </thead>\n",
       "  <tbody>\n",
       "    <tr>\n",
       "      <th>A</th>\n",
       "      <td>37.0</td>\n",
       "      <td>42.0</td>\n",
       "      <td>48.0</td>\n",
       "      <td>127.0</td>\n",
       "    </tr>\n",
       "    <tr>\n",
       "      <th>B</th>\n",
       "      <td>37.0</td>\n",
       "      <td>32.0</td>\n",
       "      <td>25.0</td>\n",
       "      <td>94.0</td>\n",
       "    </tr>\n",
       "    <tr>\n",
       "      <th>F</th>\n",
       "      <td>44.0</td>\n",
       "      <td>45.0</td>\n",
       "      <td>46.0</td>\n",
       "      <td>NaN</td>\n",
       "    </tr>\n",
       "  </tbody>\n",
       "</table>\n",
       "</div>"
      ],
      "text/plain": [
       "      C     D     E  Total\n",
       "A  37.0  42.0  48.0  127.0\n",
       "B  37.0  32.0  25.0   94.0\n",
       "F  44.0  45.0  46.0    NaN"
      ]
     },
     "execution_count": 37,
     "metadata": {},
     "output_type": "execute_result"
    }
   ],
   "source": [
    "# Make a new row by appending\n",
    "dict_2 = {\"C\": 44, \"D\": 45, \"E\": 46}\n",
    "new_row = pd.Series(dict_2, name = 'F')\n",
    "df_1 = df_1.append(new_row)\n",
    "df_1"
   ]
  },
  {
   "cell_type": "code",
   "execution_count": 38,
   "id": "f71b7206",
   "metadata": {},
   "outputs": [
    {
     "data": {
      "text/html": [
       "<div>\n",
       "<style scoped>\n",
       "    .dataframe tbody tr th:only-of-type {\n",
       "        vertical-align: middle;\n",
       "    }\n",
       "\n",
       "    .dataframe tbody tr th {\n",
       "        vertical-align: top;\n",
       "    }\n",
       "\n",
       "    .dataframe thead th {\n",
       "        text-align: right;\n",
       "    }\n",
       "</style>\n",
       "<table border=\"1\" class=\"dataframe\">\n",
       "  <thead>\n",
       "    <tr style=\"text-align: right;\">\n",
       "      <th></th>\n",
       "      <th>C</th>\n",
       "      <th>D</th>\n",
       "      <th>E</th>\n",
       "    </tr>\n",
       "  </thead>\n",
       "  <tbody>\n",
       "    <tr>\n",
       "      <th>A</th>\n",
       "      <td>37.0</td>\n",
       "      <td>42.0</td>\n",
       "      <td>48.0</td>\n",
       "    </tr>\n",
       "    <tr>\n",
       "      <th>B</th>\n",
       "      <td>37.0</td>\n",
       "      <td>32.0</td>\n",
       "      <td>25.0</td>\n",
       "    </tr>\n",
       "    <tr>\n",
       "      <th>F</th>\n",
       "      <td>44.0</td>\n",
       "      <td>45.0</td>\n",
       "      <td>46.0</td>\n",
       "    </tr>\n",
       "  </tbody>\n",
       "</table>\n",
       "</div>"
      ],
      "text/plain": [
       "      C     D     E\n",
       "A  37.0  42.0  48.0\n",
       "B  37.0  32.0  25.0\n",
       "F  44.0  45.0  46.0"
      ]
     },
     "execution_count": 38,
     "metadata": {},
     "output_type": "execute_result"
    }
   ],
   "source": [
    "# Delete column (axis = 1) and set inplace to True which is required\n",
    "# because Pandas tries to help you not delete data by accident\n",
    "df_1.drop('Total', axis=1, inplace=True)\n",
    "df_1"
   ]
  },
  {
   "cell_type": "code",
   "execution_count": 39,
   "id": "537f9111",
   "metadata": {},
   "outputs": [
    {
     "data": {
      "text/html": [
       "<div>\n",
       "<style scoped>\n",
       "    .dataframe tbody tr th:only-of-type {\n",
       "        vertical-align: middle;\n",
       "    }\n",
       "\n",
       "    .dataframe tbody tr th {\n",
       "        vertical-align: top;\n",
       "    }\n",
       "\n",
       "    .dataframe thead th {\n",
       "        text-align: right;\n",
       "    }\n",
       "</style>\n",
       "<table border=\"1\" class=\"dataframe\">\n",
       "  <thead>\n",
       "    <tr style=\"text-align: right;\">\n",
       "      <th></th>\n",
       "      <th>C</th>\n",
       "      <th>D</th>\n",
       "      <th>E</th>\n",
       "    </tr>\n",
       "  </thead>\n",
       "  <tbody>\n",
       "    <tr>\n",
       "      <th>A</th>\n",
       "      <td>37.0</td>\n",
       "      <td>42.0</td>\n",
       "      <td>48.0</td>\n",
       "    </tr>\n",
       "    <tr>\n",
       "      <th>F</th>\n",
       "      <td>44.0</td>\n",
       "      <td>45.0</td>\n",
       "      <td>46.0</td>\n",
       "    </tr>\n",
       "  </tbody>\n",
       "</table>\n",
       "</div>"
      ],
      "text/plain": [
       "      C     D     E\n",
       "A  37.0  42.0  48.0\n",
       "F  44.0  45.0  46.0"
      ]
     },
     "execution_count": 39,
     "metadata": {},
     "output_type": "execute_result"
    }
   ],
   "source": [
    "# Delete a row (axis=0) -- it doesn't need to add axis = 0!\n",
    "df_1.drop('B', axis = 0, inplace=True)\n",
    "df_1"
   ]
  },
  {
   "cell_type": "code",
   "execution_count": 40,
   "id": "fc9f4400",
   "metadata": {},
   "outputs": [
    {
     "data": {
      "text/html": [
       "<div>\n",
       "<style scoped>\n",
       "    .dataframe tbody tr th:only-of-type {\n",
       "        vertical-align: middle;\n",
       "    }\n",
       "\n",
       "    .dataframe tbody tr th {\n",
       "        vertical-align: top;\n",
       "    }\n",
       "\n",
       "    .dataframe thead th {\n",
       "        text-align: right;\n",
       "    }\n",
       "</style>\n",
       "<table border=\"1\" class=\"dataframe\">\n",
       "  <thead>\n",
       "    <tr style=\"text-align: right;\">\n",
       "      <th></th>\n",
       "      <th>C</th>\n",
       "      <th>D</th>\n",
       "      <th>E</th>\n",
       "    </tr>\n",
       "    <tr>\n",
       "      <th>Sex</th>\n",
       "      <th></th>\n",
       "      <th></th>\n",
       "      <th></th>\n",
       "    </tr>\n",
       "  </thead>\n",
       "  <tbody>\n",
       "    <tr>\n",
       "      <th>Men</th>\n",
       "      <td>37.0</td>\n",
       "      <td>42.0</td>\n",
       "      <td>48.0</td>\n",
       "    </tr>\n",
       "    <tr>\n",
       "      <th>Women</th>\n",
       "      <td>44.0</td>\n",
       "      <td>45.0</td>\n",
       "      <td>46.0</td>\n",
       "    </tr>\n",
       "  </tbody>\n",
       "</table>\n",
       "</div>"
      ],
      "text/plain": [
       "          C     D     E\n",
       "Sex                    \n",
       "Men    37.0  42.0  48.0\n",
       "Women  44.0  45.0  46.0"
      ]
     },
     "execution_count": 40,
     "metadata": {},
     "output_type": "execute_result"
    }
   ],
   "source": [
    "# Create a new column and make it the index\n",
    "df_1['Sex'] = ['Men', 'Women']\n",
    "df_1.set_index('Sex', inplace=True)\n",
    "df_1"
   ]
  },
  {
   "cell_type": "code",
   "execution_count": 41,
   "id": "2e0cdc45",
   "metadata": {},
   "outputs": [
    {
     "data": {
      "text/html": [
       "<div>\n",
       "<style scoped>\n",
       "    .dataframe tbody tr th:only-of-type {\n",
       "        vertical-align: middle;\n",
       "    }\n",
       "\n",
       "    .dataframe tbody tr th {\n",
       "        vertical-align: top;\n",
       "    }\n",
       "\n",
       "    .dataframe thead th {\n",
       "        text-align: right;\n",
       "    }\n",
       "</style>\n",
       "<table border=\"1\" class=\"dataframe\">\n",
       "  <thead>\n",
       "    <tr style=\"text-align: right;\">\n",
       "      <th></th>\n",
       "      <th>Sex</th>\n",
       "      <th>C</th>\n",
       "      <th>D</th>\n",
       "      <th>E</th>\n",
       "    </tr>\n",
       "  </thead>\n",
       "  <tbody>\n",
       "    <tr>\n",
       "      <th>0</th>\n",
       "      <td>Men</td>\n",
       "      <td>37.0</td>\n",
       "      <td>42.0</td>\n",
       "      <td>48.0</td>\n",
       "    </tr>\n",
       "    <tr>\n",
       "      <th>1</th>\n",
       "      <td>Women</td>\n",
       "      <td>44.0</td>\n",
       "      <td>45.0</td>\n",
       "      <td>46.0</td>\n",
       "    </tr>\n",
       "  </tbody>\n",
       "</table>\n",
       "</div>"
      ],
      "text/plain": [
       "     Sex     C     D     E\n",
       "0    Men  37.0  42.0  48.0\n",
       "1  Women  44.0  45.0  46.0"
      ]
     },
     "execution_count": 41,
     "metadata": {},
     "output_type": "execute_result"
    }
   ],
   "source": [
    "# You can reset index values to numbers\n",
    "df_1.reset_index(inplace=True)\n",
    "df_1"
   ]
  },
  {
   "cell_type": "code",
   "execution_count": 42,
   "id": "81e693f9",
   "metadata": {},
   "outputs": [
    {
     "data": {
      "text/html": [
       "<div>\n",
       "<style scoped>\n",
       "    .dataframe tbody tr th:only-of-type {\n",
       "        vertical-align: middle;\n",
       "    }\n",
       "\n",
       "    .dataframe tbody tr th {\n",
       "        vertical-align: top;\n",
       "    }\n",
       "\n",
       "    .dataframe thead th {\n",
       "        text-align: right;\n",
       "    }\n",
       "</style>\n",
       "<table border=\"1\" class=\"dataframe\">\n",
       "  <thead>\n",
       "    <tr style=\"text-align: right;\">\n",
       "      <th></th>\n",
       "      <th>one</th>\n",
       "      <th>two</th>\n",
       "      <th>mult</th>\n",
       "    </tr>\n",
       "  </thead>\n",
       "  <tbody>\n",
       "    <tr>\n",
       "      <th>a</th>\n",
       "      <td>1.0</td>\n",
       "      <td>1.0</td>\n",
       "      <td>1.0</td>\n",
       "    </tr>\n",
       "    <tr>\n",
       "      <th>b</th>\n",
       "      <td>2.0</td>\n",
       "      <td>2.0</td>\n",
       "      <td>4.0</td>\n",
       "    </tr>\n",
       "    <tr>\n",
       "      <th>c</th>\n",
       "      <td>3.0</td>\n",
       "      <td>3.0</td>\n",
       "      <td>9.0</td>\n",
       "    </tr>\n",
       "    <tr>\n",
       "      <th>d</th>\n",
       "      <td>NaN</td>\n",
       "      <td>4.0</td>\n",
       "      <td>NaN</td>\n",
       "    </tr>\n",
       "  </tbody>\n",
       "</table>\n",
       "</div>"
      ],
      "text/plain": [
       "   one  two  mult\n",
       "a  1.0  1.0   1.0\n",
       "b  2.0  2.0   4.0\n",
       "c  3.0  3.0   9.0\n",
       "d  NaN  4.0   NaN"
      ]
     },
     "execution_count": 42,
     "metadata": {},
     "output_type": "execute_result"
    }
   ],
   "source": [
    "df_2"
   ]
  },
  {
   "cell_type": "code",
   "execution_count": 43,
   "id": "4b82d5a7",
   "metadata": {},
   "outputs": [
    {
     "data": {
      "text/html": [
       "<div>\n",
       "<style scoped>\n",
       "    .dataframe tbody tr th:only-of-type {\n",
       "        vertical-align: middle;\n",
       "    }\n",
       "\n",
       "    .dataframe tbody tr th {\n",
       "        vertical-align: top;\n",
       "    }\n",
       "\n",
       "    .dataframe thead th {\n",
       "        text-align: right;\n",
       "    }\n",
       "</style>\n",
       "<table border=\"1\" class=\"dataframe\">\n",
       "  <thead>\n",
       "    <tr style=\"text-align: right;\">\n",
       "      <th></th>\n",
       "      <th>one</th>\n",
       "      <th>two</th>\n",
       "      <th>mult</th>\n",
       "    </tr>\n",
       "  </thead>\n",
       "  <tbody>\n",
       "    <tr>\n",
       "      <th>a</th>\n",
       "      <td>1.0</td>\n",
       "      <td>1.0</td>\n",
       "      <td>1.0</td>\n",
       "    </tr>\n",
       "    <tr>\n",
       "      <th>b</th>\n",
       "      <td>2.0</td>\n",
       "      <td>2.0</td>\n",
       "      <td>4.0</td>\n",
       "    </tr>\n",
       "    <tr>\n",
       "      <th>c</th>\n",
       "      <td>3.0</td>\n",
       "      <td>3.0</td>\n",
       "      <td>9.0</td>\n",
       "    </tr>\n",
       "    <tr>\n",
       "      <th>d</th>\n",
       "      <td>NaN</td>\n",
       "      <td>4.0</td>\n",
       "      <td>NaN</td>\n",
       "    </tr>\n",
       "  </tbody>\n",
       "</table>\n",
       "</div>"
      ],
      "text/plain": [
       "   one  two  mult\n",
       "a  1.0  1.0   1.0\n",
       "b  2.0  2.0   4.0\n",
       "c  3.0  3.0   9.0\n",
       "d  NaN  4.0   NaN"
      ]
     },
     "execution_count": 43,
     "metadata": {},
     "output_type": "execute_result"
    }
   ],
   "source": [
    "# Assign can be used to create a column while leaving the\n",
    "# original DF untouched\n",
    "df_2.assign(div=df_2['one'] / df_2['two'])\n",
    "df_2"
   ]
  },
  {
   "cell_type": "code",
   "execution_count": 44,
   "id": "07764d84",
   "metadata": {},
   "outputs": [
    {
     "data": {
      "text/html": [
       "<div>\n",
       "<style scoped>\n",
       "    .dataframe tbody tr th:only-of-type {\n",
       "        vertical-align: middle;\n",
       "    }\n",
       "\n",
       "    .dataframe tbody tr th {\n",
       "        vertical-align: top;\n",
       "    }\n",
       "\n",
       "    .dataframe thead th {\n",
       "        text-align: right;\n",
       "    }\n",
       "</style>\n",
       "<table border=\"1\" class=\"dataframe\">\n",
       "  <thead>\n",
       "    <tr style=\"text-align: right;\">\n",
       "      <th></th>\n",
       "      <th>one</th>\n",
       "      <th>two</th>\n",
       "      <th>mult</th>\n",
       "    </tr>\n",
       "  </thead>\n",
       "  <tbody>\n",
       "    <tr>\n",
       "      <th>a</th>\n",
       "      <td>1.0</td>\n",
       "      <td>1.0</td>\n",
       "      <td>1.0</td>\n",
       "    </tr>\n",
       "    <tr>\n",
       "      <th>b</th>\n",
       "      <td>2.0</td>\n",
       "      <td>2.0</td>\n",
       "      <td>4.0</td>\n",
       "    </tr>\n",
       "    <tr>\n",
       "      <th>c</th>\n",
       "      <td>3.0</td>\n",
       "      <td>3.0</td>\n",
       "      <td>9.0</td>\n",
       "    </tr>\n",
       "    <tr>\n",
       "      <th>d</th>\n",
       "      <td>NaN</td>\n",
       "      <td>4.0</td>\n",
       "      <td>NaN</td>\n",
       "    </tr>\n",
       "  </tbody>\n",
       "</table>\n",
       "</div>"
      ],
      "text/plain": [
       "   one  two  mult\n",
       "a  1.0  1.0   1.0\n",
       "b  2.0  2.0   4.0\n",
       "c  3.0  3.0   9.0\n",
       "d  NaN  4.0   NaN"
      ]
     },
     "execution_count": 44,
     "metadata": {},
     "output_type": "execute_result"
    }
   ],
   "source": [
    "# You can pass in a function as well\n",
    "df_2.assign(div=lambda x: (x['one'] / x['two']))\n",
    "df_2"
   ]
  },
  {
   "cell_type": "code",
   "execution_count": 45,
   "id": "72e4cfe0",
   "metadata": {},
   "outputs": [],
   "source": [
    "# Combine DataFrames while keeping df_3 data unless\n",
    "# there is a NaN value"
   ]
  },
  {
   "cell_type": "code",
   "execution_count": 46,
   "id": "7d3e22e2",
   "metadata": {},
   "outputs": [
    {
     "data": {
      "text/html": [
       "<div>\n",
       "<style scoped>\n",
       "    .dataframe tbody tr th:only-of-type {\n",
       "        vertical-align: middle;\n",
       "    }\n",
       "\n",
       "    .dataframe tbody tr th {\n",
       "        vertical-align: top;\n",
       "    }\n",
       "\n",
       "    .dataframe thead th {\n",
       "        text-align: right;\n",
       "    }\n",
       "</style>\n",
       "<table border=\"1\" class=\"dataframe\">\n",
       "  <thead>\n",
       "    <tr style=\"text-align: right;\">\n",
       "      <th></th>\n",
       "      <th>A</th>\n",
       "    </tr>\n",
       "  </thead>\n",
       "  <tbody>\n",
       "    <tr>\n",
       "      <th>0</th>\n",
       "      <td>1.0</td>\n",
       "    </tr>\n",
       "    <tr>\n",
       "      <th>1</th>\n",
       "      <td>NaN</td>\n",
       "    </tr>\n",
       "    <tr>\n",
       "      <th>2</th>\n",
       "      <td>3.0</td>\n",
       "    </tr>\n",
       "    <tr>\n",
       "      <th>3</th>\n",
       "      <td>NaN</td>\n",
       "    </tr>\n",
       "  </tbody>\n",
       "</table>\n",
       "</div>"
      ],
      "text/plain": [
       "     A\n",
       "0  1.0\n",
       "1  NaN\n",
       "2  3.0\n",
       "3  NaN"
      ]
     },
     "execution_count": 46,
     "metadata": {},
     "output_type": "execute_result"
    }
   ],
   "source": [
    "df_3 = pd.DataFrame({'A': [1., np.nan, 3., np.nan]})\n",
    "df_3"
   ]
  },
  {
   "cell_type": "code",
   "execution_count": 47,
   "id": "ccc684a8",
   "metadata": {},
   "outputs": [
    {
     "data": {
      "text/html": [
       "<div>\n",
       "<style scoped>\n",
       "    .dataframe tbody tr th:only-of-type {\n",
       "        vertical-align: middle;\n",
       "    }\n",
       "\n",
       "    .dataframe tbody tr th {\n",
       "        vertical-align: top;\n",
       "    }\n",
       "\n",
       "    .dataframe thead th {\n",
       "        text-align: right;\n",
       "    }\n",
       "</style>\n",
       "<table border=\"1\" class=\"dataframe\">\n",
       "  <thead>\n",
       "    <tr style=\"text-align: right;\">\n",
       "      <th></th>\n",
       "      <th>A</th>\n",
       "    </tr>\n",
       "  </thead>\n",
       "  <tbody>\n",
       "    <tr>\n",
       "      <th>0</th>\n",
       "      <td>8.0</td>\n",
       "    </tr>\n",
       "    <tr>\n",
       "      <th>1</th>\n",
       "      <td>9.0</td>\n",
       "    </tr>\n",
       "    <tr>\n",
       "      <th>2</th>\n",
       "      <td>2.0</td>\n",
       "    </tr>\n",
       "    <tr>\n",
       "      <th>3</th>\n",
       "      <td>4.0</td>\n",
       "    </tr>\n",
       "  </tbody>\n",
       "</table>\n",
       "</div>"
      ],
      "text/plain": [
       "     A\n",
       "0  8.0\n",
       "1  9.0\n",
       "2  2.0\n",
       "3  4.0"
      ]
     },
     "execution_count": 47,
     "metadata": {},
     "output_type": "execute_result"
    }
   ],
   "source": [
    "df_4 = pd.DataFrame({'A': [8., 9., 2., 4.]})\n",
    "df_4"
   ]
  },
  {
   "cell_type": "code",
   "execution_count": 48,
   "id": "4d51f57e",
   "metadata": {},
   "outputs": [
    {
     "data": {
      "text/html": [
       "<div>\n",
       "<style scoped>\n",
       "    .dataframe tbody tr th:only-of-type {\n",
       "        vertical-align: middle;\n",
       "    }\n",
       "\n",
       "    .dataframe tbody tr th {\n",
       "        vertical-align: top;\n",
       "    }\n",
       "\n",
       "    .dataframe thead th {\n",
       "        text-align: right;\n",
       "    }\n",
       "</style>\n",
       "<table border=\"1\" class=\"dataframe\">\n",
       "  <thead>\n",
       "    <tr style=\"text-align: right;\">\n",
       "      <th></th>\n",
       "      <th>A</th>\n",
       "    </tr>\n",
       "  </thead>\n",
       "  <tbody>\n",
       "    <tr>\n",
       "      <th>0</th>\n",
       "      <td>1.0</td>\n",
       "    </tr>\n",
       "    <tr>\n",
       "      <th>1</th>\n",
       "      <td>9.0</td>\n",
       "    </tr>\n",
       "    <tr>\n",
       "      <th>2</th>\n",
       "      <td>3.0</td>\n",
       "    </tr>\n",
       "    <tr>\n",
       "      <th>3</th>\n",
       "      <td>4.0</td>\n",
       "    </tr>\n",
       "  </tbody>\n",
       "</table>\n",
       "</div>"
      ],
      "text/plain": [
       "     A\n",
       "0  1.0\n",
       "1  9.0\n",
       "2  3.0\n",
       "3  4.0"
      ]
     },
     "execution_count": 48,
     "metadata": {},
     "output_type": "execute_result"
    }
   ],
   "source": [
    "df_3new = df_3.combine_first(df_4)\n",
    "df_3new"
   ]
  },
  {
   "cell_type": "code",
   "execution_count": 49,
   "id": "79d2c379",
   "metadata": {},
   "outputs": [
    {
     "data": {
      "text/html": [
       "<div>\n",
       "<style scoped>\n",
       "    .dataframe tbody tr th:only-of-type {\n",
       "        vertical-align: middle;\n",
       "    }\n",
       "\n",
       "    .dataframe tbody tr th {\n",
       "        vertical-align: top;\n",
       "    }\n",
       "\n",
       "    .dataframe thead th {\n",
       "        text-align: right;\n",
       "    }\n",
       "</style>\n",
       "<table border=\"1\" class=\"dataframe\">\n",
       "  <thead>\n",
       "    <tr style=\"text-align: right;\">\n",
       "      <th></th>\n",
       "      <th>A</th>\n",
       "    </tr>\n",
       "  </thead>\n",
       "  <tbody>\n",
       "    <tr>\n",
       "      <th>0</th>\n",
       "      <td>1.0</td>\n",
       "    </tr>\n",
       "    <tr>\n",
       "      <th>1</th>\n",
       "      <td>9.0</td>\n",
       "    </tr>\n",
       "    <tr>\n",
       "      <th>2</th>\n",
       "      <td>3.0</td>\n",
       "    </tr>\n",
       "    <tr>\n",
       "      <th>3</th>\n",
       "      <td>4.0</td>\n",
       "    </tr>\n",
       "  </tbody>\n",
       "</table>\n",
       "</div>"
      ],
      "text/plain": [
       "     A\n",
       "0  1.0\n",
       "1  9.0\n",
       "2  3.0\n",
       "3  4.0"
      ]
     },
     "execution_count": 49,
     "metadata": {},
     "output_type": "execute_result"
    }
   ],
   "source": [
    "df_3 = pd.DataFrame({'A': [1., np.nan, 3., np.nan]})\n",
    "df_4 = pd.DataFrame({'A': [8., 9., 2., 4.]})\n",
    "df_3.combine_first(df_4)"
   ]
  },
  {
   "cell_type": "code",
   "execution_count": 50,
   "id": "2638d52b",
   "metadata": {},
   "outputs": [
    {
     "data": {
      "text/html": [
       "<div>\n",
       "<style scoped>\n",
       "    .dataframe tbody tr th:only-of-type {\n",
       "        vertical-align: middle;\n",
       "    }\n",
       "\n",
       "    .dataframe tbody tr th {\n",
       "        vertical-align: top;\n",
       "    }\n",
       "\n",
       "    .dataframe thead tr th {\n",
       "        text-align: left;\n",
       "    }\n",
       "</style>\n",
       "<table border=\"1\" class=\"dataframe\">\n",
       "  <thead>\n",
       "    <tr>\n",
       "      <th></th>\n",
       "      <th colspan=\"2\" halign=\"left\">A</th>\n",
       "    </tr>\n",
       "    <tr>\n",
       "      <th></th>\n",
       "      <th>self</th>\n",
       "      <th>other</th>\n",
       "    </tr>\n",
       "  </thead>\n",
       "  <tbody>\n",
       "    <tr>\n",
       "      <th>0</th>\n",
       "      <td>1.0</td>\n",
       "      <td>8.0</td>\n",
       "    </tr>\n",
       "    <tr>\n",
       "      <th>1</th>\n",
       "      <td>NaN</td>\n",
       "      <td>9.0</td>\n",
       "    </tr>\n",
       "    <tr>\n",
       "      <th>2</th>\n",
       "      <td>3.0</td>\n",
       "      <td>2.0</td>\n",
       "    </tr>\n",
       "    <tr>\n",
       "      <th>3</th>\n",
       "      <td>NaN</td>\n",
       "      <td>4.0</td>\n",
       "    </tr>\n",
       "  </tbody>\n",
       "</table>\n",
       "</div>"
      ],
      "text/plain": [
       "     A      \n",
       "  self other\n",
       "0  1.0   8.0\n",
       "1  NaN   9.0\n",
       "2  3.0   2.0\n",
       "3  NaN   4.0"
      ]
     },
     "execution_count": 50,
     "metadata": {},
     "output_type": "execute_result"
    }
   ],
   "source": [
    "# Compare columns\n",
    "df_3.compare(df_4)"
   ]
  },
  {
   "cell_type": "code",
   "execution_count": 51,
   "id": "aa061bd9",
   "metadata": {},
   "outputs": [
    {
     "name": "stdout",
     "output_type": "stream",
     "text": [
      "   A  B\n",
      "0  5  2\n",
      "1  0  4\n",
      "--------\n",
      "   A  B\n",
      "0  1  3\n",
      "1  1  3\n",
      "--------\n"
     ]
    },
    {
     "data": {
      "text/html": [
       "<div>\n",
       "<style scoped>\n",
       "    .dataframe tbody tr th:only-of-type {\n",
       "        vertical-align: middle;\n",
       "    }\n",
       "\n",
       "    .dataframe tbody tr th {\n",
       "        vertical-align: top;\n",
       "    }\n",
       "\n",
       "    .dataframe thead th {\n",
       "        text-align: right;\n",
       "    }\n",
       "</style>\n",
       "<table border=\"1\" class=\"dataframe\">\n",
       "  <thead>\n",
       "    <tr style=\"text-align: right;\">\n",
       "      <th></th>\n",
       "      <th>A</th>\n",
       "      <th>B</th>\n",
       "    </tr>\n",
       "  </thead>\n",
       "  <tbody>\n",
       "    <tr>\n",
       "      <th>0</th>\n",
       "      <td>1</td>\n",
       "      <td>2</td>\n",
       "    </tr>\n",
       "    <tr>\n",
       "      <th>1</th>\n",
       "      <td>0</td>\n",
       "      <td>3</td>\n",
       "    </tr>\n",
       "  </tbody>\n",
       "</table>\n",
       "</div>"
      ],
      "text/plain": [
       "   A  B\n",
       "0  1  2\n",
       "1  0  3"
      ]
     },
     "execution_count": 51,
     "metadata": {},
     "output_type": "execute_result"
    }
   ],
   "source": [
    "# Combine, using a function\n",
    "df1 = pd.DataFrame({'A': [5, 0], 'B': [2, 4]})\n",
    "print(df1)\n",
    "print('--------')\n",
    "df2 = pd.DataFrame({'A': [1, 1], 'B': [3, 3]})\n",
    "print(df2)\n",
    "print('--------')\n",
    "df1.combine(df2, np.minimum)"
   ]
  },
  {
   "cell_type": "markdown",
   "id": "d747516d",
   "metadata": {},
   "source": [
    "# Vector Functions"
   ]
  },
  {
   "cell_type": "markdown",
   "id": "c9d95276",
   "metadata": {},
   "source": [
    "pandas provides a large set of vector functions that operate on all\n",
    "columns of a DataFrame or a single selected column (a pandas\n",
    "Series). These functions produce vectors of values for each of the\n",
    "columns, or a single Series for the individual Series. Examples:"
   ]
  },
  {
   "cell_type": "code",
   "execution_count": 52,
   "id": "f5e1613f",
   "metadata": {},
   "outputs": [
    {
     "data": {
      "text/html": [
       "<div>\n",
       "<style scoped>\n",
       "    .dataframe tbody tr th:only-of-type {\n",
       "        vertical-align: middle;\n",
       "    }\n",
       "\n",
       "    .dataframe tbody tr th {\n",
       "        vertical-align: top;\n",
       "    }\n",
       "\n",
       "    .dataframe thead th {\n",
       "        text-align: right;\n",
       "    }\n",
       "</style>\n",
       "<table border=\"1\" class=\"dataframe\">\n",
       "  <thead>\n",
       "    <tr style=\"text-align: right;\">\n",
       "      <th></th>\n",
       "      <th>Length</th>\n",
       "      <th>Height</th>\n",
       "      <th>Depth</th>\n",
       "    </tr>\n",
       "  </thead>\n",
       "  <tbody>\n",
       "    <tr>\n",
       "      <th>0</th>\n",
       "      <td>1.0</td>\n",
       "      <td>1.0</td>\n",
       "      <td>1.0</td>\n",
       "    </tr>\n",
       "    <tr>\n",
       "      <th>1</th>\n",
       "      <td>4.0</td>\n",
       "      <td>4.0</td>\n",
       "      <td>4.0</td>\n",
       "    </tr>\n",
       "    <tr>\n",
       "      <th>2</th>\n",
       "      <td>3.0</td>\n",
       "      <td>3.0</td>\n",
       "      <td>3.0</td>\n",
       "    </tr>\n",
       "    <tr>\n",
       "      <th>3</th>\n",
       "      <td>2.0</td>\n",
       "      <td>2.0</td>\n",
       "      <td>2.0</td>\n",
       "    </tr>\n",
       "  </tbody>\n",
       "</table>\n",
       "</div>"
      ],
      "text/plain": [
       "   Length  Height  Depth\n",
       "0     1.0     1.0    1.0\n",
       "1     4.0     4.0    4.0\n",
       "2     3.0     3.0    3.0\n",
       "3     2.0     2.0    2.0"
      ]
     },
     "execution_count": 52,
     "metadata": {},
     "output_type": "execute_result"
    }
   ],
   "source": [
    "df_test = pd.DataFrame({'Length': pd.Series([1., 4., 3., 2.]),\n",
    "                        'Height': pd.Series([1., 4., 3., 2.]),\n",
    "                        'Depth': pd.Series([1., 4., 3., 2.])})\n",
    "df_test"
   ]
  },
  {
   "cell_type": "code",
   "execution_count": 53,
   "id": "844f1305",
   "metadata": {},
   "outputs": [
    {
     "data": {
      "text/html": [
       "<div>\n",
       "<style scoped>\n",
       "    .dataframe tbody tr th:only-of-type {\n",
       "        vertical-align: middle;\n",
       "    }\n",
       "\n",
       "    .dataframe tbody tr th {\n",
       "        vertical-align: top;\n",
       "    }\n",
       "\n",
       "    .dataframe thead th {\n",
       "        text-align: right;\n",
       "    }\n",
       "</style>\n",
       "<table border=\"1\" class=\"dataframe\">\n",
       "  <thead>\n",
       "    <tr style=\"text-align: right;\">\n",
       "      <th></th>\n",
       "      <th>Length</th>\n",
       "      <th>Height</th>\n",
       "      <th>Depth</th>\n",
       "      <th>Area</th>\n",
       "    </tr>\n",
       "  </thead>\n",
       "  <tbody>\n",
       "    <tr>\n",
       "      <th>0</th>\n",
       "      <td>1.0</td>\n",
       "      <td>1.0</td>\n",
       "      <td>1.0</td>\n",
       "      <td>1.0</td>\n",
       "    </tr>\n",
       "    <tr>\n",
       "      <th>1</th>\n",
       "      <td>4.0</td>\n",
       "      <td>4.0</td>\n",
       "      <td>4.0</td>\n",
       "      <td>16.0</td>\n",
       "    </tr>\n",
       "    <tr>\n",
       "      <th>2</th>\n",
       "      <td>3.0</td>\n",
       "      <td>3.0</td>\n",
       "      <td>3.0</td>\n",
       "      <td>9.0</td>\n",
       "    </tr>\n",
       "    <tr>\n",
       "      <th>3</th>\n",
       "      <td>2.0</td>\n",
       "      <td>2.0</td>\n",
       "      <td>2.0</td>\n",
       "      <td>4.0</td>\n",
       "    </tr>\n",
       "  </tbody>\n",
       "</table>\n",
       "</div>"
      ],
      "text/plain": [
       "   Length  Height  Depth  Area\n",
       "0     1.0     1.0    1.0   1.0\n",
       "1     4.0     4.0    4.0  16.0\n",
       "2     3.0     3.0    3.0   9.0\n",
       "3     2.0     2.0    2.0   4.0"
      ]
     },
     "execution_count": 53,
     "metadata": {},
     "output_type": "execute_result"
    }
   ],
   "source": [
    "# Compute and append one or more new columns.\n",
    "df_test.assign(Area=lambda df_test: df_test.Length*df_test.Height)"
   ]
  },
  {
   "cell_type": "code",
   "execution_count": 54,
   "id": "a170b11f",
   "metadata": {},
   "outputs": [
    {
     "data": {
      "text/html": [
       "<div>\n",
       "<style scoped>\n",
       "    .dataframe tbody tr th:only-of-type {\n",
       "        vertical-align: middle;\n",
       "    }\n",
       "\n",
       "    .dataframe tbody tr th {\n",
       "        vertical-align: top;\n",
       "    }\n",
       "\n",
       "    .dataframe thead th {\n",
       "        text-align: right;\n",
       "    }\n",
       "</style>\n",
       "<table border=\"1\" class=\"dataframe\">\n",
       "  <thead>\n",
       "    <tr style=\"text-align: right;\">\n",
       "      <th></th>\n",
       "      <th>Length</th>\n",
       "      <th>Height</th>\n",
       "      <th>Depth</th>\n",
       "      <th>Volume</th>\n",
       "    </tr>\n",
       "  </thead>\n",
       "  <tbody>\n",
       "    <tr>\n",
       "      <th>0</th>\n",
       "      <td>1.0</td>\n",
       "      <td>1.0</td>\n",
       "      <td>1.0</td>\n",
       "      <td>1.0</td>\n",
       "    </tr>\n",
       "    <tr>\n",
       "      <th>1</th>\n",
       "      <td>4.0</td>\n",
       "      <td>4.0</td>\n",
       "      <td>4.0</td>\n",
       "      <td>64.0</td>\n",
       "    </tr>\n",
       "    <tr>\n",
       "      <th>2</th>\n",
       "      <td>3.0</td>\n",
       "      <td>3.0</td>\n",
       "      <td>3.0</td>\n",
       "      <td>27.0</td>\n",
       "    </tr>\n",
       "    <tr>\n",
       "      <th>3</th>\n",
       "      <td>2.0</td>\n",
       "      <td>2.0</td>\n",
       "      <td>2.0</td>\n",
       "      <td>8.0</td>\n",
       "    </tr>\n",
       "  </tbody>\n",
       "</table>\n",
       "</div>"
      ],
      "text/plain": [
       "   Length  Height  Depth  Volume\n",
       "0     1.0     1.0    1.0     1.0\n",
       "1     4.0     4.0    4.0    64.0\n",
       "2     3.0     3.0    3.0    27.0\n",
       "3     2.0     2.0    2.0     8.0"
      ]
     },
     "execution_count": 54,
     "metadata": {},
     "output_type": "execute_result"
    }
   ],
   "source": [
    "# Add single column.\n",
    "df_test['Volume'] = df_test.Length*df_test.Height*df_test.Depth\n",
    "df_test"
   ]
  },
  {
   "cell_type": "code",
   "execution_count": 55,
   "id": "c846c842",
   "metadata": {},
   "outputs": [
    {
     "data": {
      "text/plain": [
       "0     low\n",
       "1    high\n",
       "2    high\n",
       "3     low\n",
       "Name: Volume, dtype: category\n",
       "Categories (2, object): ['low' < 'high']"
      ]
     },
     "execution_count": 55,
     "metadata": {},
     "output_type": "execute_result"
    }
   ],
   "source": [
    "# Bin column into n buckets.\n",
    "# pd.qcut(df.col, n, labels=False)\n",
    "pd.qcut(df_test['Volume'], 2, labels=['low', 'high'])"
   ]
  },
  {
   "cell_type": "code",
   "execution_count": 56,
   "id": "aea4845c",
   "metadata": {},
   "outputs": [
    {
     "data": {
      "text/html": [
       "<div>\n",
       "<style scoped>\n",
       "    .dataframe tbody tr th:only-of-type {\n",
       "        vertical-align: middle;\n",
       "    }\n",
       "\n",
       "    .dataframe tbody tr th {\n",
       "        vertical-align: top;\n",
       "    }\n",
       "\n",
       "    .dataframe thead th {\n",
       "        text-align: right;\n",
       "    }\n",
       "</style>\n",
       "<table border=\"1\" class=\"dataframe\">\n",
       "  <thead>\n",
       "    <tr style=\"text-align: right;\">\n",
       "      <th></th>\n",
       "      <th>Length</th>\n",
       "      <th>Height</th>\n",
       "      <th>Depth</th>\n",
       "      <th>Volume</th>\n",
       "      <th>Volume_bucket</th>\n",
       "    </tr>\n",
       "  </thead>\n",
       "  <tbody>\n",
       "    <tr>\n",
       "      <th>0</th>\n",
       "      <td>1.0</td>\n",
       "      <td>1.0</td>\n",
       "      <td>1.0</td>\n",
       "      <td>1.0</td>\n",
       "      <td>low</td>\n",
       "    </tr>\n",
       "    <tr>\n",
       "      <th>1</th>\n",
       "      <td>4.0</td>\n",
       "      <td>4.0</td>\n",
       "      <td>4.0</td>\n",
       "      <td>64.0</td>\n",
       "      <td>high</td>\n",
       "    </tr>\n",
       "    <tr>\n",
       "      <th>2</th>\n",
       "      <td>3.0</td>\n",
       "      <td>3.0</td>\n",
       "      <td>3.0</td>\n",
       "      <td>27.0</td>\n",
       "      <td>high</td>\n",
       "    </tr>\n",
       "    <tr>\n",
       "      <th>3</th>\n",
       "      <td>2.0</td>\n",
       "      <td>2.0</td>\n",
       "      <td>2.0</td>\n",
       "      <td>8.0</td>\n",
       "      <td>low</td>\n",
       "    </tr>\n",
       "  </tbody>\n",
       "</table>\n",
       "</div>"
      ],
      "text/plain": [
       "   Length  Height  Depth  Volume Volume_bucket\n",
       "0     1.0     1.0    1.0     1.0           low\n",
       "1     4.0     4.0    4.0    64.0          high\n",
       "2     3.0     3.0    3.0    27.0          high\n",
       "3     2.0     2.0    2.0     8.0           low"
      ]
     },
     "execution_count": 56,
     "metadata": {},
     "output_type": "execute_result"
    }
   ],
   "source": [
    "df_test['Volume_bucket'] = pd.qcut(df_test['Volume'], 2, labels=['low', 'high'])\n",
    "df_test"
   ]
  },
  {
   "cell_type": "code",
   "execution_count": 57,
   "id": "449aea66",
   "metadata": {},
   "outputs": [
    {
     "name": "stderr",
     "output_type": "stream",
     "text": [
      "/var/folders/s2/rxgrts2d0x3cngcs6yc5fmr40000gn/T/ipykernel_84730/2487583419.py:2: FutureWarning: Dropping of nuisance columns in DataFrame reductions (with 'numeric_only=None') is deprecated; in a future version this will raise TypeError.  Select only valid columns before calling the reduction.\n",
      "  df_test.max(axis=1)\n"
     ]
    },
    {
     "data": {
      "text/plain": [
       "0     1.0\n",
       "1    64.0\n",
       "2    27.0\n",
       "3     8.0\n",
       "dtype: float64"
      ]
     },
     "execution_count": 57,
     "metadata": {},
     "output_type": "execute_result"
    }
   ],
   "source": [
    "# Element-wise max. Column max > axis =1 \n",
    "df_test.max(axis=1)"
   ]
  },
  {
   "cell_type": "code",
   "execution_count": 58,
   "id": "17044bba",
   "metadata": {},
   "outputs": [
    {
     "data": {
      "text/plain": [
       "Length           1.0\n",
       "Height           1.0\n",
       "Depth            1.0\n",
       "Volume           1.0\n",
       "Volume_bucket    low\n",
       "dtype: object"
      ]
     },
     "execution_count": 58,
     "metadata": {},
     "output_type": "execute_result"
    }
   ],
   "source": [
    "# Element-wise min. Row min > axis = 0\n",
    "df_test.min(axis = 0)"
   ]
  },
  {
   "cell_type": "code",
   "execution_count": 59,
   "id": "501a07f0",
   "metadata": {},
   "outputs": [
    {
     "data": {
      "text/html": [
       "<div>\n",
       "<style scoped>\n",
       "    .dataframe tbody tr th:only-of-type {\n",
       "        vertical-align: middle;\n",
       "    }\n",
       "\n",
       "    .dataframe tbody tr th {\n",
       "        vertical-align: top;\n",
       "    }\n",
       "\n",
       "    .dataframe thead th {\n",
       "        text-align: right;\n",
       "    }\n",
       "</style>\n",
       "<table border=\"1\" class=\"dataframe\">\n",
       "  <thead>\n",
       "    <tr style=\"text-align: right;\">\n",
       "      <th></th>\n",
       "      <th>Length</th>\n",
       "      <th>Height</th>\n",
       "      <th>Depth</th>\n",
       "      <th>Volume</th>\n",
       "      <th>Volume_bucket</th>\n",
       "      <th>Volume_thersholds</th>\n",
       "    </tr>\n",
       "  </thead>\n",
       "  <tbody>\n",
       "    <tr>\n",
       "      <th>0</th>\n",
       "      <td>1.0</td>\n",
       "      <td>1.0</td>\n",
       "      <td>1.0</td>\n",
       "      <td>1.0</td>\n",
       "      <td>low</td>\n",
       "      <td>1.0</td>\n",
       "    </tr>\n",
       "    <tr>\n",
       "      <th>1</th>\n",
       "      <td>4.0</td>\n",
       "      <td>4.0</td>\n",
       "      <td>4.0</td>\n",
       "      <td>64.0</td>\n",
       "      <td>high</td>\n",
       "      <td>10.0</td>\n",
       "    </tr>\n",
       "    <tr>\n",
       "      <th>2</th>\n",
       "      <td>3.0</td>\n",
       "      <td>3.0</td>\n",
       "      <td>3.0</td>\n",
       "      <td>27.0</td>\n",
       "      <td>high</td>\n",
       "      <td>10.0</td>\n",
       "    </tr>\n",
       "    <tr>\n",
       "      <th>3</th>\n",
       "      <td>2.0</td>\n",
       "      <td>2.0</td>\n",
       "      <td>2.0</td>\n",
       "      <td>8.0</td>\n",
       "      <td>low</td>\n",
       "      <td>8.0</td>\n",
       "    </tr>\n",
       "  </tbody>\n",
       "</table>\n",
       "</div>"
      ],
      "text/plain": [
       "   Length  Height  Depth  Volume Volume_bucket  Volume_thersholds\n",
       "0     1.0     1.0    1.0     1.0           low                1.0\n",
       "1     4.0     4.0    4.0    64.0          high               10.0\n",
       "2     3.0     3.0    3.0    27.0          high               10.0\n",
       "3     2.0     2.0    2.0     8.0           low                8.0"
      ]
     },
     "execution_count": 59,
     "metadata": {},
     "output_type": "execute_result"
    }
   ],
   "source": [
    "# Trim values at input thresholds\n",
    "df_test['Volume_thersholds'] = df_test['Volume'].clip(lower=-10,upper=10)\n",
    "df_test"
   ]
  },
  {
   "cell_type": "markdown",
   "id": "4cc0e3d5",
   "metadata": {},
   "source": [
    "# Conditional Selection"
   ]
  },
  {
   "cell_type": "code",
   "execution_count": 60,
   "id": "188a1d51",
   "metadata": {},
   "outputs": [
    {
     "data": {
      "text/plain": [
       "array([[21, 39, 42],\n",
       "       [22, 47, 43]])"
      ]
     },
     "execution_count": 60,
     "metadata": {},
     "output_type": "execute_result"
    }
   ],
   "source": [
    "# Dataset start: Matrix 2x3 using random numbers from 10 to 50\n",
    "arr_2 = np.random.randint(10, 50, size=(2, 3))\n",
    "arr_2"
   ]
  },
  {
   "cell_type": "code",
   "execution_count": 61,
   "id": "b2395b34",
   "metadata": {},
   "outputs": [
    {
     "name": "stdout",
     "output_type": "stream",
     "text": [
      "    C   D   E\n",
      "A  21  39  42\n",
      "B  22  47  43\n"
     ]
    }
   ],
   "source": [
    "df_1 = pd.DataFrame(arr_2, ['A', 'B'], ['C', 'D', 'E'])\n",
    "print(df_1)"
   ]
  },
  {
   "cell_type": "code",
   "execution_count": 62,
   "id": "67edb140",
   "metadata": {},
   "outputs": [
    {
     "name": "stdout",
     "output_type": "stream",
     "text": [
      "Greater than 40\n",
      "        C      D     E\n",
      "A  False  False  True\n",
      "B  False   True  True\n"
     ]
    }
   ],
   "source": [
    "# You can use conditional operators to retrieve a table\n",
    "# based on the condition\n",
    "print(\"Greater than 40\\n\", df_1 > 40.0)"
   ]
  },
  {
   "cell_type": "code",
   "execution_count": 63,
   "id": "360501c0",
   "metadata": {},
   "outputs": [
    {
     "name": "stdout",
     "output_type": "stream",
     "text": [
      "Greater than 45\n",
      "        C      D      E\n",
      "A  False  False  False\n",
      "B  False   True  False\n"
     ]
    }
   ],
   "source": [
    "# You can use comparison operater functions as well like\n",
    "# gt (greater than), ge (Greater than or equal),\n",
    "# lt (lower than), le (Lower than or equal) , \n",
    "# eq (Equal to), ne (not equal to)\n",
    "print(\"Greater than 45\\n\", df_1.gt(45.0))"
   ]
  },
  {
   "cell_type": "code",
   "execution_count": 64,
   "id": "18be15b5",
   "metadata": {},
   "outputs": [
    {
     "name": "stdout",
     "output_type": "stream",
     "text": [
      "Lower than 45\n",
      "       C      D     E\n",
      "A  True   True  True\n",
      "B  True  False  True\n"
     ]
    }
   ],
   "source": [
    "print(\"Lower than 45\\n\", df_1.lt(45.0))"
   ]
  },
  {
   "cell_type": "code",
   "execution_count": 65,
   "id": "ea1d89d3",
   "metadata": {},
   "outputs": [
    {
     "name": "stdout",
     "output_type": "stream",
     "text": [
      "Greater than 49\n",
      "        C      D      E\n",
      "A  False  False  False\n",
      "B  False  False  False\n"
     ]
    }
   ],
   "source": [
    "print(\"Greater than 49\\n\", df_1.ge(49.0))"
   ]
  },
  {
   "cell_type": "code",
   "execution_count": 66,
   "id": "17702958",
   "metadata": {},
   "outputs": [
    {
     "name": "stdout",
     "output_type": "stream",
     "text": [
      "Equal to 38\n",
      "        C      D      E\n",
      "A  False  False  False\n",
      "B  False  False  False\n"
     ]
    }
   ],
   "source": [
    "print(\"Equal to 38\\n\", df_1.eq(38.0))"
   ]
  },
  {
   "cell_type": "code",
   "execution_count": 67,
   "id": "84a29966",
   "metadata": {},
   "outputs": [
    {
     "name": "stdout",
     "output_type": "stream",
     "text": [
      "Not equal to 38\n",
      "       C     D     E\n",
      "A  True  True  True\n",
      "B  True  True  True\n"
     ]
    }
   ],
   "source": [
    "print(\"Not equal to 38\\n\", df_1.ne(38.0))"
   ]
  },
  {
   "cell_type": "code",
   "execution_count": 68,
   "id": "541f208d",
   "metadata": {},
   "outputs": [
    {
     "data": {
      "text/html": [
       "<div>\n",
       "<style scoped>\n",
       "    .dataframe tbody tr th:only-of-type {\n",
       "        vertical-align: middle;\n",
       "    }\n",
       "\n",
       "    .dataframe tbody tr th {\n",
       "        vertical-align: top;\n",
       "    }\n",
       "\n",
       "    .dataframe thead th {\n",
       "        text-align: right;\n",
       "    }\n",
       "</style>\n",
       "<table border=\"1\" class=\"dataframe\">\n",
       "  <thead>\n",
       "    <tr style=\"text-align: right;\">\n",
       "      <th></th>\n",
       "      <th>C</th>\n",
       "      <th>D</th>\n",
       "      <th>E</th>\n",
       "    </tr>\n",
       "  </thead>\n",
       "  <tbody>\n",
       "    <tr>\n",
       "      <th>A</th>\n",
       "      <td>NaN</td>\n",
       "      <td>NaN</td>\n",
       "      <td>NaN</td>\n",
       "    </tr>\n",
       "    <tr>\n",
       "      <th>B</th>\n",
       "      <td>NaN</td>\n",
       "      <td>47.0</td>\n",
       "      <td>NaN</td>\n",
       "    </tr>\n",
       "  </tbody>\n",
       "</table>\n",
       "</div>"
      ],
      "text/plain": [
       "    C     D   E\n",
       "A NaN   NaN NaN\n",
       "B NaN  47.0 NaN"
      ]
     },
     "execution_count": 68,
     "metadata": {},
     "output_type": "execute_result"
    }
   ],
   "source": [
    "# You can place conditions in brackets as well\n",
    "bool_1 = df_1 >= 45.0\n",
    "df_1[bool_1]"
   ]
  },
  {
   "cell_type": "code",
   "execution_count": 69,
   "id": "de0790d2",
   "metadata": {},
   "outputs": [
    {
     "data": {
      "text/plain": [
       "A    True\n",
       "B    True\n",
       "Name: E, dtype: bool"
      ]
     },
     "execution_count": 69,
     "metadata": {},
     "output_type": "execute_result"
    }
   ],
   "source": [
    "# Get bools for a column\n",
    "df_1['E'] > 40"
   ]
  },
  {
   "cell_type": "code",
   "execution_count": 70,
   "id": "e1f18eb7",
   "metadata": {},
   "outputs": [
    {
     "data": {
      "text/html": [
       "<div>\n",
       "<style scoped>\n",
       "    .dataframe tbody tr th:only-of-type {\n",
       "        vertical-align: middle;\n",
       "    }\n",
       "\n",
       "    .dataframe tbody tr th {\n",
       "        vertical-align: top;\n",
       "    }\n",
       "\n",
       "    .dataframe thead th {\n",
       "        text-align: right;\n",
       "    }\n",
       "</style>\n",
       "<table border=\"1\" class=\"dataframe\">\n",
       "  <thead>\n",
       "    <tr style=\"text-align: right;\">\n",
       "      <th></th>\n",
       "      <th>C</th>\n",
       "      <th>D</th>\n",
       "      <th>E</th>\n",
       "    </tr>\n",
       "  </thead>\n",
       "  <tbody>\n",
       "    <tr>\n",
       "      <th>A</th>\n",
       "      <td>21</td>\n",
       "      <td>39</td>\n",
       "      <td>42</td>\n",
       "    </tr>\n",
       "    <tr>\n",
       "      <th>B</th>\n",
       "      <td>22</td>\n",
       "      <td>47</td>\n",
       "      <td>43</td>\n",
       "    </tr>\n",
       "  </tbody>\n",
       "</table>\n",
       "</div>"
      ],
      "text/plain": [
       "    C   D   E\n",
       "A  21  39  42\n",
       "B  22  47  43"
      ]
     },
     "execution_count": 70,
     "metadata": {},
     "output_type": "execute_result"
    }
   ],
   "source": [
    "# Return a row if cell value in column matches a condition\n",
    "df_1[df_1['E']>30]"
   ]
  },
  {
   "cell_type": "code",
   "execution_count": 71,
   "id": "a4e2a1a9",
   "metadata": {},
   "outputs": [
    {
     "data": {
      "text/plain": [
       "A    21\n",
       "B    22\n",
       "Name: C, dtype: int64"
      ]
     },
     "execution_count": 71,
     "metadata": {},
     "output_type": "execute_result"
    }
   ],
   "source": [
    "# You can focus on a column based on resulting dataframe\n",
    "df_2 = df_1[df_1['E']>30]\n",
    "df_2['C']"
   ]
  },
  {
   "cell_type": "code",
   "execution_count": 72,
   "id": "40377fa0",
   "metadata": {},
   "outputs": [
    {
     "name": "stdout",
     "output_type": "stream",
     "text": [
      "A    21\n",
      "B    22\n",
      "Name: C, dtype: int64\n",
      "\n"
     ]
    }
   ],
   "source": [
    "# You can stack these commands\n",
    "print(df_1[df_1['E']>20]['C'])\n",
    "print()"
   ]
  },
  {
   "cell_type": "code",
   "execution_count": 73,
   "id": "4ba3f662",
   "metadata": {},
   "outputs": [
    {
     "name": "stdout",
     "output_type": "stream",
     "text": [
      "    C   D\n",
      "A  21  39\n",
      "B  22  47\n"
     ]
    }
   ],
   "source": [
    "# You can also grab multiple columns\n",
    "print(df_1[df_1['E']>20][['C', 'D']])"
   ]
  },
  {
   "cell_type": "code",
   "execution_count": 74,
   "id": "875e661d",
   "metadata": {},
   "outputs": [
    {
     "name": "stdout",
     "output_type": "stream",
     "text": [
      "   X  Y  Z\n",
      "A  1  2  3\n",
      "B  4  5  6\n",
      "C  7  8  9 \n",
      "\n"
     ]
    }
   ],
   "source": [
    "# You can use multiple conditions\n",
    "arr_3 = np.array([[1, 2, 3], [4, 5, 6], [7, 8, 9]])\n",
    "df_2 = pd.DataFrame(arr_3, index = ['A', 'B', 'C'], columns= ['X', 'Y', 'Z'])\n",
    "print(df_2, \"\\n\")"
   ]
  },
  {
   "cell_type": "code",
   "execution_count": 75,
   "id": "ad33c7de",
   "metadata": {},
   "outputs": [
    {
     "data": {
      "text/html": [
       "<div>\n",
       "<style scoped>\n",
       "    .dataframe tbody tr th:only-of-type {\n",
       "        vertical-align: middle;\n",
       "    }\n",
       "\n",
       "    .dataframe tbody tr th {\n",
       "        vertical-align: top;\n",
       "    }\n",
       "\n",
       "    .dataframe thead th {\n",
       "        text-align: right;\n",
       "    }\n",
       "</style>\n",
       "<table border=\"1\" class=\"dataframe\">\n",
       "  <thead>\n",
       "    <tr style=\"text-align: right;\">\n",
       "      <th></th>\n",
       "      <th>X</th>\n",
       "      <th>Y</th>\n",
       "      <th>Z</th>\n",
       "    </tr>\n",
       "  </thead>\n",
       "  <tbody>\n",
       "    <tr>\n",
       "      <th>B</th>\n",
       "      <td>4</td>\n",
       "      <td>5</td>\n",
       "      <td>6</td>\n",
       "    </tr>\n",
       "  </tbody>\n",
       "</table>\n",
       "</div>"
      ],
      "text/plain": [
       "   X  Y  Z\n",
       "B  4  5  6"
      ]
     },
     "execution_count": 75,
     "metadata": {},
     "output_type": "execute_result"
    }
   ],
   "source": [
    "# You can use or | to combine conditions as well\n",
    "df_2[(df_2['X']>3) & (df_2['X']<7)]"
   ]
  },
  {
   "cell_type": "markdown",
   "id": "c62855a6",
   "metadata": {},
   "source": [
    "# File Input / Output"
   ]
  },
  {
   "cell_type": "markdown",
   "id": "a298d459",
   "metadata": {},
   "source": [
    "Pandas can work with the following types of data : CSV, Plain Text, JSON, XML, PDF, SQL, HTML, XLSX, DOCX, ZIP, Images Hierarchical Data Format, MP3, and MP4."
   ]
  },
  {
   "cell_type": "code",
   "execution_count": 80,
   "id": "89b98294",
   "metadata": {},
   "outputs": [
    {
     "data": {
      "text/html": [
       "<div>\n",
       "<style scoped>\n",
       "    .dataframe tbody tr th:only-of-type {\n",
       "        vertical-align: middle;\n",
       "    }\n",
       "\n",
       "    .dataframe tbody tr th {\n",
       "        vertical-align: top;\n",
       "    }\n",
       "\n",
       "    .dataframe thead th {\n",
       "        text-align: right;\n",
       "    }\n",
       "</style>\n",
       "<table border=\"1\" class=\"dataframe\">\n",
       "  <thead>\n",
       "    <tr style=\"text-align: right;\">\n",
       "      <th></th>\n",
       "      <th>first_name</th>\n",
       "      <th>last_name</th>\n",
       "      <th>phone_number</th>\n",
       "    </tr>\n",
       "  </thead>\n",
       "  <tbody>\n",
       "    <tr>\n",
       "      <th>0</th>\n",
       "      <td>John</td>\n",
       "      <td>Lennon</td>\n",
       "      <td>123</td>\n",
       "    </tr>\n",
       "    <tr>\n",
       "      <th>1</th>\n",
       "      <td>George</td>\n",
       "      <td>Harrisson</td>\n",
       "      <td>456</td>\n",
       "    </tr>\n",
       "    <tr>\n",
       "      <th>2</th>\n",
       "      <td>Ringo</td>\n",
       "      <td>Starr</td>\n",
       "      <td>789</td>\n",
       "    </tr>\n",
       "  </tbody>\n",
       "</table>\n",
       "</div>"
      ],
      "text/plain": [
       "  first_name  last_name  phone_number\n",
       "0       John     Lennon           123\n",
       "1     George  Harrisson           456\n",
       "2      Ringo      Starr           789"
      ]
     },
     "execution_count": 80,
     "metadata": {},
     "output_type": "execute_result"
    }
   ],
   "source": [
    "# Read a CSV file\n",
    "# Type pd.read_ [TAB] to see the file types you can read\n",
    "pb_df = pd.read_csv('../raw_data/phone_book.csv')\n",
    "pb_df"
   ]
  },
  {
   "cell_type": "code",
   "execution_count": 84,
   "id": "a756d6aa",
   "metadata": {},
   "outputs": [],
   "source": [
    "spotify_df = pd.read_csv('../raw_data/spotify_2017.csv')"
   ]
  },
  {
   "cell_type": "markdown",
   "id": "339de94e",
   "metadata": {},
   "source": [
    "## Subset Observations - rows"
   ]
  },
  {
   "cell_type": "code",
   "execution_count": 91,
   "id": "5a34ef59",
   "metadata": {},
   "outputs": [
    {
     "name": "stdout",
     "output_type": "stream",
     "text": [
      "<class 'pandas.core.frame.DataFrame'>\n",
      "RangeIndex: 100 entries, 0 to 99\n",
      "Data columns (total 16 columns):\n",
      " #   Column            Non-Null Count  Dtype  \n",
      "---  ------            --------------  -----  \n",
      " 0   id                100 non-null    object \n",
      " 1   name              100 non-null    object \n",
      " 2   artists           100 non-null    object \n",
      " 3   danceability      100 non-null    float64\n",
      " 4   energy            100 non-null    float64\n",
      " 5   key               100 non-null    float64\n",
      " 6   loudness          100 non-null    float64\n",
      " 7   mode              100 non-null    float64\n",
      " 8   speechiness       100 non-null    float64\n",
      " 9   acousticness      100 non-null    float64\n",
      " 10  instrumentalness  100 non-null    float64\n",
      " 11  liveness          100 non-null    float64\n",
      " 12  valence           100 non-null    float64\n",
      " 13  tempo             100 non-null    float64\n",
      " 14  duration_ms       100 non-null    float64\n",
      " 15  time_signature    100 non-null    float64\n",
      "dtypes: float64(13), object(3)\n",
      "memory usage: 12.6+ KB\n"
     ]
    }
   ],
   "source": [
    "# Get info of dataset\n",
    "spotify_df.info()"
   ]
  },
  {
   "cell_type": "code",
   "execution_count": 93,
   "id": "0d9d61a3",
   "metadata": {},
   "outputs": [
    {
     "data": {
      "text/plain": [
       "(100, 16)"
      ]
     },
     "execution_count": 93,
     "metadata": {},
     "output_type": "execute_result"
    }
   ],
   "source": [
    "spotify_df.shape"
   ]
  },
  {
   "cell_type": "code",
   "execution_count": 86,
   "id": "31e65a2f",
   "metadata": {},
   "outputs": [
    {
     "data": {
      "text/html": [
       "<div>\n",
       "<style scoped>\n",
       "    .dataframe tbody tr th:only-of-type {\n",
       "        vertical-align: middle;\n",
       "    }\n",
       "\n",
       "    .dataframe tbody tr th {\n",
       "        vertical-align: top;\n",
       "    }\n",
       "\n",
       "    .dataframe thead th {\n",
       "        text-align: right;\n",
       "    }\n",
       "</style>\n",
       "<table border=\"1\" class=\"dataframe\">\n",
       "  <thead>\n",
       "    <tr style=\"text-align: right;\">\n",
       "      <th></th>\n",
       "      <th>id</th>\n",
       "      <th>name</th>\n",
       "      <th>artists</th>\n",
       "      <th>danceability</th>\n",
       "      <th>energy</th>\n",
       "      <th>key</th>\n",
       "      <th>loudness</th>\n",
       "      <th>mode</th>\n",
       "      <th>speechiness</th>\n",
       "      <th>acousticness</th>\n",
       "      <th>instrumentalness</th>\n",
       "      <th>liveness</th>\n",
       "      <th>valence</th>\n",
       "      <th>tempo</th>\n",
       "      <th>duration_ms</th>\n",
       "      <th>time_signature</th>\n",
       "    </tr>\n",
       "  </thead>\n",
       "  <tbody>\n",
       "    <tr>\n",
       "      <th>0</th>\n",
       "      <td>7qiZfU4dY1lWllzX7mPBI</td>\n",
       "      <td>Shape of You</td>\n",
       "      <td>Ed Sheeran</td>\n",
       "      <td>0.825</td>\n",
       "      <td>0.652</td>\n",
       "      <td>1.0</td>\n",
       "      <td>-3.183</td>\n",
       "      <td>0.0</td>\n",
       "      <td>0.0802</td>\n",
       "      <td>0.5810</td>\n",
       "      <td>0.000000</td>\n",
       "      <td>0.0931</td>\n",
       "      <td>0.931</td>\n",
       "      <td>95.977</td>\n",
       "      <td>233713.0</td>\n",
       "      <td>4.0</td>\n",
       "    </tr>\n",
       "    <tr>\n",
       "      <th>1</th>\n",
       "      <td>5CtI0qwDJkDQGwXD1H1cL</td>\n",
       "      <td>Despacito - Remix</td>\n",
       "      <td>Luis Fonsi</td>\n",
       "      <td>0.694</td>\n",
       "      <td>0.815</td>\n",
       "      <td>2.0</td>\n",
       "      <td>-4.328</td>\n",
       "      <td>1.0</td>\n",
       "      <td>0.1200</td>\n",
       "      <td>0.2290</td>\n",
       "      <td>0.000000</td>\n",
       "      <td>0.0924</td>\n",
       "      <td>0.813</td>\n",
       "      <td>88.931</td>\n",
       "      <td>228827.0</td>\n",
       "      <td>4.0</td>\n",
       "    </tr>\n",
       "    <tr>\n",
       "      <th>2</th>\n",
       "      <td>4aWmUDTfIPGksMNLV2rQP</td>\n",
       "      <td>Despacito (Featuring Daddy Yankee)</td>\n",
       "      <td>Luis Fonsi</td>\n",
       "      <td>0.660</td>\n",
       "      <td>0.786</td>\n",
       "      <td>2.0</td>\n",
       "      <td>-4.757</td>\n",
       "      <td>1.0</td>\n",
       "      <td>0.1700</td>\n",
       "      <td>0.2090</td>\n",
       "      <td>0.000000</td>\n",
       "      <td>0.1120</td>\n",
       "      <td>0.846</td>\n",
       "      <td>177.833</td>\n",
       "      <td>228200.0</td>\n",
       "      <td>4.0</td>\n",
       "    </tr>\n",
       "    <tr>\n",
       "      <th>3</th>\n",
       "      <td>6RUKPb4LETWmmr3iAEQkt</td>\n",
       "      <td>Something Just Like This</td>\n",
       "      <td>The Chainsmokers</td>\n",
       "      <td>0.617</td>\n",
       "      <td>0.635</td>\n",
       "      <td>11.0</td>\n",
       "      <td>-6.769</td>\n",
       "      <td>0.0</td>\n",
       "      <td>0.0317</td>\n",
       "      <td>0.0498</td>\n",
       "      <td>0.000014</td>\n",
       "      <td>0.1640</td>\n",
       "      <td>0.446</td>\n",
       "      <td>103.019</td>\n",
       "      <td>247160.0</td>\n",
       "      <td>4.0</td>\n",
       "    </tr>\n",
       "    <tr>\n",
       "      <th>4</th>\n",
       "      <td>3DXncPQOG4VBw3QHh3S81</td>\n",
       "      <td>I'm the One</td>\n",
       "      <td>DJ Khaled</td>\n",
       "      <td>0.609</td>\n",
       "      <td>0.668</td>\n",
       "      <td>7.0</td>\n",
       "      <td>-4.284</td>\n",
       "      <td>1.0</td>\n",
       "      <td>0.0367</td>\n",
       "      <td>0.0552</td>\n",
       "      <td>0.000000</td>\n",
       "      <td>0.1670</td>\n",
       "      <td>0.811</td>\n",
       "      <td>80.924</td>\n",
       "      <td>288600.0</td>\n",
       "      <td>4.0</td>\n",
       "    </tr>\n",
       "  </tbody>\n",
       "</table>\n",
       "</div>"
      ],
      "text/plain": [
       "                      id                                name  \\\n",
       "0  7qiZfU4dY1lWllzX7mPBI                        Shape of You   \n",
       "1  5CtI0qwDJkDQGwXD1H1cL                   Despacito - Remix   \n",
       "2  4aWmUDTfIPGksMNLV2rQP  Despacito (Featuring Daddy Yankee)   \n",
       "3  6RUKPb4LETWmmr3iAEQkt            Something Just Like This   \n",
       "4  3DXncPQOG4VBw3QHh3S81                         I'm the One   \n",
       "\n",
       "            artists  danceability  energy   key  loudness  mode  speechiness  \\\n",
       "0        Ed Sheeran         0.825   0.652   1.0    -3.183   0.0       0.0802   \n",
       "1        Luis Fonsi         0.694   0.815   2.0    -4.328   1.0       0.1200   \n",
       "2        Luis Fonsi         0.660   0.786   2.0    -4.757   1.0       0.1700   \n",
       "3  The Chainsmokers         0.617   0.635  11.0    -6.769   0.0       0.0317   \n",
       "4         DJ Khaled         0.609   0.668   7.0    -4.284   1.0       0.0367   \n",
       "\n",
       "   acousticness  instrumentalness  liveness  valence    tempo  duration_ms  \\\n",
       "0        0.5810          0.000000    0.0931    0.931   95.977     233713.0   \n",
       "1        0.2290          0.000000    0.0924    0.813   88.931     228827.0   \n",
       "2        0.2090          0.000000    0.1120    0.846  177.833     228200.0   \n",
       "3        0.0498          0.000014    0.1640    0.446  103.019     247160.0   \n",
       "4        0.0552          0.000000    0.1670    0.811   80.924     288600.0   \n",
       "\n",
       "   time_signature  \n",
       "0             4.0  \n",
       "1             4.0  \n",
       "2             4.0  \n",
       "3             4.0  \n",
       "4             4.0  "
      ]
     },
     "execution_count": 86,
     "metadata": {},
     "output_type": "execute_result"
    }
   ],
   "source": [
    "# Display 1st 5 rows\n",
    "spotify_df.head()"
   ]
  },
  {
   "cell_type": "code",
   "execution_count": 87,
   "id": "ea8f0a24",
   "metadata": {},
   "outputs": [
    {
     "data": {
      "text/html": [
       "<div>\n",
       "<style scoped>\n",
       "    .dataframe tbody tr th:only-of-type {\n",
       "        vertical-align: middle;\n",
       "    }\n",
       "\n",
       "    .dataframe tbody tr th {\n",
       "        vertical-align: top;\n",
       "    }\n",
       "\n",
       "    .dataframe thead th {\n",
       "        text-align: right;\n",
       "    }\n",
       "</style>\n",
       "<table border=\"1\" class=\"dataframe\">\n",
       "  <thead>\n",
       "    <tr style=\"text-align: right;\">\n",
       "      <th></th>\n",
       "      <th>id</th>\n",
       "      <th>name</th>\n",
       "      <th>artists</th>\n",
       "      <th>danceability</th>\n",
       "      <th>energy</th>\n",
       "      <th>key</th>\n",
       "      <th>loudness</th>\n",
       "      <th>mode</th>\n",
       "      <th>speechiness</th>\n",
       "      <th>acousticness</th>\n",
       "      <th>instrumentalness</th>\n",
       "      <th>liveness</th>\n",
       "      <th>valence</th>\n",
       "      <th>tempo</th>\n",
       "      <th>duration_ms</th>\n",
       "      <th>time_signature</th>\n",
       "    </tr>\n",
       "  </thead>\n",
       "  <tbody>\n",
       "    <tr>\n",
       "      <th>95</th>\n",
       "      <td>1PSBzsahR2AKwLJgx8ehB</td>\n",
       "      <td>Bad Things (with Camila Cabello)</td>\n",
       "      <td>Machine Gun Kelly</td>\n",
       "      <td>0.675</td>\n",
       "      <td>0.690</td>\n",
       "      <td>2.0</td>\n",
       "      <td>-4.761</td>\n",
       "      <td>1.0</td>\n",
       "      <td>0.1320</td>\n",
       "      <td>0.210</td>\n",
       "      <td>0.000000</td>\n",
       "      <td>0.287</td>\n",
       "      <td>0.2720</td>\n",
       "      <td>137.817</td>\n",
       "      <td>239293.0</td>\n",
       "      <td>4.0</td>\n",
       "    </tr>\n",
       "    <tr>\n",
       "      <th>96</th>\n",
       "      <td>0QsvXIfqM0zZoerQfsI9l</td>\n",
       "      <td>Don't Let Me Down</td>\n",
       "      <td>The Chainsmokers</td>\n",
       "      <td>0.542</td>\n",
       "      <td>0.859</td>\n",
       "      <td>11.0</td>\n",
       "      <td>-5.651</td>\n",
       "      <td>1.0</td>\n",
       "      <td>0.1970</td>\n",
       "      <td>0.160</td>\n",
       "      <td>0.004660</td>\n",
       "      <td>0.137</td>\n",
       "      <td>0.4030</td>\n",
       "      <td>159.797</td>\n",
       "      <td>208053.0</td>\n",
       "      <td>4.0</td>\n",
       "    </tr>\n",
       "    <tr>\n",
       "      <th>97</th>\n",
       "      <td>7mldq42yDuxiUNn08nvzH</td>\n",
       "      <td>Body Like A Back Road</td>\n",
       "      <td>Sam Hunt</td>\n",
       "      <td>0.731</td>\n",
       "      <td>0.469</td>\n",
       "      <td>5.0</td>\n",
       "      <td>-7.226</td>\n",
       "      <td>1.0</td>\n",
       "      <td>0.0326</td>\n",
       "      <td>0.463</td>\n",
       "      <td>0.000001</td>\n",
       "      <td>0.103</td>\n",
       "      <td>0.6310</td>\n",
       "      <td>98.963</td>\n",
       "      <td>165387.0</td>\n",
       "      <td>4.0</td>\n",
       "    </tr>\n",
       "    <tr>\n",
       "      <th>98</th>\n",
       "      <td>7i2DJ88J7jQ8K7zqFX2fW</td>\n",
       "      <td>Now Or Never</td>\n",
       "      <td>Halsey</td>\n",
       "      <td>0.658</td>\n",
       "      <td>0.588</td>\n",
       "      <td>6.0</td>\n",
       "      <td>-4.902</td>\n",
       "      <td>0.0</td>\n",
       "      <td>0.0367</td>\n",
       "      <td>0.105</td>\n",
       "      <td>0.000001</td>\n",
       "      <td>0.125</td>\n",
       "      <td>0.4340</td>\n",
       "      <td>110.075</td>\n",
       "      <td>214802.0</td>\n",
       "      <td>4.0</td>\n",
       "    </tr>\n",
       "    <tr>\n",
       "      <th>99</th>\n",
       "      <td>1j4kHkkpqZRBwE0A4CN4Y</td>\n",
       "      <td>Dusk Till Dawn - Radio Edit</td>\n",
       "      <td>ZAYN</td>\n",
       "      <td>0.258</td>\n",
       "      <td>0.437</td>\n",
       "      <td>11.0</td>\n",
       "      <td>-6.593</td>\n",
       "      <td>0.0</td>\n",
       "      <td>0.0390</td>\n",
       "      <td>0.101</td>\n",
       "      <td>0.000001</td>\n",
       "      <td>0.106</td>\n",
       "      <td>0.0967</td>\n",
       "      <td>180.043</td>\n",
       "      <td>239000.0</td>\n",
       "      <td>4.0</td>\n",
       "    </tr>\n",
       "  </tbody>\n",
       "</table>\n",
       "</div>"
      ],
      "text/plain": [
       "                       id                              name  \\\n",
       "95  1PSBzsahR2AKwLJgx8ehB  Bad Things (with Camila Cabello)   \n",
       "96  0QsvXIfqM0zZoerQfsI9l                 Don't Let Me Down   \n",
       "97  7mldq42yDuxiUNn08nvzH             Body Like A Back Road   \n",
       "98  7i2DJ88J7jQ8K7zqFX2fW                      Now Or Never   \n",
       "99  1j4kHkkpqZRBwE0A4CN4Y       Dusk Till Dawn - Radio Edit   \n",
       "\n",
       "              artists  danceability  energy   key  loudness  mode  \\\n",
       "95  Machine Gun Kelly         0.675   0.690   2.0    -4.761   1.0   \n",
       "96   The Chainsmokers         0.542   0.859  11.0    -5.651   1.0   \n",
       "97           Sam Hunt         0.731   0.469   5.0    -7.226   1.0   \n",
       "98             Halsey         0.658   0.588   6.0    -4.902   0.0   \n",
       "99               ZAYN         0.258   0.437  11.0    -6.593   0.0   \n",
       "\n",
       "    speechiness  acousticness  instrumentalness  liveness  valence    tempo  \\\n",
       "95       0.1320         0.210          0.000000     0.287   0.2720  137.817   \n",
       "96       0.1970         0.160          0.004660     0.137   0.4030  159.797   \n",
       "97       0.0326         0.463          0.000001     0.103   0.6310   98.963   \n",
       "98       0.0367         0.105          0.000001     0.125   0.4340  110.075   \n",
       "99       0.0390         0.101          0.000001     0.106   0.0967  180.043   \n",
       "\n",
       "    duration_ms  time_signature  \n",
       "95     239293.0             4.0  \n",
       "96     208053.0             4.0  \n",
       "97     165387.0             4.0  \n",
       "98     214802.0             4.0  \n",
       "99     239000.0             4.0  "
      ]
     },
     "execution_count": 87,
     "metadata": {},
     "output_type": "execute_result"
    }
   ],
   "source": [
    "# Display last 5 rows\n",
    "spotify_df.tail()"
   ]
  },
  {
   "cell_type": "code",
   "execution_count": 88,
   "id": "b6dcc157",
   "metadata": {},
   "outputs": [
    {
     "data": {
      "text/html": [
       "<div>\n",
       "<style scoped>\n",
       "    .dataframe tbody tr th:only-of-type {\n",
       "        vertical-align: middle;\n",
       "    }\n",
       "\n",
       "    .dataframe tbody tr th {\n",
       "        vertical-align: top;\n",
       "    }\n",
       "\n",
       "    .dataframe thead th {\n",
       "        text-align: right;\n",
       "    }\n",
       "</style>\n",
       "<table border=\"1\" class=\"dataframe\">\n",
       "  <thead>\n",
       "    <tr style=\"text-align: right;\">\n",
       "      <th></th>\n",
       "      <th>id</th>\n",
       "      <th>name</th>\n",
       "      <th>artists</th>\n",
       "      <th>danceability</th>\n",
       "      <th>energy</th>\n",
       "      <th>key</th>\n",
       "      <th>loudness</th>\n",
       "      <th>mode</th>\n",
       "      <th>speechiness</th>\n",
       "      <th>acousticness</th>\n",
       "      <th>instrumentalness</th>\n",
       "      <th>liveness</th>\n",
       "      <th>valence</th>\n",
       "      <th>tempo</th>\n",
       "      <th>duration_ms</th>\n",
       "      <th>time_signature</th>\n",
       "    </tr>\n",
       "  </thead>\n",
       "  <tbody>\n",
       "    <tr>\n",
       "      <th>0</th>\n",
       "      <td>7qiZfU4dY1lWllzX7mPBI</td>\n",
       "      <td>Shape of You</td>\n",
       "      <td>Ed Sheeran</td>\n",
       "      <td>0.825</td>\n",
       "      <td>0.652</td>\n",
       "      <td>1.0</td>\n",
       "      <td>-3.183</td>\n",
       "      <td>0.0</td>\n",
       "      <td>0.0802</td>\n",
       "      <td>0.581</td>\n",
       "      <td>0.0</td>\n",
       "      <td>0.0931</td>\n",
       "      <td>0.931</td>\n",
       "      <td>95.977</td>\n",
       "      <td>233713.0</td>\n",
       "      <td>4.0</td>\n",
       "    </tr>\n",
       "    <tr>\n",
       "      <th>1</th>\n",
       "      <td>5CtI0qwDJkDQGwXD1H1cL</td>\n",
       "      <td>Despacito - Remix</td>\n",
       "      <td>Luis Fonsi</td>\n",
       "      <td>0.694</td>\n",
       "      <td>0.815</td>\n",
       "      <td>2.0</td>\n",
       "      <td>-4.328</td>\n",
       "      <td>1.0</td>\n",
       "      <td>0.1200</td>\n",
       "      <td>0.229</td>\n",
       "      <td>0.0</td>\n",
       "      <td>0.0924</td>\n",
       "      <td>0.813</td>\n",
       "      <td>88.931</td>\n",
       "      <td>228827.0</td>\n",
       "      <td>4.0</td>\n",
       "    </tr>\n",
       "  </tbody>\n",
       "</table>\n",
       "</div>"
      ],
      "text/plain": [
       "                      id               name     artists  danceability  energy  \\\n",
       "0  7qiZfU4dY1lWllzX7mPBI       Shape of You  Ed Sheeran         0.825   0.652   \n",
       "1  5CtI0qwDJkDQGwXD1H1cL  Despacito - Remix  Luis Fonsi         0.694   0.815   \n",
       "\n",
       "   key  loudness  mode  speechiness  acousticness  instrumentalness  liveness  \\\n",
       "0  1.0    -3.183   0.0       0.0802         0.581               0.0    0.0931   \n",
       "1  2.0    -4.328   1.0       0.1200         0.229               0.0    0.0924   \n",
       "\n",
       "   valence   tempo  duration_ms  time_signature  \n",
       "0    0.931  95.977     233713.0             4.0  \n",
       "1    0.813  88.931     228827.0             4.0  "
      ]
     },
     "execution_count": 88,
     "metadata": {},
     "output_type": "execute_result"
    }
   ],
   "source": [
    "# Get 1st 2 rows\n",
    "spotify_df[:2]"
   ]
  },
  {
   "cell_type": "code",
   "execution_count": 89,
   "id": "67ad9b84",
   "metadata": {},
   "outputs": [
    {
     "data": {
      "text/html": [
       "<div>\n",
       "<style scoped>\n",
       "    .dataframe tbody tr th:only-of-type {\n",
       "        vertical-align: middle;\n",
       "    }\n",
       "\n",
       "    .dataframe tbody tr th {\n",
       "        vertical-align: top;\n",
       "    }\n",
       "\n",
       "    .dataframe thead th {\n",
       "        text-align: right;\n",
       "    }\n",
       "</style>\n",
       "<table border=\"1\" class=\"dataframe\">\n",
       "  <thead>\n",
       "    <tr style=\"text-align: right;\">\n",
       "      <th></th>\n",
       "      <th>id</th>\n",
       "      <th>name</th>\n",
       "      <th>artists</th>\n",
       "      <th>danceability</th>\n",
       "      <th>energy</th>\n",
       "      <th>key</th>\n",
       "      <th>loudness</th>\n",
       "      <th>mode</th>\n",
       "      <th>speechiness</th>\n",
       "      <th>acousticness</th>\n",
       "      <th>instrumentalness</th>\n",
       "      <th>liveness</th>\n",
       "      <th>valence</th>\n",
       "      <th>tempo</th>\n",
       "      <th>duration_ms</th>\n",
       "      <th>time_signature</th>\n",
       "    </tr>\n",
       "  </thead>\n",
       "  <tbody>\n",
       "    <tr>\n",
       "      <th>0</th>\n",
       "      <td>7qiZfU4dY1lWllzX7mPBI</td>\n",
       "      <td>Shape of You</td>\n",
       "      <td>Ed Sheeran</td>\n",
       "      <td>0.825</td>\n",
       "      <td>0.652</td>\n",
       "      <td>1.0</td>\n",
       "      <td>-3.183</td>\n",
       "      <td>0.0</td>\n",
       "      <td>0.0802</td>\n",
       "      <td>0.5810</td>\n",
       "      <td>0.0</td>\n",
       "      <td>0.0931</td>\n",
       "      <td>0.931</td>\n",
       "      <td>95.977</td>\n",
       "      <td>233713.0</td>\n",
       "      <td>4.0</td>\n",
       "    </tr>\n",
       "    <tr>\n",
       "      <th>2</th>\n",
       "      <td>4aWmUDTfIPGksMNLV2rQP</td>\n",
       "      <td>Despacito (Featuring Daddy Yankee)</td>\n",
       "      <td>Luis Fonsi</td>\n",
       "      <td>0.660</td>\n",
       "      <td>0.786</td>\n",
       "      <td>2.0</td>\n",
       "      <td>-4.757</td>\n",
       "      <td>1.0</td>\n",
       "      <td>0.1700</td>\n",
       "      <td>0.2090</td>\n",
       "      <td>0.0</td>\n",
       "      <td>0.1120</td>\n",
       "      <td>0.846</td>\n",
       "      <td>177.833</td>\n",
       "      <td>228200.0</td>\n",
       "      <td>4.0</td>\n",
       "    </tr>\n",
       "    <tr>\n",
       "      <th>4</th>\n",
       "      <td>3DXncPQOG4VBw3QHh3S81</td>\n",
       "      <td>I'm the One</td>\n",
       "      <td>DJ Khaled</td>\n",
       "      <td>0.609</td>\n",
       "      <td>0.668</td>\n",
       "      <td>7.0</td>\n",
       "      <td>-4.284</td>\n",
       "      <td>1.0</td>\n",
       "      <td>0.0367</td>\n",
       "      <td>0.0552</td>\n",
       "      <td>0.0</td>\n",
       "      <td>0.1670</td>\n",
       "      <td>0.811</td>\n",
       "      <td>80.924</td>\n",
       "      <td>288600.0</td>\n",
       "      <td>4.0</td>\n",
       "    </tr>\n",
       "  </tbody>\n",
       "</table>\n",
       "</div>"
      ],
      "text/plain": [
       "                      id                                name     artists  \\\n",
       "0  7qiZfU4dY1lWllzX7mPBI                        Shape of You  Ed Sheeran   \n",
       "2  4aWmUDTfIPGksMNLV2rQP  Despacito (Featuring Daddy Yankee)  Luis Fonsi   \n",
       "4  3DXncPQOG4VBw3QHh3S81                         I'm the One   DJ Khaled   \n",
       "\n",
       "   danceability  energy  key  loudness  mode  speechiness  acousticness  \\\n",
       "0         0.825   0.652  1.0    -3.183   0.0       0.0802        0.5810   \n",
       "2         0.660   0.786  2.0    -4.757   1.0       0.1700        0.2090   \n",
       "4         0.609   0.668  7.0    -4.284   1.0       0.0367        0.0552   \n",
       "\n",
       "   instrumentalness  liveness  valence    tempo  duration_ms  time_signature  \n",
       "0               0.0    0.0931    0.931   95.977     233713.0             4.0  \n",
       "2               0.0    0.1120    0.846  177.833     228200.0             4.0  \n",
       "4               0.0    0.1670    0.811   80.924     288600.0             4.0  "
      ]
     },
     "execution_count": 89,
     "metadata": {},
     "output_type": "execute_result"
    }
   ],
   "source": [
    "# Get 1st through 5 with a 2 step\n",
    "spotify_df[:5:2]"
   ]
  },
  {
   "cell_type": "code",
   "execution_count": 90,
   "id": "74a80515",
   "metadata": {},
   "outputs": [
    {
     "data": {
      "text/plain": [
       "<PandasArray>\n",
       "[ 0,  1,  2,  3,  4,  5,  6,  7,  8,  9, 10, 11, 12, 13, 14, 15, 16, 17, 18,\n",
       " 19, 20, 21, 22, 23, 24, 25, 26, 27, 28, 29, 30, 31, 32, 33, 34, 35, 36, 37,\n",
       " 38, 39, 40, 41, 42, 43, 44, 45, 46, 47, 48, 49, 50, 51, 52, 53, 54, 55, 56,\n",
       " 57, 58, 59, 60, 61, 62, 63, 64, 65, 66, 67, 68, 69, 70, 71, 72, 73, 74, 75,\n",
       " 76, 77, 78, 79, 80, 81, 82, 83, 84, 85, 86, 87, 88, 89, 90, 91, 92, 93, 94,\n",
       " 95, 96, 97, 98, 99]\n",
       "Length: 100, dtype: int64"
      ]
     },
     "execution_count": 90,
     "metadata": {},
     "output_type": "execute_result"
    }
   ],
   "source": [
    "# Get indexes\n",
    "spotify_df.index.array"
   ]
  },
  {
   "cell_type": "code",
   "execution_count": 95,
   "id": "e1734358",
   "metadata": {},
   "outputs": [
    {
     "data": {
      "text/plain": [
       "array(['Shape of You', 'Despacito - Remix',\n",
       "       'Despacito (Featuring Daddy Yankee)', 'Something Just Like This',\n",
       "       \"I'm the One\", 'HUMBLE.', \"It Ain't Me (with Selena Gomez)\",\n",
       "       'Unforgettable', \"That's What I Like\",\n",
       "       'I Don’t Wanna Live Forever (Fifty Shades Darker) - From \"Fifty Shades Darker (Original Motion Picture Soundtrack)\"',\n",
       "       'XO TOUR Llif3', 'Paris', 'Stay (with Alessia Cara)', 'Attention',\n",
       "       'Mask Off', 'Congratulations',\n",
       "       'Swalla (feat. Nicki Minaj & Ty Dolla $ign)', 'Castle on the Hill',\n",
       "       'Rockabye (feat. Sean Paul & Anne-Marie)', 'Believer', 'Mi Gente',\n",
       "       'Thunder', \"Say You Won't Let Go\",\n",
       "       \"There's Nothing Holdin' Me Back\", 'Me Rehúso', 'Issues',\n",
       "       'Galway Girl', 'Scared to Be Lonely', 'Closer',\n",
       "       'Symphony (feat. Zara Larsson)', 'I Feel It Coming', 'Starboy',\n",
       "       'Wild Thoughts', 'Slide', 'New Rules', '1-800-273-8255',\n",
       "       'Passionfruit', 'rockstar', 'Strip That Down',\n",
       "       '2U (feat. Justin Bieber)', 'Perfect',\n",
       "       'Call On Me - Ryan Riback Extended Remix', 'Feels', 'Mama',\n",
       "       'Felices los 4', 'iSpy (feat. Lil Yachty)', 'Location', 'Chantaje',\n",
       "       'Bad and Boujee (feat. Lil Uzi Vert)', 'Havana', 'Solo Dance',\n",
       "       'Fake Love', 'Let Me Love You', 'More Than You Know', 'One Dance',\n",
       "       'SUBEME LA RADIO', 'Pretty Girl - Cheat Codes X CADE Remix',\n",
       "       'Sorry Not Sorry', 'Redbone', '24K Magic', 'DNA.', 'El Amante',\n",
       "       \"You Don't Know Me - Radio Edit\", 'Chained To The Rhythm',\n",
       "       'No Promises (feat. Demi Lovato)',\n",
       "       \"Don't Wanna Know (feat. Kendrick Lamar)\",\n",
       "       'How Far I\\'ll Go - From \"Moana\"', 'Slow Hands',\n",
       "       'Escápate Conmigo', 'Bounce Back', 'Sign of the Times',\n",
       "       'goosebumps', 'Young Dumb & Broke', 'There for You',\n",
       "       'Cold (feat. Future)', 'Silence', 'Too Good At Goodbyes',\n",
       "       'Just Hold On', 'Look What You Made Me Do',\n",
       "       'Glorious (feat. Skylar Grey)', 'Starving',\n",
       "       'Reggaetón Lento (Bailemos)', 'Weak', 'Side To Side',\n",
       "       'Otra Vez (feat. J Balvin)', 'I Like Me Better',\n",
       "       'In the Name of Love', 'Cold Water (feat. Justin Bieber & MØ)',\n",
       "       'Malibu', 'All Night', 'Hear Me Now', 'Your Song', 'Ahora Dice',\n",
       "       'Friends (with BloodPop®)', 'Bank Account',\n",
       "       'Bad Things (with Camila Cabello)', \"Don't Let Me Down\",\n",
       "       'Body Like A Back Road', 'Now Or Never',\n",
       "       'Dusk Till Dawn - Radio Edit'], dtype=object)"
      ]
     },
     "execution_count": 95,
     "metadata": {},
     "output_type": "execute_result"
    }
   ],
   "source": [
    "# Get NumPy array\n",
    "spotify_df['name'].to_numpy()"
   ]
  },
  {
   "cell_type": "code",
   "execution_count": 109,
   "id": "f3f30cd9",
   "metadata": {},
   "outputs": [
    {
     "data": {
      "text/html": [
       "<div>\n",
       "<style scoped>\n",
       "    .dataframe tbody tr th:only-of-type {\n",
       "        vertical-align: middle;\n",
       "    }\n",
       "\n",
       "    .dataframe tbody tr th {\n",
       "        vertical-align: top;\n",
       "    }\n",
       "\n",
       "    .dataframe thead th {\n",
       "        text-align: right;\n",
       "    }\n",
       "</style>\n",
       "<table border=\"1\" class=\"dataframe\">\n",
       "  <thead>\n",
       "    <tr style=\"text-align: right;\">\n",
       "      <th></th>\n",
       "      <th>id</th>\n",
       "      <th>name</th>\n",
       "      <th>artists</th>\n",
       "      <th>danceability</th>\n",
       "      <th>energy</th>\n",
       "      <th>key</th>\n",
       "      <th>loudness</th>\n",
       "      <th>mode</th>\n",
       "      <th>speechiness</th>\n",
       "      <th>acousticness</th>\n",
       "      <th>instrumentalness</th>\n",
       "      <th>liveness</th>\n",
       "      <th>valence</th>\n",
       "      <th>tempo</th>\n",
       "      <th>duration_ms</th>\n",
       "      <th>time_signature</th>\n",
       "    </tr>\n",
       "  </thead>\n",
       "  <tbody>\n",
       "    <tr>\n",
       "      <th>4</th>\n",
       "      <td>3DXncPQOG4VBw3QHh3S81</td>\n",
       "      <td>I'm the One</td>\n",
       "      <td>DJ Khaled</td>\n",
       "      <td>0.609</td>\n",
       "      <td>0.668</td>\n",
       "      <td>7.0</td>\n",
       "      <td>-4.284</td>\n",
       "      <td>1.0</td>\n",
       "      <td>0.0367</td>\n",
       "      <td>0.0552</td>\n",
       "      <td>0.000000</td>\n",
       "      <td>0.1670</td>\n",
       "      <td>0.811</td>\n",
       "      <td>80.924</td>\n",
       "      <td>288600.0</td>\n",
       "      <td>4.0</td>\n",
       "    </tr>\n",
       "    <tr>\n",
       "      <th>60</th>\n",
       "      <td>6HZILIRieu8S0iqY8kIKh</td>\n",
       "      <td>DNA.</td>\n",
       "      <td>Kendrick Lamar</td>\n",
       "      <td>0.637</td>\n",
       "      <td>0.514</td>\n",
       "      <td>1.0</td>\n",
       "      <td>-6.763</td>\n",
       "      <td>1.0</td>\n",
       "      <td>0.3650</td>\n",
       "      <td>0.0047</td>\n",
       "      <td>0.000000</td>\n",
       "      <td>0.0940</td>\n",
       "      <td>0.402</td>\n",
       "      <td>139.931</td>\n",
       "      <td>185947.0</td>\n",
       "      <td>4.0</td>\n",
       "    </tr>\n",
       "    <tr>\n",
       "      <th>38</th>\n",
       "      <td>6EpRaXYhGOB3fj4V2uDkM</td>\n",
       "      <td>Strip That Down</td>\n",
       "      <td>Liam Payne</td>\n",
       "      <td>0.869</td>\n",
       "      <td>0.485</td>\n",
       "      <td>6.0</td>\n",
       "      <td>-5.595</td>\n",
       "      <td>1.0</td>\n",
       "      <td>0.0545</td>\n",
       "      <td>0.2460</td>\n",
       "      <td>0.000000</td>\n",
       "      <td>0.0765</td>\n",
       "      <td>0.527</td>\n",
       "      <td>106.028</td>\n",
       "      <td>204502.0</td>\n",
       "      <td>4.0</td>\n",
       "    </tr>\n",
       "    <tr>\n",
       "      <th>33</th>\n",
       "      <td>7tr2za8SQg2CI8EDgrdtN</td>\n",
       "      <td>Slide</td>\n",
       "      <td>Calvin Harris</td>\n",
       "      <td>0.736</td>\n",
       "      <td>0.795</td>\n",
       "      <td>1.0</td>\n",
       "      <td>-3.299</td>\n",
       "      <td>0.0</td>\n",
       "      <td>0.0545</td>\n",
       "      <td>0.4980</td>\n",
       "      <td>0.000001</td>\n",
       "      <td>0.2540</td>\n",
       "      <td>0.511</td>\n",
       "      <td>104.066</td>\n",
       "      <td>230813.0</td>\n",
       "      <td>4.0</td>\n",
       "    </tr>\n",
       "    <tr>\n",
       "      <th>29</th>\n",
       "      <td>1x5sYLZiu9r5E43kMlt9f</td>\n",
       "      <td>Symphony (feat. Zara Larsson)</td>\n",
       "      <td>Clean Bandit</td>\n",
       "      <td>0.707</td>\n",
       "      <td>0.629</td>\n",
       "      <td>0.0</td>\n",
       "      <td>-4.581</td>\n",
       "      <td>0.0</td>\n",
       "      <td>0.0563</td>\n",
       "      <td>0.2590</td>\n",
       "      <td>0.000016</td>\n",
       "      <td>0.1380</td>\n",
       "      <td>0.457</td>\n",
       "      <td>122.863</td>\n",
       "      <td>212459.0</td>\n",
       "      <td>4.0</td>\n",
       "    </tr>\n",
       "    <tr>\n",
       "      <th>53</th>\n",
       "      <td>3PEgB3fkiojxms35ntsTg</td>\n",
       "      <td>More Than You Know</td>\n",
       "      <td>Axwell /\\ Ingrosso</td>\n",
       "      <td>0.644</td>\n",
       "      <td>0.743</td>\n",
       "      <td>5.0</td>\n",
       "      <td>-5.002</td>\n",
       "      <td>0.0</td>\n",
       "      <td>0.0355</td>\n",
       "      <td>0.0340</td>\n",
       "      <td>0.000000</td>\n",
       "      <td>0.2570</td>\n",
       "      <td>0.544</td>\n",
       "      <td>123.074</td>\n",
       "      <td>203000.0</td>\n",
       "      <td>4.0</td>\n",
       "    </tr>\n",
       "    <tr>\n",
       "      <th>36</th>\n",
       "      <td>7hDc8b7IXETo14hHIHdnh</td>\n",
       "      <td>Passionfruit</td>\n",
       "      <td>Drake</td>\n",
       "      <td>0.809</td>\n",
       "      <td>0.463</td>\n",
       "      <td>11.0</td>\n",
       "      <td>-11.377</td>\n",
       "      <td>1.0</td>\n",
       "      <td>0.0396</td>\n",
       "      <td>0.2560</td>\n",
       "      <td>0.085000</td>\n",
       "      <td>0.1090</td>\n",
       "      <td>0.364</td>\n",
       "      <td>111.980</td>\n",
       "      <td>298941.0</td>\n",
       "      <td>4.0</td>\n",
       "    </tr>\n",
       "    <tr>\n",
       "      <th>94</th>\n",
       "      <td>2fQrGHiQOvpL9UgPvtYy6</td>\n",
       "      <td>Bank Account</td>\n",
       "      <td>21 Savage</td>\n",
       "      <td>0.884</td>\n",
       "      <td>0.346</td>\n",
       "      <td>8.0</td>\n",
       "      <td>-8.228</td>\n",
       "      <td>0.0</td>\n",
       "      <td>0.3510</td>\n",
       "      <td>0.0151</td>\n",
       "      <td>0.000007</td>\n",
       "      <td>0.0871</td>\n",
       "      <td>0.376</td>\n",
       "      <td>75.016</td>\n",
       "      <td>220307.0</td>\n",
       "      <td>4.0</td>\n",
       "    </tr>\n",
       "    <tr>\n",
       "      <th>39</th>\n",
       "      <td>3A7qX2QjDlPnazUsRk5y0</td>\n",
       "      <td>2U (feat. Justin Bieber)</td>\n",
       "      <td>David Guetta</td>\n",
       "      <td>0.548</td>\n",
       "      <td>0.650</td>\n",
       "      <td>8.0</td>\n",
       "      <td>-5.827</td>\n",
       "      <td>0.0</td>\n",
       "      <td>0.0591</td>\n",
       "      <td>0.2190</td>\n",
       "      <td>0.000000</td>\n",
       "      <td>0.2250</td>\n",
       "      <td>0.557</td>\n",
       "      <td>144.937</td>\n",
       "      <td>194897.0</td>\n",
       "      <td>4.0</td>\n",
       "    </tr>\n",
       "    <tr>\n",
       "      <th>78</th>\n",
       "      <td>6uFsE1JgZ20EXyU0JQZbU</td>\n",
       "      <td>Look What You Made Me Do</td>\n",
       "      <td>Taylor Swift</td>\n",
       "      <td>0.773</td>\n",
       "      <td>0.680</td>\n",
       "      <td>9.0</td>\n",
       "      <td>-6.378</td>\n",
       "      <td>0.0</td>\n",
       "      <td>0.1410</td>\n",
       "      <td>0.2130</td>\n",
       "      <td>0.000016</td>\n",
       "      <td>0.1220</td>\n",
       "      <td>0.497</td>\n",
       "      <td>128.062</td>\n",
       "      <td>211859.0</td>\n",
       "      <td>4.0</td>\n",
       "    </tr>\n",
       "  </tbody>\n",
       "</table>\n",
       "</div>"
      ],
      "text/plain": [
       "                       id                           name             artists  \\\n",
       "4   3DXncPQOG4VBw3QHh3S81                    I'm the One           DJ Khaled   \n",
       "60  6HZILIRieu8S0iqY8kIKh                           DNA.      Kendrick Lamar   \n",
       "38  6EpRaXYhGOB3fj4V2uDkM                Strip That Down          Liam Payne   \n",
       "33  7tr2za8SQg2CI8EDgrdtN                          Slide       Calvin Harris   \n",
       "29  1x5sYLZiu9r5E43kMlt9f  Symphony (feat. Zara Larsson)        Clean Bandit   \n",
       "53  3PEgB3fkiojxms35ntsTg             More Than You Know  Axwell /\\ Ingrosso   \n",
       "36  7hDc8b7IXETo14hHIHdnh                   Passionfruit               Drake   \n",
       "94  2fQrGHiQOvpL9UgPvtYy6                   Bank Account           21 Savage   \n",
       "39  3A7qX2QjDlPnazUsRk5y0       2U (feat. Justin Bieber)        David Guetta   \n",
       "78  6uFsE1JgZ20EXyU0JQZbU       Look What You Made Me Do        Taylor Swift   \n",
       "\n",
       "    danceability  energy   key  loudness  mode  speechiness  acousticness  \\\n",
       "4          0.609   0.668   7.0    -4.284   1.0       0.0367        0.0552   \n",
       "60         0.637   0.514   1.0    -6.763   1.0       0.3650        0.0047   \n",
       "38         0.869   0.485   6.0    -5.595   1.0       0.0545        0.2460   \n",
       "33         0.736   0.795   1.0    -3.299   0.0       0.0545        0.4980   \n",
       "29         0.707   0.629   0.0    -4.581   0.0       0.0563        0.2590   \n",
       "53         0.644   0.743   5.0    -5.002   0.0       0.0355        0.0340   \n",
       "36         0.809   0.463  11.0   -11.377   1.0       0.0396        0.2560   \n",
       "94         0.884   0.346   8.0    -8.228   0.0       0.3510        0.0151   \n",
       "39         0.548   0.650   8.0    -5.827   0.0       0.0591        0.2190   \n",
       "78         0.773   0.680   9.0    -6.378   0.0       0.1410        0.2130   \n",
       "\n",
       "    instrumentalness  liveness  valence    tempo  duration_ms  time_signature  \n",
       "4           0.000000    0.1670    0.811   80.924     288600.0             4.0  \n",
       "60          0.000000    0.0940    0.402  139.931     185947.0             4.0  \n",
       "38          0.000000    0.0765    0.527  106.028     204502.0             4.0  \n",
       "33          0.000001    0.2540    0.511  104.066     230813.0             4.0  \n",
       "29          0.000016    0.1380    0.457  122.863     212459.0             4.0  \n",
       "53          0.000000    0.2570    0.544  123.074     203000.0             4.0  \n",
       "36          0.085000    0.1090    0.364  111.980     298941.0             4.0  \n",
       "94          0.000007    0.0871    0.376   75.016     220307.0             4.0  \n",
       "39          0.000000    0.2250    0.557  144.937     194897.0             4.0  \n",
       "78          0.000016    0.1220    0.497  128.062     211859.0             4.0  "
      ]
     },
     "execution_count": 109,
     "metadata": {},
     "output_type": "execute_result"
    }
   ],
   "source": [
    "# Randomly select fraction of rows. \n",
    "spotify_df.sample(frac=0.1)"
   ]
  },
  {
   "cell_type": "code",
   "execution_count": 110,
   "id": "74d9ca6a",
   "metadata": {},
   "outputs": [
    {
     "data": {
      "text/html": [
       "<div>\n",
       "<style scoped>\n",
       "    .dataframe tbody tr th:only-of-type {\n",
       "        vertical-align: middle;\n",
       "    }\n",
       "\n",
       "    .dataframe tbody tr th {\n",
       "        vertical-align: top;\n",
       "    }\n",
       "\n",
       "    .dataframe thead th {\n",
       "        text-align: right;\n",
       "    }\n",
       "</style>\n",
       "<table border=\"1\" class=\"dataframe\">\n",
       "  <thead>\n",
       "    <tr style=\"text-align: right;\">\n",
       "      <th></th>\n",
       "      <th>id</th>\n",
       "      <th>name</th>\n",
       "      <th>artists</th>\n",
       "      <th>danceability</th>\n",
       "      <th>energy</th>\n",
       "      <th>key</th>\n",
       "      <th>loudness</th>\n",
       "      <th>mode</th>\n",
       "      <th>speechiness</th>\n",
       "      <th>acousticness</th>\n",
       "      <th>instrumentalness</th>\n",
       "      <th>liveness</th>\n",
       "      <th>valence</th>\n",
       "      <th>tempo</th>\n",
       "      <th>duration_ms</th>\n",
       "      <th>time_signature</th>\n",
       "    </tr>\n",
       "  </thead>\n",
       "  <tbody>\n",
       "    <tr>\n",
       "      <th>15</th>\n",
       "      <td>3a1lNhkSLSkpJE4MSHpDu</td>\n",
       "      <td>Congratulations</td>\n",
       "      <td>Post Malone</td>\n",
       "      <td>0.627</td>\n",
       "      <td>0.812</td>\n",
       "      <td>6.0</td>\n",
       "      <td>-4.215</td>\n",
       "      <td>1.0</td>\n",
       "      <td>0.0358</td>\n",
       "      <td>0.1980</td>\n",
       "      <td>0.000000</td>\n",
       "      <td>0.2120</td>\n",
       "      <td>0.504</td>\n",
       "      <td>123.071</td>\n",
       "      <td>220293.0</td>\n",
       "      <td>4.0</td>\n",
       "    </tr>\n",
       "    <tr>\n",
       "      <th>19</th>\n",
       "      <td>0CcQNd8CINkwQfe1RDtGV</td>\n",
       "      <td>Believer</td>\n",
       "      <td>Imagine Dragons</td>\n",
       "      <td>0.779</td>\n",
       "      <td>0.787</td>\n",
       "      <td>10.0</td>\n",
       "      <td>-4.305</td>\n",
       "      <td>0.0</td>\n",
       "      <td>0.1080</td>\n",
       "      <td>0.0524</td>\n",
       "      <td>0.000000</td>\n",
       "      <td>0.1400</td>\n",
       "      <td>0.708</td>\n",
       "      <td>124.982</td>\n",
       "      <td>204347.0</td>\n",
       "      <td>4.0</td>\n",
       "    </tr>\n",
       "    <tr>\n",
       "      <th>25</th>\n",
       "      <td>6D0b04NJIKfEMg040WioJ</td>\n",
       "      <td>Issues</td>\n",
       "      <td>Julia Michaels</td>\n",
       "      <td>0.706</td>\n",
       "      <td>0.427</td>\n",
       "      <td>8.0</td>\n",
       "      <td>-6.864</td>\n",
       "      <td>1.0</td>\n",
       "      <td>0.0879</td>\n",
       "      <td>0.4130</td>\n",
       "      <td>0.000000</td>\n",
       "      <td>0.0609</td>\n",
       "      <td>0.420</td>\n",
       "      <td>113.804</td>\n",
       "      <td>176320.0</td>\n",
       "      <td>4.0</td>\n",
       "    </tr>\n",
       "    <tr>\n",
       "      <th>28</th>\n",
       "      <td>7BKLCZ1jbUBVqRi2FVlTV</td>\n",
       "      <td>Closer</td>\n",
       "      <td>The Chainsmokers</td>\n",
       "      <td>0.748</td>\n",
       "      <td>0.524</td>\n",
       "      <td>8.0</td>\n",
       "      <td>-5.599</td>\n",
       "      <td>1.0</td>\n",
       "      <td>0.0338</td>\n",
       "      <td>0.4140</td>\n",
       "      <td>0.000000</td>\n",
       "      <td>0.1110</td>\n",
       "      <td>0.661</td>\n",
       "      <td>95.010</td>\n",
       "      <td>244960.0</td>\n",
       "      <td>4.0</td>\n",
       "    </tr>\n",
       "    <tr>\n",
       "      <th>83</th>\n",
       "      <td>4pLwZjInHj3SimIyN9SnO</td>\n",
       "      <td>Side To Side</td>\n",
       "      <td>Ariana Grande</td>\n",
       "      <td>0.648</td>\n",
       "      <td>0.738</td>\n",
       "      <td>6.0</td>\n",
       "      <td>-5.883</td>\n",
       "      <td>0.0</td>\n",
       "      <td>0.2470</td>\n",
       "      <td>0.0408</td>\n",
       "      <td>0.000000</td>\n",
       "      <td>0.2920</td>\n",
       "      <td>0.603</td>\n",
       "      <td>159.145</td>\n",
       "      <td>226160.0</td>\n",
       "      <td>4.0</td>\n",
       "    </tr>\n",
       "    <tr>\n",
       "      <th>85</th>\n",
       "      <td>1wjzFQodRWrPcQ0AnYnvQ</td>\n",
       "      <td>I Like Me Better</td>\n",
       "      <td>Lauv</td>\n",
       "      <td>0.752</td>\n",
       "      <td>0.505</td>\n",
       "      <td>9.0</td>\n",
       "      <td>-7.621</td>\n",
       "      <td>1.0</td>\n",
       "      <td>0.2530</td>\n",
       "      <td>0.5350</td>\n",
       "      <td>0.000003</td>\n",
       "      <td>0.1040</td>\n",
       "      <td>0.419</td>\n",
       "      <td>91.970</td>\n",
       "      <td>197437.0</td>\n",
       "      <td>4.0</td>\n",
       "    </tr>\n",
       "    <tr>\n",
       "      <th>38</th>\n",
       "      <td>6EpRaXYhGOB3fj4V2uDkM</td>\n",
       "      <td>Strip That Down</td>\n",
       "      <td>Liam Payne</td>\n",
       "      <td>0.869</td>\n",
       "      <td>0.485</td>\n",
       "      <td>6.0</td>\n",
       "      <td>-5.595</td>\n",
       "      <td>1.0</td>\n",
       "      <td>0.0545</td>\n",
       "      <td>0.2460</td>\n",
       "      <td>0.000000</td>\n",
       "      <td>0.0765</td>\n",
       "      <td>0.527</td>\n",
       "      <td>106.028</td>\n",
       "      <td>204502.0</td>\n",
       "      <td>4.0</td>\n",
       "    </tr>\n",
       "    <tr>\n",
       "      <th>32</th>\n",
       "      <td>1OAh8uOEOvTDqkKFsKksC</td>\n",
       "      <td>Wild Thoughts</td>\n",
       "      <td>DJ Khaled</td>\n",
       "      <td>0.671</td>\n",
       "      <td>0.672</td>\n",
       "      <td>0.0</td>\n",
       "      <td>-3.094</td>\n",
       "      <td>0.0</td>\n",
       "      <td>0.0688</td>\n",
       "      <td>0.0329</td>\n",
       "      <td>0.000000</td>\n",
       "      <td>0.1180</td>\n",
       "      <td>0.632</td>\n",
       "      <td>97.980</td>\n",
       "      <td>204173.0</td>\n",
       "      <td>4.0</td>\n",
       "    </tr>\n",
       "  </tbody>\n",
       "</table>\n",
       "</div>"
      ],
      "text/plain": [
       "                       id              name           artists  danceability  \\\n",
       "15  3a1lNhkSLSkpJE4MSHpDu   Congratulations       Post Malone         0.627   \n",
       "19  0CcQNd8CINkwQfe1RDtGV          Believer   Imagine Dragons         0.779   \n",
       "25  6D0b04NJIKfEMg040WioJ            Issues    Julia Michaels         0.706   \n",
       "28  7BKLCZ1jbUBVqRi2FVlTV            Closer  The Chainsmokers         0.748   \n",
       "83  4pLwZjInHj3SimIyN9SnO      Side To Side     Ariana Grande         0.648   \n",
       "85  1wjzFQodRWrPcQ0AnYnvQ  I Like Me Better              Lauv         0.752   \n",
       "38  6EpRaXYhGOB3fj4V2uDkM   Strip That Down        Liam Payne         0.869   \n",
       "32  1OAh8uOEOvTDqkKFsKksC     Wild Thoughts         DJ Khaled         0.671   \n",
       "\n",
       "    energy   key  loudness  mode  speechiness  acousticness  instrumentalness  \\\n",
       "15   0.812   6.0    -4.215   1.0       0.0358        0.1980          0.000000   \n",
       "19   0.787  10.0    -4.305   0.0       0.1080        0.0524          0.000000   \n",
       "25   0.427   8.0    -6.864   1.0       0.0879        0.4130          0.000000   \n",
       "28   0.524   8.0    -5.599   1.0       0.0338        0.4140          0.000000   \n",
       "83   0.738   6.0    -5.883   0.0       0.2470        0.0408          0.000000   \n",
       "85   0.505   9.0    -7.621   1.0       0.2530        0.5350          0.000003   \n",
       "38   0.485   6.0    -5.595   1.0       0.0545        0.2460          0.000000   \n",
       "32   0.672   0.0    -3.094   0.0       0.0688        0.0329          0.000000   \n",
       "\n",
       "    liveness  valence    tempo  duration_ms  time_signature  \n",
       "15    0.2120    0.504  123.071     220293.0             4.0  \n",
       "19    0.1400    0.708  124.982     204347.0             4.0  \n",
       "25    0.0609    0.420  113.804     176320.0             4.0  \n",
       "28    0.1110    0.661   95.010     244960.0             4.0  \n",
       "83    0.2920    0.603  159.145     226160.0             4.0  \n",
       "85    0.1040    0.419   91.970     197437.0             4.0  \n",
       "38    0.0765    0.527  106.028     204502.0             4.0  \n",
       "32    0.1180    0.632   97.980     204173.0             4.0  "
      ]
     },
     "execution_count": 110,
     "metadata": {},
     "output_type": "execute_result"
    }
   ],
   "source": [
    "# Randomly select n rows.\n",
    "spotify_df.sample(n=8)"
   ]
  },
  {
   "cell_type": "code",
   "execution_count": 112,
   "id": "dbc12d84",
   "metadata": {},
   "outputs": [
    {
     "data": {
      "text/html": [
       "<div>\n",
       "<style scoped>\n",
       "    .dataframe tbody tr th:only-of-type {\n",
       "        vertical-align: middle;\n",
       "    }\n",
       "\n",
       "    .dataframe tbody tr th {\n",
       "        vertical-align: top;\n",
       "    }\n",
       "\n",
       "    .dataframe thead th {\n",
       "        text-align: right;\n",
       "    }\n",
       "</style>\n",
       "<table border=\"1\" class=\"dataframe\">\n",
       "  <thead>\n",
       "    <tr style=\"text-align: right;\">\n",
       "      <th></th>\n",
       "      <th>id</th>\n",
       "      <th>name</th>\n",
       "      <th>artists</th>\n",
       "      <th>danceability</th>\n",
       "      <th>energy</th>\n",
       "      <th>key</th>\n",
       "      <th>loudness</th>\n",
       "      <th>mode</th>\n",
       "      <th>speechiness</th>\n",
       "      <th>acousticness</th>\n",
       "      <th>instrumentalness</th>\n",
       "      <th>liveness</th>\n",
       "      <th>valence</th>\n",
       "      <th>tempo</th>\n",
       "      <th>duration_ms</th>\n",
       "      <th>time_signature</th>\n",
       "    </tr>\n",
       "  </thead>\n",
       "  <tbody>\n",
       "    <tr>\n",
       "      <th>77</th>\n",
       "      <td>3EmmCZoqpWOTY1g2GBwJo</td>\n",
       "      <td>Just Hold On</td>\n",
       "      <td>Steve Aoki</td>\n",
       "      <td>0.647</td>\n",
       "      <td>0.932</td>\n",
       "      <td>11.0</td>\n",
       "      <td>-3.515</td>\n",
       "      <td>1.0</td>\n",
       "      <td>0.0824</td>\n",
       "      <td>0.00383</td>\n",
       "      <td>0.000002</td>\n",
       "      <td>0.0574</td>\n",
       "      <td>0.374</td>\n",
       "      <td>114.991</td>\n",
       "      <td>198774.0</td>\n",
       "      <td>4.0</td>\n",
       "    </tr>\n",
       "    <tr>\n",
       "      <th>26</th>\n",
       "      <td>0afhq8XCExXpqazXczTSv</td>\n",
       "      <td>Galway Girl</td>\n",
       "      <td>Ed Sheeran</td>\n",
       "      <td>0.624</td>\n",
       "      <td>0.876</td>\n",
       "      <td>9.0</td>\n",
       "      <td>-3.374</td>\n",
       "      <td>1.0</td>\n",
       "      <td>0.1000</td>\n",
       "      <td>0.07350</td>\n",
       "      <td>0.000000</td>\n",
       "      <td>0.3270</td>\n",
       "      <td>0.781</td>\n",
       "      <td>99.943</td>\n",
       "      <td>170827.0</td>\n",
       "      <td>4.0</td>\n",
       "    </tr>\n",
       "  </tbody>\n",
       "</table>\n",
       "</div>"
      ],
      "text/plain": [
       "                       id          name     artists  danceability  energy  \\\n",
       "77  3EmmCZoqpWOTY1g2GBwJo  Just Hold On  Steve Aoki         0.647   0.932   \n",
       "26  0afhq8XCExXpqazXczTSv   Galway Girl  Ed Sheeran         0.624   0.876   \n",
       "\n",
       "     key  loudness  mode  speechiness  acousticness  instrumentalness  \\\n",
       "77  11.0    -3.515   1.0       0.0824       0.00383          0.000002   \n",
       "26   9.0    -3.374   1.0       0.1000       0.07350          0.000000   \n",
       "\n",
       "    liveness  valence    tempo  duration_ms  time_signature  \n",
       "77    0.0574    0.374  114.991     198774.0             4.0  \n",
       "26    0.3270    0.781   99.943     170827.0             4.0  "
      ]
     },
     "execution_count": 112,
     "metadata": {},
     "output_type": "execute_result"
    }
   ],
   "source": [
    "# Select and order top n entries.\n",
    "spotify_df.nlargest(2, 'energy')"
   ]
  },
  {
   "cell_type": "code",
   "execution_count": 114,
   "id": "14395675",
   "metadata": {},
   "outputs": [
    {
     "data": {
      "text/html": [
       "<div>\n",
       "<style scoped>\n",
       "    .dataframe tbody tr th:only-of-type {\n",
       "        vertical-align: middle;\n",
       "    }\n",
       "\n",
       "    .dataframe tbody tr th {\n",
       "        vertical-align: top;\n",
       "    }\n",
       "\n",
       "    .dataframe thead th {\n",
       "        text-align: right;\n",
       "    }\n",
       "</style>\n",
       "<table border=\"1\" class=\"dataframe\">\n",
       "  <thead>\n",
       "    <tr style=\"text-align: right;\">\n",
       "      <th></th>\n",
       "      <th>id</th>\n",
       "      <th>name</th>\n",
       "      <th>artists</th>\n",
       "      <th>danceability</th>\n",
       "      <th>energy</th>\n",
       "      <th>key</th>\n",
       "      <th>loudness</th>\n",
       "      <th>mode</th>\n",
       "      <th>speechiness</th>\n",
       "      <th>acousticness</th>\n",
       "      <th>instrumentalness</th>\n",
       "      <th>liveness</th>\n",
       "      <th>valence</th>\n",
       "      <th>tempo</th>\n",
       "      <th>duration_ms</th>\n",
       "      <th>time_signature</th>\n",
       "    </tr>\n",
       "  </thead>\n",
       "  <tbody>\n",
       "    <tr>\n",
       "      <th>94</th>\n",
       "      <td>2fQrGHiQOvpL9UgPvtYy6</td>\n",
       "      <td>Bank Account</td>\n",
       "      <td>21 Savage</td>\n",
       "      <td>0.884</td>\n",
       "      <td>0.346</td>\n",
       "      <td>8.0</td>\n",
       "      <td>-8.228</td>\n",
       "      <td>0.0</td>\n",
       "      <td>0.3510</td>\n",
       "      <td>0.0151</td>\n",
       "      <td>0.000007</td>\n",
       "      <td>0.0871</td>\n",
       "      <td>0.376</td>\n",
       "      <td>75.016</td>\n",
       "      <td>220307.0</td>\n",
       "      <td>4.0</td>\n",
       "    </tr>\n",
       "    <tr>\n",
       "      <th>58</th>\n",
       "      <td>3kxfsdsCpFgN412fpnW85</td>\n",
       "      <td>Redbone</td>\n",
       "      <td>Childish Gambino</td>\n",
       "      <td>0.743</td>\n",
       "      <td>0.359</td>\n",
       "      <td>1.0</td>\n",
       "      <td>-10.401</td>\n",
       "      <td>1.0</td>\n",
       "      <td>0.0794</td>\n",
       "      <td>0.1990</td>\n",
       "      <td>0.006110</td>\n",
       "      <td>0.1370</td>\n",
       "      <td>0.587</td>\n",
       "      <td>160.083</td>\n",
       "      <td>326933.0</td>\n",
       "      <td>4.0</td>\n",
       "    </tr>\n",
       "  </tbody>\n",
       "</table>\n",
       "</div>"
      ],
      "text/plain": [
       "                       id          name           artists  danceability  \\\n",
       "94  2fQrGHiQOvpL9UgPvtYy6  Bank Account         21 Savage         0.884   \n",
       "58  3kxfsdsCpFgN412fpnW85       Redbone  Childish Gambino         0.743   \n",
       "\n",
       "    energy  key  loudness  mode  speechiness  acousticness  instrumentalness  \\\n",
       "94   0.346  8.0    -8.228   0.0       0.3510        0.0151          0.000007   \n",
       "58   0.359  1.0   -10.401   1.0       0.0794        0.1990          0.006110   \n",
       "\n",
       "    liveness  valence    tempo  duration_ms  time_signature  \n",
       "94    0.0871    0.376   75.016     220307.0             4.0  \n",
       "58    0.1370    0.587  160.083     326933.0             4.0  "
      ]
     },
     "execution_count": 114,
     "metadata": {},
     "output_type": "execute_result"
    }
   ],
   "source": [
    "# Select and order bottom n entries.\n",
    "spotify_df.nsmallest(2, 'energy')"
   ]
  },
  {
   "cell_type": "markdown",
   "id": "97a40716",
   "metadata": {},
   "source": [
    "## Subset Variables - columns"
   ]
  },
  {
   "cell_type": "code",
   "execution_count": 116,
   "id": "7a332cca",
   "metadata": {},
   "outputs": [
    {
     "data": {
      "text/plain": [
       "0                           Shape of You\n",
       "1                      Despacito - Remix\n",
       "2     Despacito (Featuring Daddy Yankee)\n",
       "3               Something Just Like This\n",
       "4                            I'm the One\n",
       "                     ...                \n",
       "95      Bad Things (with Camila Cabello)\n",
       "96                     Don't Let Me Down\n",
       "97                 Body Like A Back Road\n",
       "98                          Now Or Never\n",
       "99           Dusk Till Dawn - Radio Edit\n",
       "Name: name, Length: 100, dtype: object"
      ]
     },
     "execution_count": 116,
     "metadata": {},
     "output_type": "execute_result"
    }
   ],
   "source": [
    "# Select single column with specific name.\n",
    "spotify_df['name']"
   ]
  },
  {
   "cell_type": "code",
   "execution_count": 115,
   "id": "505d63af",
   "metadata": {},
   "outputs": [
    {
     "data": {
      "text/html": [
       "<div>\n",
       "<style scoped>\n",
       "    .dataframe tbody tr th:only-of-type {\n",
       "        vertical-align: middle;\n",
       "    }\n",
       "\n",
       "    .dataframe tbody tr th {\n",
       "        vertical-align: top;\n",
       "    }\n",
       "\n",
       "    .dataframe thead th {\n",
       "        text-align: right;\n",
       "    }\n",
       "</style>\n",
       "<table border=\"1\" class=\"dataframe\">\n",
       "  <thead>\n",
       "    <tr style=\"text-align: right;\">\n",
       "      <th></th>\n",
       "      <th>name</th>\n",
       "      <th>artists</th>\n",
       "    </tr>\n",
       "  </thead>\n",
       "  <tbody>\n",
       "    <tr>\n",
       "      <th>0</th>\n",
       "      <td>Shape of You</td>\n",
       "      <td>Ed Sheeran</td>\n",
       "    </tr>\n",
       "    <tr>\n",
       "      <th>1</th>\n",
       "      <td>Despacito - Remix</td>\n",
       "      <td>Luis Fonsi</td>\n",
       "    </tr>\n",
       "    <tr>\n",
       "      <th>2</th>\n",
       "      <td>Despacito (Featuring Daddy Yankee)</td>\n",
       "      <td>Luis Fonsi</td>\n",
       "    </tr>\n",
       "    <tr>\n",
       "      <th>3</th>\n",
       "      <td>Something Just Like This</td>\n",
       "      <td>The Chainsmokers</td>\n",
       "    </tr>\n",
       "    <tr>\n",
       "      <th>4</th>\n",
       "      <td>I'm the One</td>\n",
       "      <td>DJ Khaled</td>\n",
       "    </tr>\n",
       "    <tr>\n",
       "      <th>...</th>\n",
       "      <td>...</td>\n",
       "      <td>...</td>\n",
       "    </tr>\n",
       "    <tr>\n",
       "      <th>95</th>\n",
       "      <td>Bad Things (with Camila Cabello)</td>\n",
       "      <td>Machine Gun Kelly</td>\n",
       "    </tr>\n",
       "    <tr>\n",
       "      <th>96</th>\n",
       "      <td>Don't Let Me Down</td>\n",
       "      <td>The Chainsmokers</td>\n",
       "    </tr>\n",
       "    <tr>\n",
       "      <th>97</th>\n",
       "      <td>Body Like A Back Road</td>\n",
       "      <td>Sam Hunt</td>\n",
       "    </tr>\n",
       "    <tr>\n",
       "      <th>98</th>\n",
       "      <td>Now Or Never</td>\n",
       "      <td>Halsey</td>\n",
       "    </tr>\n",
       "    <tr>\n",
       "      <th>99</th>\n",
       "      <td>Dusk Till Dawn - Radio Edit</td>\n",
       "      <td>ZAYN</td>\n",
       "    </tr>\n",
       "  </tbody>\n",
       "</table>\n",
       "<p>100 rows × 2 columns</p>\n",
       "</div>"
      ],
      "text/plain": [
       "                                  name            artists\n",
       "0                         Shape of You         Ed Sheeran\n",
       "1                    Despacito - Remix         Luis Fonsi\n",
       "2   Despacito (Featuring Daddy Yankee)         Luis Fonsi\n",
       "3             Something Just Like This   The Chainsmokers\n",
       "4                          I'm the One          DJ Khaled\n",
       "..                                 ...                ...\n",
       "95    Bad Things (with Camila Cabello)  Machine Gun Kelly\n",
       "96                   Don't Let Me Down   The Chainsmokers\n",
       "97               Body Like A Back Road           Sam Hunt\n",
       "98                        Now Or Never             Halsey\n",
       "99         Dusk Till Dawn - Radio Edit               ZAYN\n",
       "\n",
       "[100 rows x 2 columns]"
      ]
     },
     "execution_count": 115,
     "metadata": {},
     "output_type": "execute_result"
    }
   ],
   "source": [
    "# Select multiple columns with specific names.\n",
    "spotify_df[['name','artists']]"
   ]
  },
  {
   "cell_type": "code",
   "execution_count": 132,
   "id": "2aaebb85",
   "metadata": {},
   "outputs": [
    {
     "data": {
      "text/html": [
       "<div>\n",
       "<style scoped>\n",
       "    .dataframe tbody tr th:only-of-type {\n",
       "        vertical-align: middle;\n",
       "    }\n",
       "\n",
       "    .dataframe tbody tr th {\n",
       "        vertical-align: top;\n",
       "    }\n",
       "\n",
       "    .dataframe thead th {\n",
       "        text-align: right;\n",
       "    }\n",
       "</style>\n",
       "<table border=\"1\" class=\"dataframe\">\n",
       "  <thead>\n",
       "    <tr style=\"text-align: right;\">\n",
       "      <th></th>\n",
       "      <th>name</th>\n",
       "      <th>mode</th>\n",
       "      <th>valence</th>\n",
       "      <th>time_signature</th>\n",
       "    </tr>\n",
       "  </thead>\n",
       "  <tbody>\n",
       "    <tr>\n",
       "      <th>0</th>\n",
       "      <td>Shape of You</td>\n",
       "      <td>0.0</td>\n",
       "      <td>0.9310</td>\n",
       "      <td>4.0</td>\n",
       "    </tr>\n",
       "    <tr>\n",
       "      <th>1</th>\n",
       "      <td>Despacito - Remix</td>\n",
       "      <td>1.0</td>\n",
       "      <td>0.8130</td>\n",
       "      <td>4.0</td>\n",
       "    </tr>\n",
       "    <tr>\n",
       "      <th>2</th>\n",
       "      <td>Despacito (Featuring Daddy Yankee)</td>\n",
       "      <td>1.0</td>\n",
       "      <td>0.8460</td>\n",
       "      <td>4.0</td>\n",
       "    </tr>\n",
       "    <tr>\n",
       "      <th>3</th>\n",
       "      <td>Something Just Like This</td>\n",
       "      <td>0.0</td>\n",
       "      <td>0.4460</td>\n",
       "      <td>4.0</td>\n",
       "    </tr>\n",
       "    <tr>\n",
       "      <th>4</th>\n",
       "      <td>I'm the One</td>\n",
       "      <td>1.0</td>\n",
       "      <td>0.8110</td>\n",
       "      <td>4.0</td>\n",
       "    </tr>\n",
       "    <tr>\n",
       "      <th>...</th>\n",
       "      <td>...</td>\n",
       "      <td>...</td>\n",
       "      <td>...</td>\n",
       "      <td>...</td>\n",
       "    </tr>\n",
       "    <tr>\n",
       "      <th>95</th>\n",
       "      <td>Bad Things (with Camila Cabello)</td>\n",
       "      <td>1.0</td>\n",
       "      <td>0.2720</td>\n",
       "      <td>4.0</td>\n",
       "    </tr>\n",
       "    <tr>\n",
       "      <th>96</th>\n",
       "      <td>Don't Let Me Down</td>\n",
       "      <td>1.0</td>\n",
       "      <td>0.4030</td>\n",
       "      <td>4.0</td>\n",
       "    </tr>\n",
       "    <tr>\n",
       "      <th>97</th>\n",
       "      <td>Body Like A Back Road</td>\n",
       "      <td>1.0</td>\n",
       "      <td>0.6310</td>\n",
       "      <td>4.0</td>\n",
       "    </tr>\n",
       "    <tr>\n",
       "      <th>98</th>\n",
       "      <td>Now Or Never</td>\n",
       "      <td>0.0</td>\n",
       "      <td>0.4340</td>\n",
       "      <td>4.0</td>\n",
       "    </tr>\n",
       "    <tr>\n",
       "      <th>99</th>\n",
       "      <td>Dusk Till Dawn - Radio Edit</td>\n",
       "      <td>0.0</td>\n",
       "      <td>0.0967</td>\n",
       "      <td>4.0</td>\n",
       "    </tr>\n",
       "  </tbody>\n",
       "</table>\n",
       "<p>100 rows × 4 columns</p>\n",
       "</div>"
      ],
      "text/plain": [
       "                                  name  mode  valence  time_signature\n",
       "0                         Shape of You   0.0   0.9310             4.0\n",
       "1                    Despacito - Remix   1.0   0.8130             4.0\n",
       "2   Despacito (Featuring Daddy Yankee)   1.0   0.8460             4.0\n",
       "3             Something Just Like This   0.0   0.4460             4.0\n",
       "4                          I'm the One   1.0   0.8110             4.0\n",
       "..                                 ...   ...      ...             ...\n",
       "95    Bad Things (with Camila Cabello)   1.0   0.2720             4.0\n",
       "96                   Don't Let Me Down   1.0   0.4030             4.0\n",
       "97               Body Like A Back Road   1.0   0.6310             4.0\n",
       "98                        Now Or Never   0.0   0.4340             4.0\n",
       "99         Dusk Till Dawn - Radio Edit   0.0   0.0967             4.0\n",
       "\n",
       "[100 rows x 4 columns]"
      ]
     },
     "execution_count": 132,
     "metadata": {},
     "output_type": "execute_result"
    }
   ],
   "source": [
    "# Select columns whose name matches regular expression regex.\n",
    "spotify_df.filter(regex = 'e$', axis = 1)"
   ]
  },
  {
   "cell_type": "code",
   "execution_count": 133,
   "id": "0c2e5584",
   "metadata": {},
   "outputs": [
    {
     "data": {
      "text/html": [
       "<div>\n",
       "<style scoped>\n",
       "    .dataframe tbody tr th:only-of-type {\n",
       "        vertical-align: middle;\n",
       "    }\n",
       "\n",
       "    .dataframe tbody tr th {\n",
       "        vertical-align: top;\n",
       "    }\n",
       "\n",
       "    .dataframe thead th {\n",
       "        text-align: right;\n",
       "    }\n",
       "</style>\n",
       "<table border=\"1\" class=\"dataframe\">\n",
       "  <thead>\n",
       "    <tr style=\"text-align: right;\">\n",
       "      <th></th>\n",
       "      <th>id</th>\n",
       "      <th>name</th>\n",
       "      <th>artists</th>\n",
       "      <th>danceability</th>\n",
       "      <th>energy</th>\n",
       "      <th>key</th>\n",
       "      <th>loudness</th>\n",
       "      <th>mode</th>\n",
       "      <th>speechiness</th>\n",
       "      <th>acousticness</th>\n",
       "      <th>instrumentalness</th>\n",
       "      <th>liveness</th>\n",
       "      <th>valence</th>\n",
       "      <th>tempo</th>\n",
       "      <th>duration_ms</th>\n",
       "      <th>time_signature</th>\n",
       "    </tr>\n",
       "  </thead>\n",
       "  <tbody>\n",
       "    <tr>\n",
       "      <th>1</th>\n",
       "      <td>5CtI0qwDJkDQGwXD1H1cL</td>\n",
       "      <td>Despacito - Remix</td>\n",
       "      <td>Luis Fonsi</td>\n",
       "      <td>0.694</td>\n",
       "      <td>0.815</td>\n",
       "      <td>2.0</td>\n",
       "      <td>-4.328</td>\n",
       "      <td>1.0</td>\n",
       "      <td>0.12</td>\n",
       "      <td>0.229</td>\n",
       "      <td>0.0</td>\n",
       "      <td>0.0924</td>\n",
       "      <td>0.813</td>\n",
       "      <td>88.931</td>\n",
       "      <td>228827.0</td>\n",
       "      <td>4.0</td>\n",
       "    </tr>\n",
       "    <tr>\n",
       "      <th>2</th>\n",
       "      <td>4aWmUDTfIPGksMNLV2rQP</td>\n",
       "      <td>Despacito (Featuring Daddy Yankee)</td>\n",
       "      <td>Luis Fonsi</td>\n",
       "      <td>0.660</td>\n",
       "      <td>0.786</td>\n",
       "      <td>2.0</td>\n",
       "      <td>-4.757</td>\n",
       "      <td>1.0</td>\n",
       "      <td>0.17</td>\n",
       "      <td>0.209</td>\n",
       "      <td>0.0</td>\n",
       "      <td>0.1120</td>\n",
       "      <td>0.846</td>\n",
       "      <td>177.833</td>\n",
       "      <td>228200.0</td>\n",
       "      <td>4.0</td>\n",
       "    </tr>\n",
       "  </tbody>\n",
       "</table>\n",
       "</div>"
      ],
      "text/plain": [
       "                      id                                name     artists  \\\n",
       "1  5CtI0qwDJkDQGwXD1H1cL                   Despacito - Remix  Luis Fonsi   \n",
       "2  4aWmUDTfIPGksMNLV2rQP  Despacito (Featuring Daddy Yankee)  Luis Fonsi   \n",
       "\n",
       "   danceability  energy  key  loudness  mode  speechiness  acousticness  \\\n",
       "1         0.694   0.815  2.0    -4.328   1.0         0.12         0.229   \n",
       "2         0.660   0.786  2.0    -4.757   1.0         0.17         0.209   \n",
       "\n",
       "   instrumentalness  liveness  valence    tempo  duration_ms  time_signature  \n",
       "1               0.0    0.0924    0.813   88.931     228827.0             4.0  \n",
       "2               0.0    0.1120    0.846  177.833     228200.0             4.0  "
      ]
     },
     "execution_count": 133,
     "metadata": {},
     "output_type": "execute_result"
    }
   ],
   "source": [
    "# Filter a string name\n",
    "spotify_df[spotify_df['artists'].str.contains('Luis Fonsi')]"
   ]
  },
  {
   "cell_type": "markdown",
   "id": "4e8536ff",
   "metadata": {},
   "source": [
    "# Basics & Math"
   ]
  },
  {
   "cell_type": "code",
   "execution_count": 102,
   "id": "6e374cb2",
   "metadata": {},
   "outputs": [
    {
     "data": {
      "text/html": [
       "<div>\n",
       "<style scoped>\n",
       "    .dataframe tbody tr th:only-of-type {\n",
       "        vertical-align: middle;\n",
       "    }\n",
       "\n",
       "    .dataframe tbody tr th {\n",
       "        vertical-align: top;\n",
       "    }\n",
       "\n",
       "    .dataframe thead th {\n",
       "        text-align: right;\n",
       "    }\n",
       "</style>\n",
       "<table border=\"1\" class=\"dataframe\">\n",
       "  <thead>\n",
       "    <tr style=\"text-align: right;\">\n",
       "      <th></th>\n",
       "      <th>one</th>\n",
       "      <th>two</th>\n",
       "    </tr>\n",
       "  </thead>\n",
       "  <tbody>\n",
       "    <tr>\n",
       "      <th>a</th>\n",
       "      <td>1.0</td>\n",
       "      <td>1.0</td>\n",
       "    </tr>\n",
       "    <tr>\n",
       "      <th>b</th>\n",
       "      <td>2.0</td>\n",
       "      <td>2.0</td>\n",
       "    </tr>\n",
       "    <tr>\n",
       "      <th>c</th>\n",
       "      <td>3.0</td>\n",
       "      <td>3.0</td>\n",
       "    </tr>\n",
       "    <tr>\n",
       "      <th>d</th>\n",
       "      <td>NaN</td>\n",
       "      <td>4.0</td>\n",
       "    </tr>\n",
       "  </tbody>\n",
       "</table>\n",
       "</div>"
      ],
      "text/plain": [
       "   one  two\n",
       "a  1.0  1.0\n",
       "b  2.0  2.0\n",
       "c  3.0  3.0\n",
       "d  NaN  4.0"
      ]
     },
     "execution_count": 102,
     "metadata": {},
     "output_type": "execute_result"
    }
   ],
   "source": [
    "dict_3 = {'one': pd.Series([1., 2., 3.], index=['a', 'b', 'c']),\n",
    "         'two': pd.Series([1., 2., 3., 4.], index=['a', 'b', 'c', 'd'])}\n",
    "df_2 = pd.DataFrame(dict_3)\n",
    "df_2"
   ]
  },
  {
   "cell_type": "code",
   "execution_count": 103,
   "id": "600057d6",
   "metadata": {},
   "outputs": [
    {
     "name": "stdout",
     "output_type": "stream",
     "text": [
      "   one  two\n",
      "a  1.0  1.0\n",
      "b  2.0  2.0\n",
      "c  3.0  3.0\n",
      "d  0.0  4.0\n"
     ]
    }
   ],
   "source": [
    "# You can replace NaN values with 0 or anything else\n",
    "print(df_2.fillna(0))"
   ]
  },
  {
   "cell_type": "code",
   "execution_count": 135,
   "id": "a759db0e",
   "metadata": {},
   "outputs": [
    {
     "data": {
      "text/plain": [
       "one    2.0\n",
       "two    2.0\n",
       "Name: b, dtype: float64"
      ]
     },
     "execution_count": 135,
     "metadata": {},
     "output_type": "execute_result"
    }
   ],
   "source": [
    "# Get values in row 2\n",
    "row = df_2.iloc[1]\n",
    "row"
   ]
  },
  {
   "cell_type": "code",
   "execution_count": 136,
   "id": "7282652c",
   "metadata": {},
   "outputs": [
    {
     "data": {
      "text/html": [
       "<div>\n",
       "<style scoped>\n",
       "    .dataframe tbody tr th:only-of-type {\n",
       "        vertical-align: middle;\n",
       "    }\n",
       "\n",
       "    .dataframe tbody tr th {\n",
       "        vertical-align: top;\n",
       "    }\n",
       "\n",
       "    .dataframe thead th {\n",
       "        text-align: right;\n",
       "    }\n",
       "</style>\n",
       "<table border=\"1\" class=\"dataframe\">\n",
       "  <thead>\n",
       "    <tr style=\"text-align: right;\">\n",
       "      <th></th>\n",
       "      <th>one</th>\n",
       "      <th>two</th>\n",
       "    </tr>\n",
       "  </thead>\n",
       "  <tbody>\n",
       "    <tr>\n",
       "      <th>a</th>\n",
       "      <td>3.0</td>\n",
       "      <td>3.0</td>\n",
       "    </tr>\n",
       "    <tr>\n",
       "      <th>b</th>\n",
       "      <td>4.0</td>\n",
       "      <td>4.0</td>\n",
       "    </tr>\n",
       "    <tr>\n",
       "      <th>c</th>\n",
       "      <td>5.0</td>\n",
       "      <td>5.0</td>\n",
       "    </tr>\n",
       "    <tr>\n",
       "      <th>d</th>\n",
       "      <td>NaN</td>\n",
       "      <td>6.0</td>\n",
       "    </tr>\n",
       "  </tbody>\n",
       "</table>\n",
       "</div>"
      ],
      "text/plain": [
       "   one  two\n",
       "a  3.0  3.0\n",
       "b  4.0  4.0\n",
       "c  5.0  5.0\n",
       "d  NaN  6.0"
      ]
     },
     "execution_count": 136,
     "metadata": {},
     "output_type": "execute_result"
    }
   ],
   "source": [
    "# You can do the same with sub, mul, and div\n",
    "df_2.add(row, axis='columns')"
   ]
  },
  {
   "cell_type": "code",
   "execution_count": 137,
   "id": "62fce39c",
   "metadata": {},
   "outputs": [
    {
     "data": {
      "text/html": [
       "<div>\n",
       "<style scoped>\n",
       "    .dataframe tbody tr th:only-of-type {\n",
       "        vertical-align: middle;\n",
       "    }\n",
       "\n",
       "    .dataframe tbody tr th {\n",
       "        vertical-align: top;\n",
       "    }\n",
       "\n",
       "    .dataframe thead th {\n",
       "        text-align: right;\n",
       "    }\n",
       "</style>\n",
       "<table border=\"1\" class=\"dataframe\">\n",
       "  <thead>\n",
       "    <tr style=\"text-align: right;\">\n",
       "      <th></th>\n",
       "      <th>one</th>\n",
       "      <th>two</th>\n",
       "    </tr>\n",
       "  </thead>\n",
       "  <tbody>\n",
       "    <tr>\n",
       "      <th>a</th>\n",
       "      <td>0.0</td>\n",
       "      <td>0.0</td>\n",
       "    </tr>\n",
       "    <tr>\n",
       "      <th>b</th>\n",
       "      <td>0.0</td>\n",
       "      <td>0.0</td>\n",
       "    </tr>\n",
       "    <tr>\n",
       "      <th>c</th>\n",
       "      <td>0.0</td>\n",
       "      <td>0.0</td>\n",
       "    </tr>\n",
       "    <tr>\n",
       "      <th>d</th>\n",
       "      <td>NaN</td>\n",
       "      <td>0.0</td>\n",
       "    </tr>\n",
       "  </tbody>\n",
       "</table>\n",
       "</div>"
      ],
      "text/plain": [
       "   one  two\n",
       "a  0.0  0.0\n",
       "b  0.0  0.0\n",
       "c  0.0  0.0\n",
       "d  NaN  0.0"
      ]
     },
     "execution_count": 137,
     "metadata": {},
     "output_type": "execute_result"
    }
   ],
   "source": [
    "# Get column 2\n",
    "col = df_2['two']\n",
    "# Subtract from other columns\n",
    "df_2.sub(col, axis=0)"
   ]
  },
  {
   "cell_type": "code",
   "execution_count": 138,
   "id": "60297bd0",
   "metadata": {},
   "outputs": [
    {
     "data": {
      "text/plain": [
       "False"
      ]
     },
     "execution_count": 138,
     "metadata": {},
     "output_type": "execute_result"
    }
   ],
   "source": [
    "# Check if empty\n",
    "df_2.empty"
   ]
  },
  {
   "cell_type": "code",
   "execution_count": 139,
   "id": "bf9b1f56",
   "metadata": {},
   "outputs": [
    {
     "data": {
      "text/html": [
       "<div>\n",
       "<style scoped>\n",
       "    .dataframe tbody tr th:only-of-type {\n",
       "        vertical-align: middle;\n",
       "    }\n",
       "\n",
       "    .dataframe tbody tr th {\n",
       "        vertical-align: top;\n",
       "    }\n",
       "\n",
       "    .dataframe thead th {\n",
       "        text-align: right;\n",
       "    }\n",
       "</style>\n",
       "<table border=\"1\" class=\"dataframe\">\n",
       "  <thead>\n",
       "    <tr style=\"text-align: right;\">\n",
       "      <th></th>\n",
       "      <th>A</th>\n",
       "      <th>B</th>\n",
       "    </tr>\n",
       "  </thead>\n",
       "  <tbody>\n",
       "    <tr>\n",
       "      <th>0</th>\n",
       "      <td>0</td>\n",
       "      <td>1</td>\n",
       "    </tr>\n",
       "    <tr>\n",
       "      <th>1</th>\n",
       "      <td>1</td>\n",
       "      <td>2</td>\n",
       "    </tr>\n",
       "    <tr>\n",
       "      <th>2</th>\n",
       "      <td>2</td>\n",
       "      <td>3</td>\n",
       "    </tr>\n",
       "  </tbody>\n",
       "</table>\n",
       "</div>"
      ],
      "text/plain": [
       "   A  B\n",
       "0  0  1\n",
       "1  1  2\n",
       "2  2  3"
      ]
     },
     "execution_count": 139,
     "metadata": {},
     "output_type": "execute_result"
    }
   ],
   "source": [
    "# Transform executes a function on a dataframe\n",
    "df_5 = pd.DataFrame({'A': range(3), 'B': range(1, 4)})\n",
    "df_5"
   ]
  },
  {
   "cell_type": "code",
   "execution_count": 140,
   "id": "2b662491",
   "metadata": {},
   "outputs": [
    {
     "data": {
      "text/html": [
       "<div>\n",
       "<style scoped>\n",
       "    .dataframe tbody tr th:only-of-type {\n",
       "        vertical-align: middle;\n",
       "    }\n",
       "\n",
       "    .dataframe tbody tr th {\n",
       "        vertical-align: top;\n",
       "    }\n",
       "\n",
       "    .dataframe thead th {\n",
       "        text-align: right;\n",
       "    }\n",
       "</style>\n",
       "<table border=\"1\" class=\"dataframe\">\n",
       "  <thead>\n",
       "    <tr style=\"text-align: right;\">\n",
       "      <th></th>\n",
       "      <th>A</th>\n",
       "      <th>B</th>\n",
       "    </tr>\n",
       "  </thead>\n",
       "  <tbody>\n",
       "    <tr>\n",
       "      <th>0</th>\n",
       "      <td>1</td>\n",
       "      <td>2</td>\n",
       "    </tr>\n",
       "    <tr>\n",
       "      <th>1</th>\n",
       "      <td>2</td>\n",
       "      <td>3</td>\n",
       "    </tr>\n",
       "    <tr>\n",
       "      <th>2</th>\n",
       "      <td>3</td>\n",
       "      <td>4</td>\n",
       "    </tr>\n",
       "  </tbody>\n",
       "</table>\n",
       "</div>"
      ],
      "text/plain": [
       "   A  B\n",
       "0  1  2\n",
       "1  2  3\n",
       "2  3  4"
      ]
     },
     "execution_count": 140,
     "metadata": {},
     "output_type": "execute_result"
    }
   ],
   "source": [
    "df_5.transform(lambda x: x+1)"
   ]
  },
  {
   "cell_type": "code",
   "execution_count": 141,
   "id": "cdc8866c",
   "metadata": {},
   "outputs": [
    {
     "data": {
      "text/html": [
       "<div>\n",
       "<style scoped>\n",
       "    .dataframe tbody tr th:only-of-type {\n",
       "        vertical-align: middle;\n",
       "    }\n",
       "\n",
       "    .dataframe tbody tr th {\n",
       "        vertical-align: top;\n",
       "    }\n",
       "\n",
       "    .dataframe thead th {\n",
       "        text-align: right;\n",
       "    }\n",
       "</style>\n",
       "<table border=\"1\" class=\"dataframe\">\n",
       "  <thead>\n",
       "    <tr style=\"text-align: right;\">\n",
       "      <th></th>\n",
       "      <th>A</th>\n",
       "      <th>B</th>\n",
       "    </tr>\n",
       "  </thead>\n",
       "  <tbody>\n",
       "    <tr>\n",
       "      <th>0</th>\n",
       "      <td>0</td>\n",
       "      <td>1</td>\n",
       "    </tr>\n",
       "    <tr>\n",
       "      <th>1</th>\n",
       "      <td>1</td>\n",
       "      <td>4</td>\n",
       "    </tr>\n",
       "    <tr>\n",
       "      <th>2</th>\n",
       "      <td>4</td>\n",
       "      <td>9</td>\n",
       "    </tr>\n",
       "  </tbody>\n",
       "</table>\n",
       "</div>"
      ],
      "text/plain": [
       "   A  B\n",
       "0  0  1\n",
       "1  1  4\n",
       "2  4  9"
      ]
     },
     "execution_count": 141,
     "metadata": {},
     "output_type": "execute_result"
    }
   ],
   "source": [
    "df_5.transform(lambda x: x**2)"
   ]
  },
  {
   "cell_type": "code",
   "execution_count": 142,
   "id": "809aa530",
   "metadata": {},
   "outputs": [
    {
     "data": {
      "text/html": [
       "<div>\n",
       "<style scoped>\n",
       "    .dataframe tbody tr th:only-of-type {\n",
       "        vertical-align: middle;\n",
       "    }\n",
       "\n",
       "    .dataframe tbody tr th {\n",
       "        vertical-align: top;\n",
       "    }\n",
       "\n",
       "    .dataframe thead th {\n",
       "        text-align: right;\n",
       "    }\n",
       "</style>\n",
       "<table border=\"1\" class=\"dataframe\">\n",
       "  <thead>\n",
       "    <tr style=\"text-align: right;\">\n",
       "      <th></th>\n",
       "      <th>A</th>\n",
       "      <th>B</th>\n",
       "    </tr>\n",
       "  </thead>\n",
       "  <tbody>\n",
       "    <tr>\n",
       "      <th>0</th>\n",
       "      <td>0.000000</td>\n",
       "      <td>1.000000</td>\n",
       "    </tr>\n",
       "    <tr>\n",
       "      <th>1</th>\n",
       "      <td>1.000000</td>\n",
       "      <td>1.414214</td>\n",
       "    </tr>\n",
       "    <tr>\n",
       "      <th>2</th>\n",
       "      <td>1.414214</td>\n",
       "      <td>1.732051</td>\n",
       "    </tr>\n",
       "  </tbody>\n",
       "</table>\n",
       "</div>"
      ],
      "text/plain": [
       "          A         B\n",
       "0  0.000000  1.000000\n",
       "1  1.000000  1.414214\n",
       "2  1.414214  1.732051"
      ]
     },
     "execution_count": 142,
     "metadata": {},
     "output_type": "execute_result"
    }
   ],
   "source": [
    "df_5.transform(lambda x: np.sqrt(x))"
   ]
  },
  {
   "cell_type": "code",
   "execution_count": 149,
   "id": "5e4a2e28",
   "metadata": {},
   "outputs": [
    {
     "data": {
      "text/html": [
       "<div>\n",
       "<style scoped>\n",
       "    .dataframe tbody tr th:only-of-type {\n",
       "        vertical-align: middle;\n",
       "    }\n",
       "\n",
       "    .dataframe tbody tr th {\n",
       "        vertical-align: top;\n",
       "    }\n",
       "\n",
       "    .dataframe thead th {\n",
       "        text-align: right;\n",
       "    }\n",
       "</style>\n",
       "<table border=\"1\" class=\"dataframe\">\n",
       "  <thead>\n",
       "    <tr style=\"text-align: right;\">\n",
       "      <th></th>\n",
       "      <th>A</th>\n",
       "      <th>B</th>\n",
       "    </tr>\n",
       "  </thead>\n",
       "  <tbody>\n",
       "    <tr>\n",
       "      <th>0</th>\n",
       "      <td>10</td>\n",
       "      <td>1</td>\n",
       "    </tr>\n",
       "    <tr>\n",
       "      <th>1</th>\n",
       "      <td>11</td>\n",
       "      <td>8</td>\n",
       "    </tr>\n",
       "    <tr>\n",
       "      <th>2</th>\n",
       "      <td>12</td>\n",
       "      <td>27</td>\n",
       "    </tr>\n",
       "  </tbody>\n",
       "</table>\n",
       "</div>"
      ],
      "text/plain": [
       "    A   B\n",
       "0  10   1\n",
       "1  11   8\n",
       "2  12  27"
      ]
     },
     "execution_count": 149,
     "metadata": {},
     "output_type": "execute_result"
    }
   ],
   "source": [
    "# Passing a dictionary allows you to perform different calculations\n",
    "# on different columns\n",
    "df_5.transform({'A': lambda x: x+10, 'B': lambda x: x**3})"
   ]
  },
  {
   "cell_type": "code",
   "execution_count": 150,
   "id": "f19630f1",
   "metadata": {},
   "outputs": [
    {
     "data": {
      "text/plain": [
       "0    0\n",
       "1    1\n",
       "2    4\n",
       "Name: A, dtype: int64"
      ]
     },
     "execution_count": 150,
     "metadata": {},
     "output_type": "execute_result"
    }
   ],
   "source": [
    "# map performs a function on a series\n",
    "df_5['A'].map(lambda x: x**2)"
   ]
  },
  {
   "cell_type": "code",
   "execution_count": 151,
   "id": "554065d0",
   "metadata": {},
   "outputs": [
    {
     "data": {
      "text/html": [
       "<div>\n",
       "<style scoped>\n",
       "    .dataframe tbody tr th:only-of-type {\n",
       "        vertical-align: middle;\n",
       "    }\n",
       "\n",
       "    .dataframe tbody tr th {\n",
       "        vertical-align: top;\n",
       "    }\n",
       "\n",
       "    .dataframe thead th {\n",
       "        text-align: right;\n",
       "    }\n",
       "</style>\n",
       "<table border=\"1\" class=\"dataframe\">\n",
       "  <thead>\n",
       "    <tr style=\"text-align: right;\">\n",
       "      <th></th>\n",
       "      <th>A</th>\n",
       "      <th>B</th>\n",
       "    </tr>\n",
       "  </thead>\n",
       "  <tbody>\n",
       "    <tr>\n",
       "      <th>0</th>\n",
       "      <td>0</td>\n",
       "      <td>1</td>\n",
       "    </tr>\n",
       "    <tr>\n",
       "      <th>1</th>\n",
       "      <td>1</td>\n",
       "      <td>4</td>\n",
       "    </tr>\n",
       "    <tr>\n",
       "      <th>2</th>\n",
       "      <td>4</td>\n",
       "      <td>9</td>\n",
       "    </tr>\n",
       "  </tbody>\n",
       "</table>\n",
       "</div>"
      ],
      "text/plain": [
       "   A  B\n",
       "0  0  1\n",
       "1  1  4\n",
       "2  4  9"
      ]
     },
     "execution_count": 151,
     "metadata": {},
     "output_type": "execute_result"
    }
   ],
   "source": [
    "# applymap does the same on a dataframe\n",
    "df_5.applymap(lambda x: x**2)"
   ]
  },
  {
   "cell_type": "code",
   "execution_count": 152,
   "id": "010b6cfb",
   "metadata": {},
   "outputs": [
    {
     "data": {
      "text/plain": [
       "array([1., 2., 3., 4.])"
      ]
     },
     "execution_count": 152,
     "metadata": {},
     "output_type": "execute_result"
    }
   ],
   "source": [
    "# Get unique values in column 2 of DF\n",
    "df_2['two'].unique()"
   ]
  },
  {
   "cell_type": "code",
   "execution_count": 153,
   "id": "f3f20573",
   "metadata": {},
   "outputs": [
    {
     "data": {
      "text/plain": [
       "4"
      ]
     },
     "execution_count": 153,
     "metadata": {},
     "output_type": "execute_result"
    }
   ],
   "source": [
    "# Get number of uniques\n",
    "df_2['two'].nunique()"
   ]
  },
  {
   "cell_type": "code",
   "execution_count": 154,
   "id": "0425cb12",
   "metadata": {},
   "outputs": [
    {
     "data": {
      "text/plain": [
       "1.0    1\n",
       "2.0    1\n",
       "3.0    1\n",
       "4.0    1\n",
       "Name: two, dtype: int64"
      ]
     },
     "execution_count": 154,
     "metadata": {},
     "output_type": "execute_result"
    }
   ],
   "source": [
    "# Get the number of times each value showed in column 2\n",
    "df_2['two'].value_counts()"
   ]
  },
  {
   "cell_type": "code",
   "execution_count": 155,
   "id": "96776875",
   "metadata": {},
   "outputs": [
    {
     "data": {
      "text/plain": [
       "Index(['one', 'two'], dtype='object')"
      ]
     },
     "execution_count": 155,
     "metadata": {},
     "output_type": "execute_result"
    }
   ],
   "source": [
    "# Get column names\n",
    "df_2.columns"
   ]
  },
  {
   "cell_type": "code",
   "execution_count": 156,
   "id": "eeaea9c3",
   "metadata": {},
   "outputs": [
    {
     "data": {
      "text/plain": [
       "Index(['a', 'b', 'c', 'd'], dtype='object')"
      ]
     },
     "execution_count": 156,
     "metadata": {},
     "output_type": "execute_result"
    }
   ],
   "source": [
    "# Get index info\n",
    "df_2.index"
   ]
  },
  {
   "cell_type": "code",
   "execution_count": 157,
   "id": "d99f6663",
   "metadata": {},
   "outputs": [
    {
     "data": {
      "text/html": [
       "<div>\n",
       "<style scoped>\n",
       "    .dataframe tbody tr th:only-of-type {\n",
       "        vertical-align: middle;\n",
       "    }\n",
       "\n",
       "    .dataframe tbody tr th {\n",
       "        vertical-align: top;\n",
       "    }\n",
       "\n",
       "    .dataframe thead th {\n",
       "        text-align: right;\n",
       "    }\n",
       "</style>\n",
       "<table border=\"1\" class=\"dataframe\">\n",
       "  <thead>\n",
       "    <tr style=\"text-align: right;\">\n",
       "      <th></th>\n",
       "      <th>one</th>\n",
       "      <th>two</th>\n",
       "    </tr>\n",
       "  </thead>\n",
       "  <tbody>\n",
       "    <tr>\n",
       "      <th>a</th>\n",
       "      <td>False</td>\n",
       "      <td>False</td>\n",
       "    </tr>\n",
       "    <tr>\n",
       "      <th>b</th>\n",
       "      <td>False</td>\n",
       "      <td>False</td>\n",
       "    </tr>\n",
       "    <tr>\n",
       "      <th>c</th>\n",
       "      <td>False</td>\n",
       "      <td>False</td>\n",
       "    </tr>\n",
       "    <tr>\n",
       "      <th>d</th>\n",
       "      <td>True</td>\n",
       "      <td>False</td>\n",
       "    </tr>\n",
       "  </tbody>\n",
       "</table>\n",
       "</div>"
      ],
      "text/plain": [
       "     one    two\n",
       "a  False  False\n",
       "b  False  False\n",
       "c  False  False\n",
       "d   True  False"
      ]
     },
     "execution_count": 157,
     "metadata": {},
     "output_type": "execute_result"
    }
   ],
   "source": [
    "# Return a DF that lists null values as True\n",
    "df_2.isnull()"
   ]
  }
 ],
 "metadata": {
  "kernelspec": {
   "display_name": "Python 3 (ipykernel)",
   "language": "python",
   "name": "python3"
  },
  "language_info": {
   "codemirror_mode": {
    "name": "ipython",
    "version": 3
   },
   "file_extension": ".py",
   "mimetype": "text/x-python",
   "name": "python",
   "nbconvert_exporter": "python",
   "pygments_lexer": "ipython3",
   "version": "3.8.12"
  },
  "toc": {
   "base_numbering": 1,
   "nav_menu": {},
   "number_sections": true,
   "sideBar": true,
   "skip_h1_title": false,
   "title_cell": "Table of Contents",
   "title_sidebar": "Contents",
   "toc_cell": false,
   "toc_position": {},
   "toc_section_display": true,
   "toc_window_display": false
  }
 },
 "nbformat": 4,
 "nbformat_minor": 5
}
